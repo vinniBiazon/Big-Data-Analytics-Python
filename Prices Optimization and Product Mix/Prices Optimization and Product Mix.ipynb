{
 "cells": [
  {
   "cell_type": "markdown",
   "metadata": {},
   "source": [
    "# <font color='blue'>Prices Optimization and Product Mix</font>"
   ]
  },
  {
   "cell_type": "code",
   "execution_count": 1,
   "metadata": {},
   "outputs": [
    {
     "name": "stdout",
     "output_type": "stream",
     "text": [
      "Python Language Version Used in This Jupyter Notebook: 3.7.16\n"
     ]
    }
   ],
   "source": [
    "# Python Language Version\n",
    "from platform import python_version\n",
    "print('Python Language Version Used in This Jupyter Notebook:', python_version())"
   ]
  },
  {
   "cell_type": "markdown",
   "metadata": {},
   "source": [
    "## Defining the Problem\n",
    "\n",
    "Smart Moon Tech assembles and tests two smartphone models, Moon1 and Moon2. For the next month, the company wants to decide how many units of each model it will assemble and then test.\n",
    "\n",
    "No smartphone is in stock since the previous month and as these models will be replaced after this month, the company doesn't want to keep any stock for the following month.\n",
    "\n",
    "They believe that the most they can sell this month is 600 Moon1 units and 1200 Moon2 units.\n",
    "\n",
    "Each Moon1 model is sold for 300 and each Moon2 model for 450. The component cost for a Moon1 is 150 and for a Moon2 it is 225.\n",
    "\n",
    "Labor is required for assembly and testing. There are a maximum of 10,000 hours of assembly and 3,000 hours of testing available. Each working hour for assembly costs 11 and each working hour for testing costs 15. Each Moon1 requires five hours for assembly and one hour for testing. Each Moon2 requires six hours for assembly and two hours for testing.\n",
    "\n",
    "Smart Moon Tech wants to know how many units of each model it should produce (build and test) to maximize its net profit, but it can't use more man hours than it has available and it doesn't want to produce more than it can sell.\n",
    "\n",
    "We will optimize prices and mix of Smart Moon Tech products."
   ]
  },
  {
   "cell_type": "markdown",
   "metadata": {},
   "source": [
    "## Loading Packages"
   ]
  },
  {
   "cell_type": "code",
   "execution_count": 2,
   "metadata": {},
   "outputs": [],
   "source": [
    "# Imports\n",
    "from pulp import *"
   ]
  },
  {
   "cell_type": "markdown",
   "metadata": {},
   "source": [
    "## Creating the Mathematical Model for the Optimization"
   ]
  },
  {
   "cell_type": "markdown",
   "metadata": {},
   "source": [
    "### Parameters"
   ]
  },
  {
   "cell_type": "markdown",
   "metadata": {},
   "source": [
    "- Ai = Maximum number of type i smartphones to sell this month, where i belongs to the set {Moon1, Moon2}\n",
    "- Bi = Sale price of smartphones model type i, where i belongs to the set {Moon1, Moon2}\n",
    "- Ci = Cost price of component parts for type i smartphones, where i belongs to the set {Moon1, Moon2}\n",
    "- Di = Assembly labor cost per hour of type i smartphones, where i belongs to the set {Moon1, Moon2}\n",
    "- Ei = Cost of test labor per hour of smartphones model type i, where i belongs to the set {Moon1, Moon2}\n",
    "- F = Maximum number of hours of assembly work\n",
    "- G = Maximum number of hours of test work\n",
    "- Hf,i = Hours of assembly required to build each model of smartphone type i, where i belongs to the set {Moon1, Moon2}\n",
    "- Hg,i = Hours of testing required to test each smartphone model type i, where i belongs to the set {Moon1, Moon2}"
   ]
  },
  {
   "cell_type": "markdown",
   "metadata": {},
   "source": [
    "### Decision Variable"
   ]
  },
  {
   "cell_type": "markdown",
   "metadata": {},
   "source": [
    "- Xi = Type i smartphone numbers to be produced this month, where i belongs to the set {Moon1, Moon2}"
   ]
  },
  {
   "cell_type": "markdown",
   "metadata": {},
   "source": [
    "### Restrictions"
   ]
  },
  {
   "cell_type": "markdown",
   "metadata": {},
   "source": [
    "- The number of type i smartphones to be produced cannot be negative, that is, Xi >= 0, where i belongs to the set {Moon1, Moon2}.\n",
    "\n",
    "\n",
    "- The total number of assembly hours cannot be greater than the maximum number of assembly labor hours available.\n",
    "\n",
    "\n",
    "- The total number of test hours cannot be greater than the maximum test manpower hours available.\n",
    "\n",
    "\n",
    "- The number of type i smartphones to be produced cannot be greater than the maximum number of type i smartphones to be sold in this month, where i belongs to the set {Moon1, Moon2}."
   ]
  },
  {
   "cell_type": "markdown",
   "metadata": {},
   "source": [
    "## Mathematical Model Implementing \n",
    "\n",
    "### Parameters Organizing"
   ]
  },
  {
   "cell_type": "code",
   "execution_count": 3,
   "metadata": {},
   "outputs": [],
   "source": [
    "# Maximum number of smartphones to sell this month\n",
    "A_Moon1 = 600\n",
    "A_Moon2 = 1200"
   ]
  },
  {
   "cell_type": "code",
   "execution_count": 4,
   "metadata": {},
   "outputs": [],
   "source": [
    "# Smartphone selling price\n",
    "B_Moon1 = 300 \n",
    "B_Moon2 = 450 "
   ]
  },
  {
   "cell_type": "code",
   "execution_count": 5,
   "metadata": {},
   "outputs": [],
   "source": [
    "# Cost price of component parts for smartphones\n",
    "C_Moon1 = 150\n",
    "C_Moon2 = 225"
   ]
  },
  {
   "cell_type": "code",
   "execution_count": 6,
   "metadata": {},
   "outputs": [],
   "source": [
    "# Assembly labor cost per hour of smartphones\n",
    "D_Moon1 = 11\n",
    "D_Moon2 = 11"
   ]
  },
  {
   "cell_type": "code",
   "execution_count": 7,
   "metadata": {},
   "outputs": [],
   "source": [
    "# Testing labor cost per hour of smartphones\n",
    "E_Moon1 = 15 \n",
    "E_Moon2 = 15 "
   ]
  },
  {
   "cell_type": "code",
   "execution_count": 8,
   "metadata": {},
   "outputs": [],
   "source": [
    "# Maximum number of hours of assembly work\n",
    "F = 10000 "
   ]
  },
  {
   "cell_type": "code",
   "execution_count": 9,
   "metadata": {},
   "outputs": [],
   "source": [
    "# Maximum number of hours of test work\n",
    "G = 3000 "
   ]
  },
  {
   "cell_type": "code",
   "execution_count": 10,
   "metadata": {},
   "outputs": [],
   "source": [
    "# Hours of assembly required to build each smartphone model\n",
    "Hfi_Moon1 = 5\n",
    "Hfi_Moon2 = 6"
   ]
  },
  {
   "cell_type": "code",
   "execution_count": 11,
   "metadata": {},
   "outputs": [],
   "source": [
    "# Hours of testing required to test each smartphone model\n",
    "Hgi_Moon1 = 1 \n",
    "Hgi_Moon2 = 2"
   ]
  },
  {
   "cell_type": "markdown",
   "metadata": {},
   "source": [
    "### Creating the Variable for the Optimization Problem"
   ]
  },
  {
   "cell_type": "code",
   "execution_count": 12,
   "metadata": {},
   "outputs": [
    {
     "name": "stdout",
     "output_type": "stream",
     "text": [
      "Help on class LpProblem in module pulp.pulp:\n",
      "\n",
      "class LpProblem(builtins.object)\n",
      " |  LpProblem(name='NoName', sense=1)\n",
      " |  \n",
      " |  An LP Problem\n",
      " |  \n",
      " |  Methods defined here:\n",
      " |  \n",
      " |  __getstate__(self)\n",
      " |  \n",
      " |  __iadd__(self, other)\n",
      " |  \n",
      " |  __init__(self, name='NoName', sense=1)\n",
      " |      Creates an LP Problem\n",
      " |      \n",
      " |      This function creates a new LP Problem  with the specified associated parameters\n",
      " |      \n",
      " |      :param name: name of the problem used in the output .lp file\n",
      " |      :param sense: of the LP problem objective.                  Either :data:`~pulp.const.LpMinimize` (default)                 or :data:`~pulp.const.LpMaximize`.\n",
      " |      :return: An LP Problem\n",
      " |  \n",
      " |  __repr__(self)\n",
      " |      Return repr(self).\n",
      " |  \n",
      " |  __setstate__(self, state)\n",
      " |  \n",
      " |  add(self, constraint, name=None)\n",
      " |  \n",
      " |  addConstraint(self, constraint, name=None)\n",
      " |  \n",
      " |  addVariable(self, variable)\n",
      " |      Adds a variable to the problem before a constraint is added\n",
      " |      \n",
      " |      @param variable: the variable to be added\n",
      " |  \n",
      " |  addVariables(self, variables)\n",
      " |      Adds variables to the problem before a constraint is added\n",
      " |      \n",
      " |      @param variables: the variables to be added\n",
      " |  \n",
      " |  assignConsPi(self, values)\n",
      " |  \n",
      " |  assignConsSlack(self, values, activity=False)\n",
      " |  \n",
      " |  assignStatus(self, status, sol_status=None)\n",
      " |      Sets the status of the model after solving.\n",
      " |      :param status: code for the status of the model\n",
      " |      :param sol_status: code for the status of the solution\n",
      " |      :return:\n",
      " |  \n",
      " |  assignVarsDj(self, values)\n",
      " |  \n",
      " |  assignVarsVals(self, values)\n",
      " |  \n",
      " |  checkDuplicateVars(self)\n",
      " |      Checks if there are at least two variables with the same name\n",
      " |      :return: 1\n",
      " |      :raises `const.PulpError`: if there ar duplicates\n",
      " |  \n",
      " |  checkLengthVars(self, max_length)\n",
      " |      Checks if variables have names smaller than `max_length`\n",
      " |      :param int max_length: max size for variable name\n",
      " |      :return:\n",
      " |      :raises const.PulpError: if there is at least one variable that has a long name\n",
      " |  \n",
      " |  coefficients(self, translation=None)\n",
      " |  \n",
      " |  copy(self)\n",
      " |      Make a copy of self. Expressions are copied by reference\n",
      " |  \n",
      " |  deepcopy(self)\n",
      " |      Make a copy of self. Expressions are copied by value\n",
      " |  \n",
      " |  extend(self, other, use_objective=True)\n",
      " |      extends an LpProblem by adding constraints either from a dictionary\n",
      " |      a tuple or another LpProblem object.\n",
      " |      \n",
      " |      @param use_objective: determines whether the objective is imported from\n",
      " |      the other problem\n",
      " |      \n",
      " |      For dictionaries the constraints will be named with the keys\n",
      " |      For tuples an unique name will be generated\n",
      " |      For LpProblems the name of the problem will be added to the constraints\n",
      " |      name\n",
      " |  \n",
      " |  fixObjective(self)\n",
      " |  \n",
      " |  getSense(self)\n",
      " |  \n",
      " |  get_dummyVar(self)\n",
      " |  \n",
      " |  infeasibilityGap(self, mip=1)\n",
      " |  \n",
      " |  isMIP(self)\n",
      " |  \n",
      " |  normalisedNames(self)\n",
      " |  \n",
      " |  numConstraints(self)\n",
      " |      :return: number of constraints in model\n",
      " |  \n",
      " |  numVariables(self)\n",
      " |      :return: number of variables in model\n",
      " |  \n",
      " |  resolve(self, solver=None, **kwargs)\n",
      " |      resolves an Problem using the same solver as previously\n",
      " |  \n",
      " |  restoreObjective(self, wasNone, dummyVar)\n",
      " |  \n",
      " |  roundSolution(self, epsInt=1e-05, eps=1e-07)\n",
      " |      Rounds the lp variables\n",
      " |      \n",
      " |      Inputs:\n",
      " |          - none\n",
      " |      \n",
      " |      Side Effects:\n",
      " |          - The lp variables are rounded\n",
      " |  \n",
      " |  sequentialSolve(self, objectives, absoluteTols=None, relativeTols=None, solver=None, debug=False)\n",
      " |      Solve the given Lp problem with several objective functions.\n",
      " |      \n",
      " |      This function sequentially changes the objective of the problem\n",
      " |      and then adds the objective function as a constraint\n",
      " |      \n",
      " |      :param objectives: the list of objectives to be used to solve the problem\n",
      " |      :param absoluteTols: the list of absolute tolerances to be applied to\n",
      " |         the constraints should be +ve for a minimise objective\n",
      " |      :param relativeTols: the list of relative tolerances applied to the constraints\n",
      " |      :param solver: the specific solver to be used, defaults to the default solver.\n",
      " |  \n",
      " |  setObjective(self, obj)\n",
      " |      Sets the input variable as the objective function. Used in Columnwise Modelling\n",
      " |      \n",
      " |      :param obj: the objective function of type :class:`LpConstraintVar`\n",
      " |      \n",
      " |      Side Effects:\n",
      " |          - The objective function is set\n",
      " |  \n",
      " |  setSolver(self, solver=<pulp.apis.coin_api.PULP_CBC_CMD object at 0x000001A49CE88208>)\n",
      " |      Sets the Solver for this problem useful if you are using\n",
      " |      resolve\n",
      " |  \n",
      " |  solve(self, solver=None, **kwargs)\n",
      " |      Solve the given Lp problem.\n",
      " |      \n",
      " |      This function changes the problem to make it suitable for solving\n",
      " |      then calls the solver.actualSolve() method to find the solution\n",
      " |      \n",
      " |      :param solver:  Optional: the specific solver to be used, defaults to the\n",
      " |            default solver.\n",
      " |      \n",
      " |      Side Effects:\n",
      " |          - The attributes of the problem object are changed in\n",
      " |            :meth:`~pulp.solver.LpSolver.actualSolve()` to reflect the Lp solution\n",
      " |  \n",
      " |  startClock(self)\n",
      " |      initializes properties with the current time\n",
      " |  \n",
      " |  stopClock(self)\n",
      " |      updates time wall time and cpu time\n",
      " |  \n",
      " |  toDict(self)\n",
      " |      creates a dictionary from the model with as much data as possible.\n",
      " |      It replaces variables by variable names.\n",
      " |      So it requires to have unique names for variables.\n",
      " |      \n",
      " |      :return: dictionary with model data\n",
      " |      :rtype: dict\n",
      " |  \n",
      " |  toJson(self, filename, *args, **kwargs)\n",
      " |      Creates a json file from the LpProblem information\n",
      " |      \n",
      " |      :param str filename: filename to write json\n",
      " |      :param args: additional arguments for json function\n",
      " |      :param kwargs: additional keyword arguments for json function\n",
      " |      :return: None\n",
      " |  \n",
      " |  to_dict = toDict(self)\n",
      " |  \n",
      " |  to_json = toJson(self, filename, *args, **kwargs)\n",
      " |  \n",
      " |  unusedConstraintName(self)\n",
      " |  \n",
      " |  valid(self, eps=0)\n",
      " |  \n",
      " |  variables(self)\n",
      " |      Returns the problem variables\n",
      " |      \n",
      " |      :return: A list containing the problem variables\n",
      " |      :rtype: (list, :py:class:`LpVariable`)\n",
      " |  \n",
      " |  variablesDict(self)\n",
      " |  \n",
      " |  writeLP(self, filename, writeSOS=1, mip=1, max_length=100)\n",
      " |      Write the given Lp problem to a .lp file.\n",
      " |      \n",
      " |      This function writes the specifications (objective function,\n",
      " |      constraints, variables) of the defined Lp problem to a file.\n",
      " |      \n",
      " |      :param str filename: the name of the file to be created.\n",
      " |      :return: variables\n",
      " |      Side Effects:\n",
      " |          - The file is created\n",
      " |  \n",
      " |  writeMPS(self, filename, mpsSense=0, rename=0, mip=1)\n",
      " |      Writes an mps files from the problem information\n",
      " |      \n",
      " |      :param str filename: name of the file to write\n",
      " |      :param int mpsSense:\n",
      " |      :param bool rename: if True, normalized names are used for variables and constraints\n",
      " |      :param mip: variables and variable renames\n",
      " |      :return:\n",
      " |      Side Effects:\n",
      " |          - The file is created\n",
      " |  \n",
      " |  ----------------------------------------------------------------------\n",
      " |  Class methods defined here:\n",
      " |  \n",
      " |  fromDict(_dict) from builtins.type\n",
      " |      Takes a dictionary with all necessary information to build a model.\n",
      " |      And returns a dictionary of variables and a problem object\n",
      " |      \n",
      " |      :param _dict: dictionary with the model stored\n",
      " |      :return: a tuple with a dictionary of variables and a :py:class:`LpProblem`\n",
      " |  \n",
      " |  fromJson(filename) from builtins.type\n",
      " |      Creates a new Lp Problem from a json file with information\n",
      " |      \n",
      " |      :param str filename: json file name\n",
      " |      :return: a tuple with a dictionary of variables and an LpProblem\n",
      " |      :rtype: (dict, :py:class:`LpProblem`)\n",
      " |  \n",
      " |  fromMPS(filename, sense=1, **kwargs) from builtins.type\n",
      " |  \n",
      " |  from_dict = fromDict(_dict) from builtins.type\n",
      " |      Takes a dictionary with all necessary information to build a model.\n",
      " |      And returns a dictionary of variables and a problem object\n",
      " |      \n",
      " |      :param _dict: dictionary with the model stored\n",
      " |      :return: a tuple with a dictionary of variables and a :py:class:`LpProblem`\n",
      " |  \n",
      " |  from_json = fromJson(filename) from builtins.type\n",
      " |      Creates a new Lp Problem from a json file with information\n",
      " |      \n",
      " |      :param str filename: json file name\n",
      " |      :return: a tuple with a dictionary of variables and an LpProblem\n",
      " |      :rtype: (dict, :py:class:`LpProblem`)\n",
      " |  \n",
      " |  ----------------------------------------------------------------------\n",
      " |  Data descriptors defined here:\n",
      " |  \n",
      " |  __dict__\n",
      " |      dictionary for instance variables (if defined)\n",
      " |  \n",
      " |  __weakref__\n",
      " |      list of weak references to the object (if defined)\n",
      "\n"
     ]
    }
   ],
   "source": [
    "help(LpProblem)"
   ]
  },
  {
   "cell_type": "code",
   "execution_count": 13,
   "metadata": {},
   "outputs": [],
   "source": [
    "# Variable for the problem\n",
    "problem = LpProblem(\"ProductMix\", LpMaximize)"
   ]
  },
  {
   "cell_type": "code",
   "execution_count": 14,
   "metadata": {},
   "outputs": [
    {
     "data": {
      "text/plain": [
       "ProductMix:\n",
       "MAXIMIZE\n",
       "None\n",
       "VARIABLES"
      ]
     },
     "execution_count": 14,
     "metadata": {},
     "output_type": "execute_result"
    }
   ],
   "source": [
    "# Visualize\n",
    "problem"
   ]
  },
  {
   "cell_type": "markdown",
   "metadata": {},
   "source": [
    "### Defining the Decision Variable for Each Smartphone Model"
   ]
  },
  {
   "cell_type": "code",
   "execution_count": 15,
   "metadata": {},
   "outputs": [
    {
     "name": "stdout",
     "output_type": "stream",
     "text": [
      "Help on class LpVariable in module pulp.pulp:\n",
      "\n",
      "class LpVariable(LpElement)\n",
      " |  LpVariable(name, lowBound=None, upBound=None, cat='Continuous', e=None)\n",
      " |  \n",
      " |  This class models an LP Variable with the specified associated parameters\n",
      " |  \n",
      " |  :param name: The name of the variable used in the output .lp file\n",
      " |  :param lowBound: The lower bound on this variable's range.\n",
      " |      Default is negative infinity\n",
      " |  :param upBound: The upper bound on this variable's range.\n",
      " |      Default is positive infinity\n",
      " |  :param cat: The category this variable is in, Integer, Binary or\n",
      " |      Continuous(default)\n",
      " |  :param e: Used for column based modelling: relates to the variable's\n",
      " |      existence in the objective function and constraints\n",
      " |  \n",
      " |  Method resolution order:\n",
      " |      LpVariable\n",
      " |      LpElement\n",
      " |      builtins.object\n",
      " |  \n",
      " |  Methods defined here:\n",
      " |  \n",
      " |  __init__(self, name, lowBound=None, upBound=None, cat='Continuous', e=None)\n",
      " |      Initialize self.  See help(type(self)) for accurate signature.\n",
      " |  \n",
      " |  __ne__(self, other)\n",
      " |      Return self!=value.\n",
      " |  \n",
      " |  addVariableToConstraints(self, e)\n",
      " |      adds a variable to the constraints indicated by\n",
      " |      the LpConstraintVars in e\n",
      " |  \n",
      " |  add_expression(self, e)\n",
      " |  \n",
      " |  asCplexLpAffineExpression(self, name, constant=1)\n",
      " |  \n",
      " |  asCplexLpVariable(self)\n",
      " |  \n",
      " |  bounds(self, low, up)\n",
      " |  \n",
      " |  fixValue(self)\n",
      " |      changes lower bound and upper bound to the initial value if exists.\n",
      " |      :return: None\n",
      " |  \n",
      " |  getLb(self)\n",
      " |  \n",
      " |  getUb(self)\n",
      " |  \n",
      " |  infeasibilityGap(self, mip=1)\n",
      " |  \n",
      " |  isBinary(self)\n",
      " |  \n",
      " |  isConstant(self)\n",
      " |  \n",
      " |  isFixed(self)\n",
      " |      :return: True if upBound and lowBound are the same\n",
      " |      :rtype: bool\n",
      " |  \n",
      " |  isFree(self)\n",
      " |  \n",
      " |  isInteger(self)\n",
      " |  \n",
      " |  isPositive(self)\n",
      " |  \n",
      " |  positive(self)\n",
      " |  \n",
      " |  round(self, epsInt=1e-05, eps=1e-07)\n",
      " |  \n",
      " |  roundedValue(self, eps=1e-05)\n",
      " |  \n",
      " |  setInitialValue(self, val, check=True)\n",
      " |      sets the initial value of the variable to `val`\n",
      " |      May be used for warmStart a solver, if supported by the solver\n",
      " |      \n",
      " |      :param float val: value to set to variable\n",
      " |      :param bool check: if True, we check if the value fits inside the variable bounds\n",
      " |      :return: True if the value was set\n",
      " |      :raises ValueError: if check=True and the value does not fit inside the bounds\n",
      " |  \n",
      " |  toDict(self)\n",
      " |      Exports a variable into a dictionary with its relevant information\n",
      " |      \n",
      " |      :return: a dictionary with the variable information\n",
      " |      :rtype: dict\n",
      " |  \n",
      " |  to_dict = toDict(self)\n",
      " |  \n",
      " |  unfixValue(self)\n",
      " |  \n",
      " |  valid(self, eps)\n",
      " |  \n",
      " |  value(self)\n",
      " |  \n",
      " |  valueOrDefault(self)\n",
      " |  \n",
      " |  ----------------------------------------------------------------------\n",
      " |  Class methods defined here:\n",
      " |  \n",
      " |  dict(name, indices, lowBound=None, upBound=None, cat='Continuous') from builtins.type\n",
      " |  \n",
      " |  dicts(name, indices=None, lowBound=None, upBound=None, cat='Continuous', indexStart=[], indexs=None) from builtins.type\n",
      " |      This function creates a dictionary of :py:class:`LpVariable` with the specified associated parameters.\n",
      " |      \n",
      " |      :param name: The prefix to the name of each LP variable created\n",
      " |      :param indices: A list of strings of the keys to the dictionary of LP\n",
      " |          variables, and the main part of the variable name itself\n",
      " |      :param lowBound: The lower bound on these variables' range. Default is\n",
      " |          negative infinity\n",
      " |      :param upBound: The upper bound on these variables' range. Default is\n",
      " |          positive infinity\n",
      " |      :param cat: The category these variables are in, Integer or\n",
      " |          Continuous(default)\n",
      " |      :param indexs: (deprecated) Replaced with `indices` parameter\n",
      " |      \n",
      " |      :return: A dictionary of :py:class:`LpVariable`\n",
      " |  \n",
      " |  fromDict(dj=None, varValue=None, **kwargs) from builtins.type\n",
      " |      Initializes a variable object from information that comes from a dictionary (kwargs)\n",
      " |      \n",
      " |      :param dj: shadow price of the variable\n",
      " |      :param float varValue: the value to set the variable\n",
      " |      :param kwargs: arguments to initialize the variable\n",
      " |      :return: a :py:class:`LpVariable`\n",
      " |      :rtype: :LpVariable\n",
      " |  \n",
      " |  from_dict = fromDict(dj=None, varValue=None, **kwargs) from builtins.type\n",
      " |      Initializes a variable object from information that comes from a dictionary (kwargs)\n",
      " |      \n",
      " |      :param dj: shadow price of the variable\n",
      " |      :param float varValue: the value to set the variable\n",
      " |      :param kwargs: arguments to initialize the variable\n",
      " |      :return: a :py:class:`LpVariable`\n",
      " |      :rtype: :LpVariable\n",
      " |  \n",
      " |  matrix(name, indices=None, lowBound=None, upBound=None, cat='Continuous', indexStart=[], indexs=None) from builtins.type\n",
      " |  \n",
      " |  ----------------------------------------------------------------------\n",
      " |  Methods inherited from LpElement:\n",
      " |  \n",
      " |  __add__(self, other)\n",
      " |  \n",
      " |  __bool__(self)\n",
      " |  \n",
      " |  __div__(self, other)\n",
      " |  \n",
      " |  __eq__(self, other)\n",
      " |      Return self==value.\n",
      " |  \n",
      " |  __ge__(self, other)\n",
      " |      Return self>=value.\n",
      " |  \n",
      " |  __hash__(self)\n",
      " |      Return hash(self).\n",
      " |  \n",
      " |  __le__(self, other)\n",
      " |      Return self<=value.\n",
      " |  \n",
      " |  __mul__(self, other)\n",
      " |  \n",
      " |  __neg__(self)\n",
      " |  \n",
      " |  __pos__(self)\n",
      " |  \n",
      " |  __radd__(self, other)\n",
      " |  \n",
      " |  __rdiv__(self, other)\n",
      " |  \n",
      " |  __repr__(self)\n",
      " |      Return repr(self).\n",
      " |  \n",
      " |  __rmul__(self, other)\n",
      " |  \n",
      " |  __rsub__(self, other)\n",
      " |  \n",
      " |  __str__(self)\n",
      " |      Return str(self).\n",
      " |  \n",
      " |  __sub__(self, other)\n",
      " |  \n",
      " |  getName(self)\n",
      " |  \n",
      " |  setName(self, name)\n",
      " |  \n",
      " |  ----------------------------------------------------------------------\n",
      " |  Data descriptors inherited from LpElement:\n",
      " |  \n",
      " |  __dict__\n",
      " |      dictionary for instance variables (if defined)\n",
      " |  \n",
      " |  __weakref__\n",
      " |      list of weak references to the object (if defined)\n",
      " |  \n",
      " |  name\n",
      " |  \n",
      " |  ----------------------------------------------------------------------\n",
      " |  Data and other attributes inherited from LpElement:\n",
      " |  \n",
      " |  expression = re.compile('[\\\\-\\\\+\\\\[\\\\]\\\\ \\\\->/]')\n",
      " |  \n",
      " |  illegal_chars = '-+[] ->/'\n",
      " |  \n",
      " |  trans = {32: 95, 43: 95, 45: 95, 47: 95, 62: 95, 91: 95, 93: 95}\n",
      "\n"
     ]
    }
   ],
   "source": [
    "help(LpVariable)"
   ]
  },
  {
   "cell_type": "code",
   "execution_count": 16,
   "metadata": {},
   "outputs": [],
   "source": [
    "# Define the variables\n",
    "x_Moon1 = LpVariable(\"Moon1 Units\", 0, None, LpInteger)\n",
    "x_Moon2 = LpVariable(\"Moon2 Units\", 0, None, LpInteger)"
   ]
  },
  {
   "cell_type": "code",
   "execution_count": 17,
   "metadata": {},
   "outputs": [
    {
     "name": "stdout",
     "output_type": "stream",
     "text": [
      "Moon1_Units\n",
      "Moon2_Units\n"
     ]
    }
   ],
   "source": [
    "# Print\n",
    "print(x_Moon1)\n",
    "print(x_Moon2)"
   ]
  },
  {
   "cell_type": "markdown",
   "metadata": {},
   "source": [
    "### Implementing the Objective Function"
   ]
  },
  {
   "cell_type": "code",
   "execution_count": 18,
   "metadata": {},
   "outputs": [
    {
     "data": {
      "text/plain": [
       "300*Moon1_Units + 450*Moon2_Units + 0"
      ]
     },
     "execution_count": 18,
     "metadata": {},
     "output_type": "execute_result"
    }
   ],
   "source": [
    "# Revenue\n",
    "revenue = (x_Moon1 * B_Moon1) + (x_Moon2 * B_Moon2)\n",
    "revenue"
   ]
  },
  {
   "cell_type": "code",
   "execution_count": 19,
   "metadata": {},
   "outputs": [
    {
     "data": {
      "text/plain": [
       "55*Moon1_Units + 66*Moon2_Units + 0"
      ]
     },
     "execution_count": 19,
     "metadata": {},
     "output_type": "execute_result"
    }
   ],
   "source": [
    "# Assembly Cost\n",
    "assembly_cost = (x_Moon1 * Hfi_Moon1 * D_Moon1) + (x_Moon2 * Hfi_Moon2 * D_Moon2)\n",
    "assembly_cost"
   ]
  },
  {
   "cell_type": "code",
   "execution_count": 20,
   "metadata": {},
   "outputs": [
    {
     "data": {
      "text/plain": [
       "15*Moon1_Units + 30*Moon2_Units + 0"
      ]
     },
     "execution_count": 20,
     "metadata": {},
     "output_type": "execute_result"
    }
   ],
   "source": [
    "# Test Cost\n",
    "test_cost = (x_Moon1 * Hgi_Moon1 * E_Moon1) + (x_Moon2 * Hgi_Moon2 * E_Moon2)\n",
    "test_cost"
   ]
  },
  {
   "cell_type": "code",
   "execution_count": 21,
   "metadata": {},
   "outputs": [
    {
     "data": {
      "text/plain": [
       "150*Moon1_Units + 225*Moon2_Units + 0"
      ]
     },
     "execution_count": 21,
     "metadata": {},
     "output_type": "execute_result"
    }
   ],
   "source": [
    "# Components Cost\n",
    "components_cost = (x_Moon1 * C_Moon1) + (x_Moon2 * C_Moon2) \n",
    "components_cost"
   ]
  },
  {
   "cell_type": "code",
   "execution_count": 22,
   "metadata": {},
   "outputs": [
    {
     "data": {
      "text/plain": [
       "ProductMix:\n",
       "MAXIMIZE\n",
       "80*Moon1_Units + 129*Moon2_Units + 0\n",
       "VARIABLES\n",
       "0 <= Moon1_Units Integer\n",
       "0 <= Moon2_Units Integer"
      ]
     },
     "execution_count": 22,
     "metadata": {},
     "output_type": "execute_result"
    }
   ],
   "source": [
    "# Profit = Revenue - Assembly Cost - Test Cost - Component Cost\n",
    "problem += revenue - assembly_cost - test_cost - components_cost\n",
    "problem"
   ]
  },
  {
   "cell_type": "markdown",
   "metadata": {},
   "source": [
    "### Restrictions"
   ]
  },
  {
   "cell_type": "code",
   "execution_count": 23,
   "metadata": {},
   "outputs": [],
   "source": [
    "# Maximum Number of Assembly Hours\n",
    "problem += (x_Moon1 * Hfi_Moon1) + (x_Moon2 * Hfi_Moon2) <= F,\"Maximum Number of Assembly Hours\""
   ]
  },
  {
   "cell_type": "code",
   "execution_count": 24,
   "metadata": {},
   "outputs": [],
   "source": [
    "# Maximum Number of Test Hours\n",
    "problem += (x_Moon1 * Hgi_Moon1) + (x_Moon2 * Hgi_Moon2) <= G,\"Maximum Number of Test Hours\""
   ]
  },
  {
   "cell_type": "code",
   "execution_count": 25,
   "metadata": {},
   "outputs": [],
   "source": [
    "# Production less than or equal to demand for the Moon1 model\n",
    "problem += x_Moon1 <= A_Moon1,\"Production less than or equal to demand for the Moon1 model\""
   ]
  },
  {
   "cell_type": "code",
   "execution_count": 26,
   "metadata": {},
   "outputs": [],
   "source": [
    "# Production less than or equal to demand for the Moon2 model\n",
    "problem += x_Moon2 <= A_Moon2,\"Production less than or equal to demand for the Moon2 model\""
   ]
  },
  {
   "cell_type": "code",
   "execution_count": 27,
   "metadata": {},
   "outputs": [
    {
     "data": {
      "text/plain": [
       "ProductMix:\n",
       "MAXIMIZE\n",
       "80*Moon1_Units + 129*Moon2_Units + 0\n",
       "SUBJECT TO\n",
       "Maximum_Number_of_Assembly_Hours: 5 Moon1_Units + 6 Moon2_Units <= 10000\n",
       "\n",
       "Maximum_Number_of_Test_Hours: Moon1_Units + 2 Moon2_Units <= 3000\n",
       "\n",
       "Production_less_than_or_equal_to_demand_for_the_Moon1_model: Moon1_Units\n",
       " <= 600\n",
       "\n",
       "Production_less_than_or_equal_to_demand_for_the_Moon2_model: Moon2_Units\n",
       " <= 1200\n",
       "\n",
       "VARIABLES\n",
       "0 <= Moon1_Units Integer\n",
       "0 <= Moon2_Units Integer"
      ]
     },
     "execution_count": 27,
     "metadata": {},
     "output_type": "execute_result"
    }
   ],
   "source": [
    "# Final problem\n",
    "problem"
   ]
  },
  {
   "cell_type": "markdown",
   "metadata": {},
   "source": [
    "### Solving the Optimization problem"
   ]
  },
  {
   "cell_type": "code",
   "execution_count": 28,
   "metadata": {},
   "outputs": [
    {
     "data": {
      "text/plain": [
       "1"
      ]
     },
     "execution_count": 28,
     "metadata": {},
     "output_type": "execute_result"
    }
   ],
   "source": [
    "# Optimization\n",
    "problem.solve()"
   ]
  },
  {
   "cell_type": "code",
   "execution_count": 29,
   "metadata": {},
   "outputs": [
    {
     "name": "stdout",
     "output_type": "stream",
     "text": [
      "Maximized Profit: 199600.0\n"
     ]
    }
   ],
   "source": [
    "# Maximized Profit\n",
    "print(\"Maximized Profit:\", value(problem.objective))"
   ]
  },
  {
   "cell_type": "code",
   "execution_count": 30,
   "metadata": {},
   "outputs": [
    {
     "name": "stdout",
     "output_type": "stream",
     "text": [
      "Number of Moon1 Model Units to be Produced: 560.0\n"
     ]
    }
   ],
   "source": [
    "# Number of Moon1 Model Units to be Produced\n",
    "print(\"Number of Moon1 Model Units to be Produced:\", problem.variables()[0].varValue)"
   ]
  },
  {
   "cell_type": "code",
   "execution_count": 31,
   "metadata": {},
   "outputs": [
    {
     "name": "stdout",
     "output_type": "stream",
     "text": [
      "Number of Moon2 Model Units to be Produced: 1200.0\n"
     ]
    }
   ],
   "source": [
    "# Number of Moon2 Model Units to be Produced\n",
    "print(\"Number of Moon2 Model Units to be Produced:\", problem.variables()[1].varValue)"
   ]
  },
  {
   "cell_type": "markdown",
   "metadata": {},
   "source": [
    "##  Conclusion"
   ]
  },
  {
   "cell_type": "markdown",
   "metadata": {},
   "source": [
    "The company Moon Smart Tech must produce 560 Moon1 units and 1200 Moon2 units to reach the maximum profit of 199,600."
   ]
  },
  {
   "cell_type": "markdown",
   "metadata": {},
   "source": [
    "# End"
   ]
  }
 ],
 "metadata": {
  "kernelspec": {
   "display_name": "Python 3",
   "language": "python",
   "name": "python3"
  },
  "language_info": {
   "codemirror_mode": {
    "name": "ipython",
    "version": 3
   },
   "file_extension": ".py",
   "mimetype": "text/x-python",
   "name": "python",
   "nbconvert_exporter": "python",
   "pygments_lexer": "ipython3",
   "version": "3.7.16"
  }
 },
 "nbformat": 4,
 "nbformat_minor": 2
}
