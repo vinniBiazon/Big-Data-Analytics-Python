{
 "cells": [
  {
   "cell_type": "code",
   "execution_count": 1,
   "metadata": {},
   "outputs": [
    {
     "name": "stdout",
     "output_type": "stream",
     "text": [
      "Python Language Version Used in This Jupyter Notebook: 3.7.4\n"
     ]
    }
   ],
   "source": [
    "# Python Language Version\n",
    "from platform import python_version\n",
    "print('Python Language Version Used in This Jupyter Notebook:', python_version())"
   ]
  },
  {
   "cell_type": "markdown",
   "metadata": {},
   "source": [
    "## Netflix's Movie Recommendation System"
   ]
  },
  {
   "cell_type": "markdown",
   "metadata": {},
   "source": [
    "## Problem Definition\n",
    "\n",
    "<p>\n",
    "Netflix's goal is to connect people to the movies they love. To help customers find these movies, they have developed a world-class movie recommendation system: CinematchSM. We are going to to predict whether someone will like a movie based on how much they liked or disliked other movies. Netflix uses these predictions to make personal movie recommendations based on each customer's unique tastes. And although <b>Cinematch</b> is doing very well, it can always be improved.\n",
    "</p>\n",
    "\n",
    "Goals:\n",
    "\n",
    "1. Predict the rating a user would give to a movie they haven't rated yet.\n",
    "2. Minimize the difference between predicted and actual assessment (RMSE and MAPE)."
   ]
  },
  {
   "cell_type": "markdown",
   "metadata": {},
   "source": [
    "## Data source\n",
    "\n",
    "<p>\n",
    "Netflix provided a lot of anonymized ranking data and a prediction accuracy bar that is 10% better than what Cinematch can do on the same training dataset. Accuracy is a measure of how closely predicted movie ratings match subsequent actual ratings.\n",
    "</p>\n",
    "\n",
    "<ul>\n",
    "<li> <a href=\"https://www.netflixprize.com/rules.html\">Netflix Prize</a></li>\n",
    "<li> <a href=\"https://www.kaggle.com/netflix-inc/netflix-prize-data\">Dataset</a></li>"
   ]
  },
  {
   "cell_type": "markdown",
   "metadata": {},
   "source": [
    "## Loading Packages"
   ]
  },
  {
   "cell_type": "code",
   "execution_count": 2,
   "metadata": {},
   "outputs": [],
   "source": [
    "# Imports\n",
    "import os\n",
    "import random\n",
    "import numpy as np\n",
    "import pandas as pd\n",
    "import seaborn as sns\n",
    "import matplotlib\n",
    "import matplotlib.pyplot as plt\n",
    "import scipy\n",
    "import sklearn\n",
    "from scipy import sparse\n",
    "from scipy.sparse import csr_matrix\n",
    "from sklearn.decomposition import TruncatedSVD\n",
    "from sklearn.metrics.pairwise import cosine_similarity\n",
    "from datetime import datetime\n",
    "\n",
    "# Graphics formatting\n",
    "matplotlib.use('nbagg')\n",
    "plt.rcParams.update({'figure.max_open_warning': 0})\n",
    "sns.set_style('whitegrid')"
   ]
  },
  {
   "cell_type": "markdown",
   "metadata": {},
   "source": [
    "## Loading the Data\n",
    "\n",
    "To load the data we will perform the following operations:\n",
    "\n",
    "- 1- Read the lines of all available files.\n",
    "- 2- Combine all lines from all files into a single file.\n",
    "- 3- Load the generated file into a pandas dataframe."
   ]
  },
  {
   "cell_type": "code",
   "execution_count": 3,
   "metadata": {},
   "outputs": [],
   "source": [
    "# Marks the beginning of the file reading execution.\n",
    "start = datetime.now()"
   ]
  },
  {
   "cell_type": "code",
   "execution_count": 4,
   "metadata": {},
   "outputs": [],
   "source": [
    "# We will create a final file called data.csv\n",
    "\n",
    "# If the file does not exist, we create the file in write mode (w)\n",
    "if not os.path.isfile('data/data.csv'):\n",
    "    \n",
    "    # Create and open the file for writing\n",
    "    dataset = open('data/data.csv', mode = 'w')\n",
    "    \n",
    "    # List for lines of files\n",
    "    linhas = list()\n",
    "    \n",
    "    # File names and paths\n",
    "    files = ['data/combined_data_1.txt',\n",
    "            'data/combined_data_2.txt', \n",
    "            'data/combined_data_3.txt', \n",
    "            'data/combined_data_4.txt']\n",
    "    \n",
    "    # Loop through each file in the file list\n",
    "    for file in files:\n",
    "        \n",
    "        # Print\n",
    "        print(\"Reading the file {}...\".format(file))\n",
    "        \n",
    "        # With the file open, we extract the lines\n",
    "        with open(file) as f:\n",
    "            \n",
    "            # Loop through each line of the file\n",
    "            for row in f: \n",
    "                \n",
    "                # Delete the contents of the list\n",
    "                del rows[:] \n",
    "                \n",
    "                # Split file lines by end-of-line character\n",
    "                row = row.strip()\n",
    "                \n",
    "                # If we find a \"colon\" at the end of the line, we replace it by removing the character,\n",
    "                # because we only want the id of the movie\n",
    "                if row.endswith(':'):\n",
    "                    movie_id = row.replace(':', '')\n",
    "                    \n",
    "                # If not, create a comprehension list to separate the columns by commas\n",
    "                else:\n",
    "                    \n",
    "                    # Separate the columns\n",
    "                    rows = [x for x in row.split(',')]\n",
    "                    \n",
    "                    # Use movie id at zero index position\n",
    "                    rows.insert(0, movie_id)\n",
    "                    \n",
    "                    # Write the result to the new file\n",
    "                    dataset.write(','.join(linhas))\n",
    "                    dataset.write('\\n')\n",
    "                    \n",
    "        print(\"Finished.\\n\")\n",
    "        \n",
    "    dataset.close()"
   ]
  },
  {
   "cell_type": "code",
   "execution_count": 5,
   "metadata": {},
   "outputs": [
    {
     "name": "stdout",
     "output_type": "stream",
     "text": [
      "Total Time to Load Files: 0:00:00.024933\n"
     ]
    }
   ],
   "source": [
    "# Print the total time\n",
    "print('Total Time to Load Files:', datetime.now() - start)"
   ]
  },
  {
   "cell_type": "code",
   "execution_count": 6,
   "metadata": {},
   "outputs": [
    {
     "name": "stdout",
     "output_type": "stream",
     "text": [
      "Creating pandas dataframe from data file.csv...\n",
      "Finished.\n"
     ]
    }
   ],
   "source": [
    "print(\"Creating pandas dataframe from data file.csv...\")\n",
    "df_netflix = pd.read_csv('data/data.csv', sep = ',', names = ['movie', 'user', 'rating', 'date'])\n",
    "df_netflix.date = pd.to_datetime(df_netflix.date)\n",
    "print('Finished.')"
   ]
  },
  {
   "cell_type": "code",
   "execution_count": 7,
   "metadata": {},
   "outputs": [
    {
     "name": "stdout",
     "output_type": "stream",
     "text": [
      "Sorting dataframe by date..\n",
      "Finished.\n"
     ]
    }
   ],
   "source": [
    "# Sorting the dataframe by date\n",
    "print('Sorting dataframe by date..')\n",
    "df_netflix.sort_values(by = 'date', inplace = True)\n",
    "print('Finished.')"
   ]
  },
  {
   "cell_type": "code",
   "execution_count": 8,
   "metadata": {},
   "outputs": [
    {
     "data": {
      "text/plain": [
       "(100480507, 4)"
      ]
     },
     "execution_count": 8,
     "metadata": {},
     "output_type": "execute_result"
    }
   ],
   "source": [
    "# Shape\n",
    "df_netflix.shape"
   ]
  },
  {
   "cell_type": "code",
   "execution_count": 9,
   "metadata": {},
   "outputs": [
    {
     "data": {
      "text/html": [
       "<div>\n",
       "<style scoped>\n",
       "    .dataframe tbody tr th:only-of-type {\n",
       "        vertical-align: middle;\n",
       "    }\n",
       "\n",
       "    .dataframe tbody tr th {\n",
       "        vertical-align: top;\n",
       "    }\n",
       "\n",
       "    .dataframe thead th {\n",
       "        text-align: right;\n",
       "    }\n",
       "</style>\n",
       "<table border=\"1\" class=\"dataframe\">\n",
       "  <thead>\n",
       "    <tr style=\"text-align: right;\">\n",
       "      <th></th>\n",
       "      <th>movie</th>\n",
       "      <th>user</th>\n",
       "      <th>rating</th>\n",
       "      <th>date</th>\n",
       "    </tr>\n",
       "  </thead>\n",
       "  <tbody>\n",
       "    <tr>\n",
       "      <td>56431994</td>\n",
       "      <td>10341</td>\n",
       "      <td>510180</td>\n",
       "      <td>4</td>\n",
       "      <td>1999-11-11</td>\n",
       "    </tr>\n",
       "    <tr>\n",
       "      <td>9056171</td>\n",
       "      <td>1798</td>\n",
       "      <td>510180</td>\n",
       "      <td>5</td>\n",
       "      <td>1999-11-11</td>\n",
       "    </tr>\n",
       "    <tr>\n",
       "      <td>58698779</td>\n",
       "      <td>10774</td>\n",
       "      <td>510180</td>\n",
       "      <td>3</td>\n",
       "      <td>1999-11-11</td>\n",
       "    </tr>\n",
       "    <tr>\n",
       "      <td>48101611</td>\n",
       "      <td>8651</td>\n",
       "      <td>510180</td>\n",
       "      <td>2</td>\n",
       "      <td>1999-11-11</td>\n",
       "    </tr>\n",
       "    <tr>\n",
       "      <td>81893208</td>\n",
       "      <td>14660</td>\n",
       "      <td>510180</td>\n",
       "      <td>2</td>\n",
       "      <td>1999-11-11</td>\n",
       "    </tr>\n",
       "  </tbody>\n",
       "</table>\n",
       "</div>"
      ],
      "text/plain": [
       "          movie    user  rating       date\n",
       "56431994  10341  510180       4 1999-11-11\n",
       "9056171    1798  510180       5 1999-11-11\n",
       "58698779  10774  510180       3 1999-11-11\n",
       "48101611   8651  510180       2 1999-11-11\n",
       "81893208  14660  510180       2 1999-11-11"
      ]
     },
     "execution_count": 9,
     "metadata": {},
     "output_type": "execute_result"
    }
   ],
   "source": [
    "# Viewing the data\n",
    "df_netflix.head()"
   ]
  },
  {
   "cell_type": "markdown",
   "metadata": {},
   "source": [
    "## Exploratory Data Analysis"
   ]
  },
  {
   "cell_type": "code",
   "execution_count": 10,
   "metadata": {},
   "outputs": [
    {
     "name": "stdout",
     "output_type": "stream",
     "text": [
      "Data summary\n",
      "--------------------------------------------------\n",
      "Total Number of Films: 17770\n",
      "Total Number of Users: 480189\n",
      "Total Number of Reviews: 100480507\n"
     ]
    }
   ],
   "source": [
    "# Data summary\n",
    "print(\"Data summary\")\n",
    "print(\"-\"*50)\n",
    "print(\"Total Number of Films:\", len(np.unique(df_netflix.movie)))\n",
    "print(\"Total Number of Users:\", len(np.unique(df_netflix.user)))\n",
    "print(\"Total Number of Reviews:\", df_netflix.shape[0])"
   ]
  },
  {
   "cell_type": "code",
   "execution_count": 11,
   "metadata": {},
   "outputs": [],
   "source": [
    "# Let's save these two values to use later\n",
    "total_users = len(np.unique(df_netflix.user))\n",
    "total_movies = len(np.unique(df_netflix.movie))"
   ]
  },
  {
   "cell_type": "code",
   "execution_count": 12,
   "metadata": {},
   "outputs": [
    {
     "data": {
      "text/plain": [
       "count    1.004805e+08\n",
       "mean     3.604290e+00\n",
       "std      1.085219e+00\n",
       "min      1.000000e+00\n",
       "25%      3.000000e+00\n",
       "50%      4.000000e+00\n",
       "75%      4.000000e+00\n",
       "max      5.000000e+00\n",
       "Name: rating, dtype: float64"
      ]
     },
     "execution_count": 12,
     "metadata": {},
     "output_type": "execute_result"
    }
   ],
   "source": [
    "# Checking the average of the ratings\n",
    "df_netflix.describe()['rating']"
   ]
  },
  {
   "cell_type": "code",
   "execution_count": 13,
   "metadata": {},
   "outputs": [
    {
     "data": {
      "text/plain": [
       "0"
      ]
     },
     "execution_count": 13,
     "metadata": {},
     "output_type": "execute_result"
    }
   ],
   "source": [
    "# Checking for missing values\n",
    "sum(df_netflix.isnull().any())"
   ]
  },
  {
   "cell_type": "code",
   "execution_count": 14,
   "metadata": {},
   "outputs": [
    {
     "data": {
      "text/plain": [
       "0"
      ]
     },
     "execution_count": 14,
     "metadata": {},
     "output_type": "execute_result"
    }
   ],
   "source": [
    "# Checking if we have duplicate values (in this case we don't consider the date)\n",
    "sum(df_netflix.duplicated(['movie', 'user', 'rating']))"
   ]
  },
  {
   "cell_type": "markdown",
   "metadata": {},
   "source": [
    "Let's split the data into training and testing before continuing with the exploratory analysis, as some analyzes only make sense for training data. We will use the 80/20 ratio for training/testing."
   ]
  },
  {
   "cell_type": "code",
   "execution_count": 15,
   "metadata": {},
   "outputs": [],
   "source": [
    "# We will create a dataset on disk with the training data\n",
    "# That way we don't need to run the whole loading process again each time we run this notebook\n",
    "if not os.path.isfile('data/training_data.csv'):\n",
    "    df_netflix.iloc[:int(df_netflix.shape[0] * 0.80)].to_csv(\"data/training_data.csv\", index = False)"
   ]
  },
  {
   "cell_type": "code",
   "execution_count": 16,
   "metadata": {},
   "outputs": [],
   "source": [
    "# We will create a dataset on disk with the test data\n",
    "# That way we don't need to run the whole loading process again each time we run this notebook\n",
    "if not os.path.isfile('data/test_data.csv'):\n",
    "    df_netflix.iloc[int(df_netflix.shape[0] * 0.80):].to_csv(\"data/test_data.csv\", index = False)"
   ]
  },
  {
   "cell_type": "code",
   "execution_count": 17,
   "metadata": {},
   "outputs": [],
   "source": [
    "# Delete the original dataframe to free memory\n",
    "del df_netflix"
   ]
  },
  {
   "cell_type": "code",
   "execution_count": 18,
   "metadata": {},
   "outputs": [],
   "source": [
    "# Now we load the files into pandas dataframes\n",
    "df_netflix_train = pd.read_csv(\"data/training_data.csv\", parse_dates = ['date'])\n",
    "df_netflix_test = pd.read_csv(\"data/test_data.csv\")"
   ]
  },
  {
   "cell_type": "code",
   "execution_count": 19,
   "metadata": {},
   "outputs": [
    {
     "name": "stdout",
     "output_type": "stream",
     "text": [
      "Training data summary\n",
      "--------------------------------------------------\n",
      "Total Number of Films: 17424\n",
      "Total Number of Users: 405041\n",
      "Total Number of Reviews: 80384405\n"
     ]
    }
   ],
   "source": [
    "# Training data summary\n",
    "print(\"Training data summary\")\n",
    "print(\"-\"*50)\n",
    "print(\"Total Number of Films:\", len(np.unique(df_netflix_train.movie)))\n",
    "print(\"Total Number of Users:\", len(np.unique(df_netflix_train.user)))\n",
    "print(\"Total Number of Reviews:\", df_netflix_train.shape[0])"
   ]
  },
  {
   "cell_type": "code",
   "execution_count": 20,
   "metadata": {},
   "outputs": [
    {
     "name": "stdout",
     "output_type": "stream",
     "text": [
      "Test data summary\n",
      "--------------------------------------------------\n",
      "Total Number of Films: 17757\n",
      "Total Number of Users: 349312\n",
      "Total Number of Reviews: 20096102\n"
     ]
    }
   ],
   "source": [
    "# Test data summary\n",
    "print(\"Test data summary\")\n",
    "print(\"-\"*50)\n",
    "print(\"Total Number of Films:\", len(np.unique(df_netflix_test.movie)))\n",
    "print(\"Total Number of Users:\", len(np.unique(df_netflix_test.user)))\n",
    "print(\"Total Number of Reviews:\", df_netflix_test.shape[0])"
   ]
  },
  {
   "cell_type": "markdown",
   "metadata": {},
   "source": [
    "The function below will adjust the measurements in thousands, millions and billions to make the graphs easier to read."
   ]
  },
  {
   "cell_type": "code",
   "execution_count": 21,
   "metadata": {},
   "outputs": [],
   "source": [
    "# Function for setting the units of measure\n",
    "def units_setting(num, units = 'M'):\n",
    "    units = units.lower()\n",
    "    num = float(num)\n",
    "    if units == 'k':\n",
    "        return str(num/10**3) + \" K\"\n",
    "    elif units == 'm':\n",
    "        return str(num/10**6) + \" M\"\n",
    "    elif units == 'b':\n",
    "        return str(num/10**9) +  \" B\""
   ]
  },
  {
   "cell_type": "code",
   "execution_count": 22,
   "metadata": {},
   "outputs": [],
   "source": [
    "# Supress warnings\n",
    "import sys\n",
    "import warnings\n",
    "if not sys.warnoptions:\n",
    "    warnings.simplefilter(\"ignore\")"
   ]
  },
  {
   "cell_type": "markdown",
   "metadata": {},
   "source": [
    "__Let's check the distribution of ratings.__"
   ]
  },
  {
   "cell_type": "code",
   "execution_count": 23,
   "metadata": {},
   "outputs": [
    {
     "data": {
      "image/png": "[encoded data removed]",
      "text/plain": [
       "<Figure size 432x288 with 1 Axes>"
      ]
     },
     "metadata": {
      "needs_background": "light"
     },
     "output_type": "display_data"
    }
   ],
   "source": [
    "# Plot\n",
    "fig, ax = plt.subplots()\n",
    "plt.title('Distribution of Training Data Evaluations', fontsize = 15)\n",
    "sns.countplot(df_netflix_train.rating)\n",
    "ax.set_yticklabels([units_setting(item, 'M') for item in ax.get_yticks()])\n",
    "ax.set_ylabel('Number of Reviews (in Millions)')\n",
    "plt.show()"
   ]
  },
  {
   "cell_type": "markdown",
   "metadata": {},
   "source": [
    "__Does the day of the week influence the user's assessment? Let's add a column with the day of the week and find out.__"
   ]
  },
  {
   "cell_type": "code",
   "execution_count": 24,
   "metadata": {},
   "outputs": [],
   "source": [
    "# Parameter to avoid warning due to high volume of data\n",
    "pd.options.mode.chained_assignment = None  "
   ]
  },
  {
   "cell_type": "code",
   "execution_count": 25,
   "metadata": {},
   "outputs": [
    {
     "data": {
      "text/html": [
       "<div>\n",
       "<style scoped>\n",
       "    .dataframe tbody tr th:only-of-type {\n",
       "        vertical-align: middle;\n",
       "    }\n",
       "\n",
       "    .dataframe tbody tr th {\n",
       "        vertical-align: top;\n",
       "    }\n",
       "\n",
       "    .dataframe thead th {\n",
       "        text-align: right;\n",
       "    }\n",
       "</style>\n",
       "<table border=\"1\" class=\"dataframe\">\n",
       "  <thead>\n",
       "    <tr style=\"text-align: right;\">\n",
       "      <th></th>\n",
       "      <th>movie</th>\n",
       "      <th>user</th>\n",
       "      <th>rating</th>\n",
       "      <th>date</th>\n",
       "      <th>week_day</th>\n",
       "    </tr>\n",
       "  </thead>\n",
       "  <tbody>\n",
       "    <tr>\n",
       "      <td>0</td>\n",
       "      <td>10341</td>\n",
       "      <td>510180</td>\n",
       "      <td>4</td>\n",
       "      <td>1999-11-11</td>\n",
       "      <td>Thursday</td>\n",
       "    </tr>\n",
       "    <tr>\n",
       "      <td>1</td>\n",
       "      <td>1798</td>\n",
       "      <td>510180</td>\n",
       "      <td>5</td>\n",
       "      <td>1999-11-11</td>\n",
       "      <td>Thursday</td>\n",
       "    </tr>\n",
       "    <tr>\n",
       "      <td>2</td>\n",
       "      <td>10774</td>\n",
       "      <td>510180</td>\n",
       "      <td>3</td>\n",
       "      <td>1999-11-11</td>\n",
       "      <td>Thursday</td>\n",
       "    </tr>\n",
       "    <tr>\n",
       "      <td>3</td>\n",
       "      <td>8651</td>\n",
       "      <td>510180</td>\n",
       "      <td>2</td>\n",
       "      <td>1999-11-11</td>\n",
       "      <td>Thursday</td>\n",
       "    </tr>\n",
       "    <tr>\n",
       "      <td>4</td>\n",
       "      <td>14660</td>\n",
       "      <td>510180</td>\n",
       "      <td>2</td>\n",
       "      <td>1999-11-11</td>\n",
       "      <td>Thursday</td>\n",
       "    </tr>\n",
       "  </tbody>\n",
       "</table>\n",
       "</div>"
      ],
      "text/plain": [
       "   movie    user  rating       date  week_day\n",
       "0  10341  510180       4 1999-11-11  Thursday\n",
       "1   1798  510180       5 1999-11-11  Thursday\n",
       "2  10774  510180       3 1999-11-11  Thursday\n",
       "3   8651  510180       2 1999-11-11  Thursday\n",
       "4  14660  510180       2 1999-11-11  Thursday"
      ]
     },
     "execution_count": 25,
     "metadata": {},
     "output_type": "execute_result"
    }
   ],
   "source": [
    "# Extract the day of the week and write it to a new column\n",
    "df_netflix_train['week_day'] = df_netflix_train['date'].dt.strftime(\"%A\")\n",
    "df_netflix_train.head()"
   ]
  },
  {
   "cell_type": "code",
   "execution_count": 26,
   "metadata": {},
   "outputs": [
    {
     "data": {
      "image/png": "[encoded data removed]",
      "text/plain": [
       "<Figure size 432x288 with 1 Axes>"
      ]
     },
     "metadata": {
      "needs_background": "light"
     },
     "output_type": "display_data"
    }
   ],
   "source": [
    "# Plot\n",
    "fig, ax = plt.subplots()\n",
    "sns.countplot(x = 'week_day', data = df_netflix_train, ax = ax)\n",
    "plt.title('Number of Reviews Per Week Day')\n",
    "plt.ylabel('Total Ratings')\n",
    "plt.xlabel('')\n",
    "ax.set_yticklabels([units_setting(item, 'M') for item in ax.get_yticks()])\n",
    "plt.show()"
   ]
  },
  {
   "cell_type": "markdown",
   "metadata": {},
   "source": [
    "__Let's calculate the average ratings per day of the week.__"
   ]
  },
  {
   "cell_type": "code",
   "execution_count": 27,
   "metadata": {},
   "outputs": [
    {
     "name": "stdout",
     "output_type": "stream",
     "text": [
      "Average Ratings\n",
      "------------------------------\n",
      "week_day\n",
      "Friday       3.585274\n",
      "Monday       3.577250\n",
      "Saturday     3.591791\n",
      "Sunday       3.594144\n",
      "Thursday     3.582463\n",
      "Tuesday      3.574438\n",
      "Wednesday    3.583751\n",
      "Name: rating, dtype: float64\n",
      "\n",
      "\n"
     ]
    }
   ],
   "source": [
    "# Average ratings per week day\n",
    "average_week_day = df_netflix_train.groupby(by = ['week_day'])['rating'].mean()\n",
    "print(\"Average Ratings\")\n",
    "print(\"-\"*30)\n",
    "print(average_week_day)\n",
    "print(\"\\n\")"
   ]
  },
  {
   "cell_type": "markdown",
   "metadata": {},
   "source": [
    "The week days does not seem to have an influence on the user's evaluation."
   ]
  },
  {
   "cell_type": "markdown",
   "metadata": {},
   "source": [
    "__We will analyze user ratings over time.__"
   ]
  },
  {
   "cell_type": "code",
   "execution_count": 28,
   "metadata": {},
   "outputs": [
    {
     "data": {
      "image/png": "[encoded data removed]",
      "text/plain": [
       "<Figure size 640x288 with 1 Axes>"
      ]
     },
     "metadata": {
      "needs_background": "light"
     },
     "output_type": "display_data"
    }
   ],
   "source": [
    "# Plot\n",
    "fig = plt.figure(figsize = plt.figaspect(.45))\n",
    "ax = df_netflix_train.resample('m', on = 'date')['rating'].count().plot()\n",
    "ax.set_title('Number of Evaluations Per Month in Training Data')\n",
    "plt.xlabel('Month')\n",
    "plt.ylabel('Number of Reviews Per Month')\n",
    "ax.set_yticklabels([units_setting(item, 'M') for item in ax.get_yticks()])\n",
    "plt.show()"
   ]
  },
  {
   "cell_type": "markdown",
   "metadata": {},
   "source": [
    "There is clearly an increase in user ratings over time, either due to more users or because users have learned to use the feature."
   ]
  },
  {
   "cell_type": "markdown",
   "metadata": {},
   "source": [
    "__Let's check the users who made the most movie ratings.__"
   ]
  },
  {
   "cell_type": "code",
   "execution_count": 29,
   "metadata": {},
   "outputs": [
    {
     "data": {
      "text/plain": [
       "user\n",
       "305344     17112\n",
       "2439493    15896\n",
       "387418     15402\n",
       "1639792     9767\n",
       "1461435     9447\n",
       "Name: rating, dtype: int64"
      ]
     },
     "execution_count": 29,
     "metadata": {},
     "output_type": "execute_result"
    }
   ],
   "source": [
    "# Ratings number per user\n",
    "ratings_num_per_user = df_netflix_train.groupby(by = 'user')['rating'].count().sort_values(ascending = False)\n",
    "ratings_num_per_user.head()"
   ]
  },
  {
   "cell_type": "code",
   "execution_count": 30,
   "metadata": {},
   "outputs": [
    {
     "data": {
      "text/plain": [
       "count    405041.000000\n",
       "mean        198.459921\n",
       "std         290.793238\n",
       "min           1.000000\n",
       "25%          34.000000\n",
       "50%          89.000000\n",
       "75%         245.000000\n",
       "max       17112.000000\n",
       "Name: rating, dtype: float64"
      ]
     },
     "execution_count": 30,
     "metadata": {},
     "output_type": "execute_result"
    }
   ],
   "source": [
    "# Statistical summary\n",
    "ratings_num_per_user.describe()"
   ]
  },
  {
   "cell_type": "markdown",
   "metadata": {},
   "source": [
    "__Let's create a plot of the probability density function function and the cumulative distribution function.__\n",
    "\n",
    "The probability density function (pdf) and cumulative distribution function (cdf) are two of the most important statistical functions in reliability and are closely related. When these functions are known, almost any other reliability measure of interest can be derived or obtained."
   ]
  },
  {
   "cell_type": "code",
   "execution_count": 31,
   "metadata": {
    "scrolled": false
   },
   "outputs": [
    {
     "data": {
      "image/png": "[encoded data removed]",
      "text/plain": [
       "<Figure size 640x288 with 2 Axes>"
      ]
     },
     "metadata": {
      "needs_background": "light"
     },
     "output_type": "display_data"
    }
   ],
   "source": [
    "# Plot\n",
    "fig = plt.figure(figsize = plt.figaspect(.45))\n",
    "ax1 = plt.subplot(121)\n",
    "sns.kdeplot(ratings_num_per_user, shade = True, ax = ax1)\n",
    "plt.xlabel('Ratings number per user')\n",
    "plt.title(\"PDF - Probability Density Function\")\n",
    "ax2 = plt.subplot(122)\n",
    "sns.kdeplot(ratings_num_per_user, shade = True, cumulative = True, ax = ax2)\n",
    "plt.xlabel('Ratings number per user')\n",
    "plt.title('CDF - Cumulative Distribution Function')\n",
    "plt.show()"
   ]
  },
  {
   "cell_type": "markdown",
   "metadata": {},
   "source": [
    "Note that the vast majority of users have less than 1000 reviews."
   ]
  },
  {
   "cell_type": "markdown",
   "metadata": {},
   "source": [
    "__How many reviews are in the bottom 5% of all reviews?__"
   ]
  },
  {
   "cell_type": "code",
   "execution_count": 32,
   "metadata": {},
   "outputs": [],
   "source": [
    "# Let's extract the percentiles\n",
    "percentiles = ratings_num_per_user.quantile(np.arange(0,1.01,0.01), interpolation = 'higher')"
   ]
  },
  {
   "cell_type": "code",
   "execution_count": 33,
   "metadata": {},
   "outputs": [
    {
     "data": {
      "text/plain": [
       "0.00        1\n",
       "0.05        7\n",
       "0.10       15\n",
       "0.15       21\n",
       "0.20       27\n",
       "0.25       34\n",
       "0.30       41\n",
       "0.35       50\n",
       "0.40       60\n",
       "0.45       73\n",
       "0.50       89\n",
       "0.55      109\n",
       "0.60      133\n",
       "0.65      163\n",
       "0.70      199\n",
       "0.75      245\n",
       "0.80      307\n",
       "0.85      392\n",
       "0.90      520\n",
       "0.95      749\n",
       "1.00    17112\n",
       "Name: rating, dtype: int64"
      ]
     },
     "execution_count": 33,
     "metadata": {},
     "output_type": "execute_result"
    }
   ],
   "source": [
    "# Viewing by 5\n",
    "percentiles[::5]"
   ]
  },
  {
   "cell_type": "code",
   "execution_count": 34,
   "metadata": {},
   "outputs": [
    {
     "data": {
      "image/png": "[encoded data removed]",
      "text/plain": [
       "<Figure size 640x288 with 1 Axes>"
      ]
     },
     "metadata": {
      "needs_background": "light"
     },
     "output_type": "display_data"
    }
   ],
   "source": [
    "# Plot\n",
    "fig = plt.figure(figsize = plt.figaspect(.45))\n",
    "plt.title(\"Percentiles\")\n",
    "percentiles.plot()\n",
    "\n",
    "# Quartiles with a 0.05 difference\n",
    "plt.scatter(x = percentiles.index[::5], \n",
    "            y = percentiles.values[::5], \n",
    "            c = 'orange', \n",
    "            label = \"Quartiles with a 0.05 difference\")\n",
    "\n",
    "# Quartiles with a 0.25 difference\n",
    "plt.scatter(x = percentiles.index[::25], \n",
    "            y = percentiles.values[::25], \n",
    "            c = 'm', \n",
    "            label = \"Quartiles with a 0.25 difference\")\n",
    "\n",
    "# Labels and caption\n",
    "plt.ylabel('Reviews number per user')\n",
    "plt.xlabel('Value in Percentiles')\n",
    "plt.legend(loc = 'best')\n",
    "\n",
    "# Let's mark the 25th, 50th, 75th and 100th percentiles\n",
    "for x,y in zip(percentiles.index[::25], percentiles[::25]):\n",
    "    plt.annotate(s = \"({} , {})\".format(x,y), xy = (x,y), xytext = (x-0.05, y+500), fontweight = 'bold')\n",
    "\n",
    "plt.show()"
   ]
  },
  {
   "cell_type": "markdown",
   "metadata": {},
   "source": [
    "- There are some movies (which are very popular) that are rated by a large number of users.\n",
    "    \n",
    "- But most movies (like 90%) have a few hundred ratings."
   ]
  },
  {
   "cell_type": "markdown",
   "metadata": {},
   "source": [
    "## Sparse Matrix Creation"
   ]
  },
  {
   "cell_type": "markdown",
   "metadata": {},
   "source": [
    "__Train Sparse Matrix Creation__"
   ]
  },
  {
   "cell_type": "code",
   "execution_count": 35,
   "metadata": {},
   "outputs": [
    {
     "name": "stdout",
     "output_type": "stream",
     "text": [
      "Matrix loaded.\n"
     ]
    }
   ],
   "source": [
    "# We create the sparse matrix in Numpy format if it doesn't exist\n",
    "# If it exists, just load it from disk\n",
    "if os.path.isfile('data/train_sparse_matrix.npz'):\n",
    "    train_sparse_matrix = sparse.load_npz('data/train_sparse_matrix.npz')\n",
    "    print(\"Matrix loaded.\")\n",
    "else: \n",
    "    train_sparse_matrix = sparse.csr_matrix((df_netflix_train.rating.values, (df_netflix_train.user.values, \n",
    "                                                                                 df_netflix_train.movie.values)),)\n",
    "    print('Matrix created. The shape is: (user, movie): ', train_sparse_matrix.shape)\n",
    "    sparse.save_npz(\"data/train_sparse_matrix.npz\", train_sparse_matrix)\n",
    "    print('Matrix saved to disk.')"
   ]
  },
  {
   "cell_type": "code",
   "execution_count": 36,
   "metadata": {},
   "outputs": [
    {
     "name": "stdout",
     "output_type": "stream",
     "text": [
      "Training Matrix Sparsity : 99.8292709259195 % \n"
     ]
    }
   ],
   "source": [
    "# Calculate the matrix sparsity\n",
    "rows, columns = train_sparse_matrix.shape\n",
    "non_zero_elements = train_sparse_matrix.count_nonzero()\n",
    "print(\"Training Matrix Sparsity : {} % \".format(  (1 - (non_zero_elements / (rows * columns))) * 100) )"
   ]
  },
  {
   "cell_type": "markdown",
   "metadata": {},
   "source": [
    "__Test Sparse Matrix Creation__"
   ]
  },
  {
   "cell_type": "code",
   "execution_count": 37,
   "metadata": {},
   "outputs": [
    {
     "name": "stdout",
     "output_type": "stream",
     "text": [
      "Matrix created. The shape is: (user, movie):  (2649430, 17771)\n",
      "Matrix saved to disk.\n"
     ]
    }
   ],
   "source": [
    "# We create the sparse matrix in Numpy format if it doesn't exist\n",
    "# If it exists, just load it from disk\n",
    "if os.path.isfile('dados/test_sparse_matrix.npz'):\n",
    "    test_sparse_matrix = sparse.load_npz('data/test_sparse_matrix.npz')\n",
    "    print(\"Matrix loaded.\")\n",
    "else: \n",
    "    test_sparse_matrix = sparse.csr_matrix((df_netflix_test.rating.values, (df_netflix_test.user.values, \n",
    "                                                                               df_netflix_test.movie.values)))\n",
    "    \n",
    "    print('Matrix created. The shape is: (user, movie): ', test_sparse_matrix.shape)\n",
    "    sparse.save_npz(\"data/test_sparse_matrix.npz\", test_sparse_matrix)\n",
    "    print('Matrix saved to disk.')"
   ]
  },
  {
   "cell_type": "code",
   "execution_count": 38,
   "metadata": {},
   "outputs": [
    {
     "name": "stdout",
     "output_type": "stream",
     "text": [
      "Training Matrix Sparsity : 99.95731772988694 % \n"
     ]
    }
   ],
   "source": [
    "# Calculate the matrix sparsity\n",
    "rows, column = test_sparse_matrix.shape\n",
    "non_zero_elements = test_sparse_matrix.count_nonzero()\n",
    "print(\"Training Matrix Sparsity : {} % \".format(  (1 - (non_zero_elements / (rows * columns))) * 100) )"
   ]
  },
  {
   "cell_type": "markdown",
   "metadata": {},
   "source": [
    "__Let's calculate the global average of all movie ratings, average rating per user and average rating per movie.__"
   ]
  },
  {
   "cell_type": "code",
   "execution_count": 39,
   "metadata": {},
   "outputs": [
    {
     "data": {
      "text/plain": [
       "{'global': 3.582890686321557}"
      ]
     },
     "execution_count": 39,
     "metadata": {},
     "output_type": "execute_result"
    }
   ],
   "source": [
    "# Global average of all user ratings.\n",
    "train_avg = dict()\n",
    "global_train_avg = train_sparse_matrix.sum() / train_sparse_matrix.count_nonzero()\n",
    "train_avg['global'] = global_train_avg\n",
    "train_avg"
   ]
  },
  {
   "cell_type": "markdown",
   "metadata": {},
   "source": [
    "__Let's build a function to calculate the average rating.__"
   ]
  },
  {
   "cell_type": "code",
   "execution_count": 40,
   "metadata": {},
   "outputs": [],
   "source": [
    "# Averaging function\n",
    "def calculate_average_ratings(sparse_matrix, of_users):\n",
    "    \n",
    "    # Average user/axis ratings\n",
    "     # 1 = user axis\n",
    "     # 0 = film axis\n",
    "    ax = 1 if of_users else 0\n",
    "\n",
    "    # Sum\n",
    "    sum_of_ratings = sparse_matrix.sum(axis=ax).A1\n",
    "    \n",
    "    # Boolean array of ratings (whether a user rated a movie or not)\n",
    "    is_rated = sparse_matrix!=0\n",
    "    \n",
    "    # Number of ratings for each user or movie\n",
    "    no_of_ratings = is_rated.sum(axis=ax).A1\n",
    "    \n",
    "    # Maximum user and movie ids in sparse array\n",
    "    u, m = sparse_matrix.shape\n",
    "    \n",
    "    # We created a dictionary of users and their average ratings.\n",
    "    avg_ratings = {i:sum_of_ratings[i]/no_of_ratings[i] for i in range(u if of_users else m) if no_of_ratings[i]!=0}\n",
    "\n",
    "    # Returns the rating average dictionary\n",
    "    return avg_ratings"
   ]
  },
  {
   "cell_type": "markdown",
   "metadata": {},
   "source": [
    "__Now we calculate the average of ratings per user.__"
   ]
  },
  {
   "cell_type": "code",
   "execution_count": 41,
   "metadata": {},
   "outputs": [],
   "source": [
    "# Average User Ratings\n",
    "train_avg['user'] = calculate_average_ratings(train_sparse_matrix, of_users = True)"
   ]
  },
  {
   "cell_type": "code",
   "execution_count": 42,
   "metadata": {},
   "outputs": [
    {
     "data": {
      "text/plain": [
       "{'global': 3.582890686321557,\n",
       " 'user': {6: 3.5160550458715596,\n",
       "  7: 3.992957746478873,\n",
       "  10: 3.3781094527363185,\n",
       "  25: 3.5,\n",
       "  33: 3.787878787878788,\n",
       "  42: 3.9322033898305087,\n",
       "  59: 3.698717948717949,\n",
       "  79: 3.5559947299077734,\n",
       "  83: 4.0,\n",
       "  87: 3.544642857142857,\n",
       "  94: 2.8125,\n",
       "  97: 3.182377049180328,\n",
       "  131: 4.0,\n",
       "  134: 4.703081232492997,\n",
       "  142: 3.45,\n",
       "  149: 4.25,\n",
       "  158: 3.625,\n",
       "  168: 4.208333333333333,\n",
       "  169: 3.738562091503268,\n",
       "  178: 3.0,\n",
       "  183: 3.7096774193548385,\n",
       "  188: 3.4456066945606696,\n",
       "  189: 3.0,\n",
       "  192: 3.522222222222222,\n",
       "  195: 3.689655172413793,\n",
       "  199: 3.974747474747475,\n",
       "  201: 3.605714285714286,\n",
       "  242: 2.8392857142857144,\n",
       "  247: 4.019230769230769,\n",
       "  248: 3.6511627906976742,\n",
       "  261: 2.769230769230769,\n",
       "  265: 3.680297397769517,\n",
       "  266: 4.102222222222222,\n",
       "  267: 3.325,\n",
       "  268: 4.008,\n",
       "  283: 3.4794816414686824,\n",
       "  291: 3.4745762711864407,\n",
       "  296: 3.789473684210526,\n",
       "  298: 3.8052805280528053,\n",
       "  299: 3.5555555555555554,\n",
       "  301: 4.05524861878453,\n",
       "  302: 3.212,\n",
       "  304: 3.8051948051948052,\n",
       "  305: 4.096551724137931,\n",
       "  307: 3.6486486486486487,\n",
       "  308: 3.4285714285714284,\n",
       "  310: 4.1875,\n",
       "  312: 4.071428571428571,\n",
       "  314: 3.6122448979591835,\n",
       "  330: 3.8983050847457625,\n",
       "  331: 2.8181818181818183,\n",
       "  333: 3.7386363636363638,\n",
       "  352: 3.7777777777777777,\n",
       "  363: 3.7714285714285714,\n",
       "  368: 3.6,\n",
       "  369: 3.824561403508772,\n",
       "  379: 4.0,\n",
       "  383: 3.4270833333333335,\n",
       "  384: 3.4275862068965517,\n",
       "  385: 3.0,\n",
       "  392: 2.933333333333333,\n",
       "  413: 3.4285714285714284,\n",
       "  416: 4.826086956521739,\n",
       "  424: 3.49003984063745,\n",
       "  437: 2.784,\n",
       "  439: 3.8421052631578947,\n",
       "  440: 4.0,\n",
       "  442: 4.127272727272727,\n",
       "  453: 3.375,\n",
       "  462: 3.091116173120729,\n",
       "  470: 3.5714285714285716,\n",
       "  471: 3.3220338983050848,\n",
       "  477: 3.4031620553359683,\n",
       "  478: 3.6333333333333333,\n",
       "  479: 3.0,\n",
       "  481: 4.3090909090909095,\n",
       "  485: 3.5,\n",
       "  490: 5.0,\n",
       "  491: 3.642857142857143,\n",
       "  492: 3.3043478260869565,\n",
       "  495: 4.666666666666667,\n",
       "  508: 4.148936170212766,\n",
       "  515: 3.1176470588235294,\n",
       "  517: 3.5238095238095237,\n",
       "  527: 3.4160919540229884,\n",
       "  529: 4.222222222222222,\n",
       "  536: 4.2825112107623315,\n",
       "  540: 4.6,\n",
       "  544: 3.1839080459770117,\n",
       "  546: 3.247422680412371,\n",
       "  550: 3.792079207920792,\n",
       "  561: 3.88855421686747,\n",
       "  576: 4.240963855421687,\n",
       "  585: 3.8135593220338984,\n",
       "  592: 3.585858585858586,\n",
       "  596: 3.99492385786802,\n",
       "  602: 4.092896174863388,\n",
       "  609: 3.7296137339055795,\n",
       "  614: 3.754491017964072,\n",
       "  616: 3.844155844155844,\n",
       "  623: 3.25,\n",
       "  633: 4.0,\n",
       "  657: 3.625,\n",
       "  660: 3.230769230769231,\n",
       "  663: 4.046511627906977,\n",
       "  664: 3.54421768707483,\n",
       "  684: 4.086261980830671,\n",
       "  685: 3.888888888888889,\n",
       "  688: 4.5,\n",
       "  692: 3.2857142857142856,\n",
       "  695: 3.374613003095975,\n",
       "  711: 3.902439024390244,\n",
       "  719: 4.354166666666667,\n",
       "  734: 4.0,\n",
       "  735: 3.950113378684807,\n",
       "  739: 3.696969696969697,\n",
       "  742: 3.937853107344633,\n",
       "  744: 3.1964285714285716,\n",
       "  748: 3.0681818181818183,\n",
       "  750: 2.9431818181818183,\n",
       "  756: 2.32013201320132,\n",
       "  766: 4.056497175141243,\n",
       "  767: 4.028846153846154,\n",
       "  769: 3.2895805142083896,\n",
       "  781: 3.2580645161290325,\n",
       "  784: 4.666666666666667,\n",
       "  785: 3.6560693641618496,\n",
       "  787: 4.1,\n",
       "  788: 3.324110671936759,\n",
       "  793: 3.973684210526316,\n",
       "  798: 3.4035087719298245,\n",
       "  815: 3.4701195219123506,\n",
       "  825: 3.4545454545454546,\n",
       "  829: 3.8142857142857145,\n",
       "  834: 3.2874493927125505,\n",
       "  840: 3.1065573770491803,\n",
       "  857: 3.601503759398496,\n",
       "  870: 4.133333333333334,\n",
       "  873: 3.4545454545454546,\n",
       "  877: 3.5714285714285716,\n",
       "  906: 3.712680577849117,\n",
       "  909: 3.4725274725274726,\n",
       "  911: 3.1176470588235294,\n",
       "  915: 4.0,\n",
       "  921: 4.391304347826087,\n",
       "  933: 3.616822429906542,\n",
       "  939: 4.027777777777778,\n",
       "  944: 3.6923076923076925,\n",
       "  952: 4.222222222222222,\n",
       "  955: 3.625,\n",
       "  962: 3.1538461538461537,\n",
       "  967: 3.5161290322580645,\n",
       "  968: 4.086956521739131,\n",
       "  979: 3.111111111111111,\n",
       "  981: 3.3817330210772836,\n",
       "  989: 3.5384615384615383,\n",
       "  997: 2.5142857142857142,\n",
       "  998: 3.7484662576687118,\n",
       "  1007: 4.392857142857143,\n",
       "  1020: 2.5277777777777777,\n",
       "  1024: 3.6153846153846154,\n",
       "  1034: 3.5913978494623655,\n",
       "  1038: 3.6831683168316833,\n",
       "  1044: 3.300751879699248,\n",
       "  1047: 3.76,\n",
       "  1059: 3.3676470588235294,\n",
       "  1067: 3.5084745762711864,\n",
       "  1069: 3.5384615384615383,\n",
       "  1070: 3.7003367003367003,\n",
       "  1079: 3.4,\n",
       "  1082: 3.5330188679245285,\n",
       "  1086: 3.5659574468085107,\n",
       "  1088: 3.595744680851064,\n",
       "  1097: 3.5517241379310347,\n",
       "  1109: 2.8461538461538463,\n",
       "  1135: 3.26027397260274,\n",
       "  1146: 3.4263565891472867,\n",
       "  1179: 3.2275132275132274,\n",
       "  1188: 3.364864864864865,\n",
       "  1206: 3.6610169491525424,\n",
       "  1215: 4.631578947368421,\n",
       "  1221: 3.872413793103448,\n",
       "  1222: 3.5294117647058822,\n",
       "  1236: 3.2903225806451615,\n",
       "  1243: 3.732876712328767,\n",
       "  1248: 3.5223880597014925,\n",
       "  1268: 5.0,\n",
       "  1271: 3.840909090909091,\n",
       "  1276: 3.734,\n",
       "  1285: 3.75,\n",
       "  1295: 3.5317460317460316,\n",
       "  1298: 3.0,\n",
       "  1310: 3.5771725032425423,\n",
       "  1315: 3.9272727272727272,\n",
       "  1323: 4.020979020979021,\n",
       "  1326: 4.0606060606060606,\n",
       "  1327: 3.389830508474576,\n",
       "  1328: 3.6320754716981134,\n",
       "  1333: 2.6519033674963395,\n",
       "  1346: 4.72,\n",
       "  1350: 3.3260869565217392,\n",
       "  1353: 3.9391304347826086,\n",
       "  1355: 3.4603174603174605,\n",
       "  1357: 3.2246153846153844,\n",
       "  1358: 3.0851063829787235,\n",
       "  1365: 5.0,\n",
       "  1374: 3.764957264957265,\n",
       "  1375: 3.0,\n",
       "  1378: 4.3125,\n",
       "  1420: 4.059701492537314,\n",
       "  1427: 3.53781512605042,\n",
       "  1442: 4.1661600810536985,\n",
       "  1457: 3.5915678524374175,\n",
       "  1465: 4.196078431372549,\n",
       "  1475: 3.6666666666666665,\n",
       "  1481: 4.153846153846154,\n",
       "  1493: 3.1142857142857143,\n",
       "  1498: 3.5789473684210527,\n",
       "  1500: 3.7146853146853145,\n",
       "  1512: 3.1176470588235294,\n",
       "  1518: 4.242424242424242,\n",
       "  1522: 4.083333333333333,\n",
       "  1523: 3.217391304347826,\n",
       "  1527: 3.615483870967742,\n",
       "  1531: 3.56,\n",
       "  1533: 3.2876106194690267,\n",
       "  1534: 3.824053452115813,\n",
       "  1553: 3.3076923076923075,\n",
       "  1561: 4.105263157894737,\n",
       "  1573: 4.240196078431373,\n",
       "  1576: 3.5851063829787235,\n",
       "  1582: 2.909090909090909,\n",
       "  1588: 3.4545454545454546,\n",
       "  1593: 3.9583333333333335,\n",
       "  1611: 3.7387914230019494,\n",
       "  1619: 2.9,\n",
       "  1626: 3.513711151736746,\n",
       "  1636: 3.102766798418972,\n",
       "  1650: 3.2857142857142856,\n",
       "  1658: 2.989847715736041,\n",
       "  1664: 4.115107913669065,\n",
       "  1671: 4.029411764705882,\n",
       "  1689: 3.697674418604651,\n",
       "  1691: 3.408,\n",
       "  1693: 3.936224489795918,\n",
       "  1702: 3.4658823529411764,\n",
       "  1715: 4.245019920318725,\n",
       "  1717: 4.276315789473684,\n",
       "  1722: 3.43,\n",
       "  1723: 3.8173076923076925,\n",
       "  1724: 2.0,\n",
       "  1726: 3.411764705882353,\n",
       "  1730: 5.0,\n",
       "  1734: 3.7547528517110265,\n",
       "  1736: 4.2560975609756095,\n",
       "  1738: 3.4225352112676055,\n",
       "  1746: 3.5555555555555554,\n",
       "  1750: 4.0476190476190474,\n",
       "  1760: 3.6517857142857144,\n",
       "  1768: 3.4545454545454546,\n",
       "  1771: 4.23841059602649,\n",
       "  1779: 4.111111111111111,\n",
       "  1789: 3.238095238095238,\n",
       "  1791: 4.15625,\n",
       "  1798: 2.9615384615384617,\n",
       "  1801: 3.6666666666666665,\n",
       "  1810: 3.5316455696202533,\n",
       "  1811: 3.221978021978022,\n",
       "  1818: 2.9545454545454546,\n",
       "  1819: 4.214285714285714,\n",
       "  1830: 3.8565965583173996,\n",
       "  1831: 3.9692307692307693,\n",
       "  1846: 3.923954372623574,\n",
       "  1856: 4.224489795918367,\n",
       "  1871: 3.548725637181409,\n",
       "  1882: 4.1,\n",
       "  1888: 4.675,\n",
       "  1890: 4.5813953488372094,\n",
       "  1893: 3.3555555555555556,\n",
       "  1894: 3.916417910447761,\n",
       "  1897: 3.8057455540355676,\n",
       "  1900: 3.7209302325581395,\n",
       "  1911: 3.5058823529411764,\n",
       "  1912: 4.428571428571429,\n",
       "  1913: 3.3098591549295775,\n",
       "  1918: 2.8728682170542634,\n",
       "  1921: 3.390625,\n",
       "  1922: 3.2085106382978723,\n",
       "  1928: 3.357142857142857,\n",
       "  1933: 2.9705882352941178,\n",
       "  1940: 3.9166666666666665,\n",
       "  1942: 4.125,\n",
       "  1944: 4.0,\n",
       "  1947: 3.564625850340136,\n",
       "  1969: 4.0,\n",
       "  1982: 4.0,\n",
       "  1983: 3.6153846153846154,\n",
       "  1985: 4.125,\n",
       "  1994: 4.666666666666667,\n",
       "  2000: 3.732919254658385,\n",
       "  2003: 3.308641975308642,\n",
       "  2007: 3.628205128205128,\n",
       "  2025: 2.5,\n",
       "  2026: 3.2616822429906542,\n",
       "  2027: 4.434782608695652,\n",
       "  2030: 4.0,\n",
       "  2040: 3.259493670886076,\n",
       "  2050: 4.0,\n",
       "  2057: 3.075268817204301,\n",
       "  2104: 2.6254980079681274,\n",
       "  2110: 2.4,\n",
       "  2114: 3.375,\n",
       "  2122: 4.258064516129032,\n",
       "  2128: 3.3595238095238096,\n",
       "  2133: 3.4239316239316238,\n",
       "  2138: 3.5925925925925926,\n",
       "  2142: 4.25,\n",
       "  2150: 3.9642857142857144,\n",
       "  2157: 3.7142857142857144,\n",
       "  2161: 3.8363636363636364,\n",
       "  2163: 4.108108108108108,\n",
       "  2165: 3.4339622641509435,\n",
       "  2168: 3.533333333333333,\n",
       "  2172: 2.9804878048780488,\n",
       "  2177: 4.8,\n",
       "  2183: 4.068965517241379,\n",
       "  2189: 4.136363636363637,\n",
       "  2190: 3.518796992481203,\n",
       "  2196: 3.7023809523809526,\n",
       "  2198: 4.014925373134329,\n",
       "  2203: 3.1041666666666665,\n",
       "  2213: 3.8474082702387884,\n",
       "  2214: 3.7522935779816513,\n",
       "  2223: 4.010752688172043,\n",
       "  2225: 3.2633228840125392,\n",
       "  2233: 3.6904024767801857,\n",
       "  2242: 3.5081967213114753,\n",
       "  2250: 3.4917355371900825,\n",
       "  2264: 3.6798245614035086,\n",
       "  2267: 5.0,\n",
       "  2270: 3.9615384615384617,\n",
       "  2273: 3.5185185185185186,\n",
       "  2276: 3.1666666666666665,\n",
       "  2280: 3.7891304347826087,\n",
       "  2282: 3.44,\n",
       "  2295: 3.5,\n",
       "  2297: 2.9323308270676693,\n",
       "  2304: 4.382352941176471,\n",
       "  2305: 3.96,\n",
       "  2307: 3.750326797385621,\n",
       "  2308: 4.555555555555555,\n",
       "  2317: 3.727272727272727,\n",
       "  2333: 3.0675675675675675,\n",
       "  2338: 4.492146596858639,\n",
       "  2347: 4.125,\n",
       "  2363: 4.462776659959759,\n",
       "  2379: 2.7916666666666665,\n",
       "  2385: 4.221902017291066,\n",
       "  2397: 3.6451612903225805,\n",
       "  2404: 4.069767441860465,\n",
       "  2411: 3.68,\n",
       "  2412: 3.138888888888889,\n",
       "  2431: 3.315649867374005,\n",
       "  2442: 3.482573726541555,\n",
       "  2448: 3.1,\n",
       "  2455: 3.492904446546831,\n",
       "  2458: 3.4583333333333335,\n",
       "  2467: 3.814159292035398,\n",
       "  2469: 3.9044652128764277,\n",
       "  2475: 4.261904761904762,\n",
       "  2479: 4.6875,\n",
       "  2492: 4.142857142857143,\n",
       "  2504: 3.5,\n",
       "  2511: 3.1739130434782608,\n",
       "  2514: 2.75,\n",
       "  2519: 4.5,\n",
       "  2530: 3.950617283950617,\n",
       "  2534: 3.336283185840708,\n",
       "  2549: 4.609756097560975,\n",
       "  2551: 3.5625,\n",
       "  2555: 3.5294117647058822,\n",
       "  2563: 4.310344827586207,\n",
       "  2583: 3.869565217391304,\n",
       "  2599: 4.0,\n",
       "  2605: 4.048387096774194,\n",
       "  2612: 3.0588235294117645,\n",
       "  2614: 3.25,\n",
       "  2618: 4.0,\n",
       "  2623: 4.852941176470588,\n",
       "  2624: 3.35,\n",
       "  2630: 3.7142857142857144,\n",
       "  2636: 3.873015873015873,\n",
       "  2639: 3.613861386138614,\n",
       "  2662: 3.6267605633802815,\n",
       "  2678: 3.281461434370771,\n",
       "  2680: 4.639344262295082,\n",
       "  2693: 3.6998011928429424,\n",
       "  2697: 3.6451612903225805,\n",
       "  2701: 3.8141025641025643,\n",
       "  2704: 3.183673469387755,\n",
       "  2705: 3.3629032258064515,\n",
       "  2720: 3.895348837209302,\n",
       "  2723: 3.7941176470588234,\n",
       "  2743: 4.3478260869565215,\n",
       "  2746: 4.679245283018868,\n",
       "  2753: 2.7777777777777777,\n",
       "  2754: 3.675,\n",
       "  2757: 2.8185595567867034,\n",
       "  2762: 2.9195402298850577,\n",
       "  2775: 3.7254901960784315,\n",
       "  2781: 2.5873015873015874,\n",
       "  2782: 3.1666666666666665,\n",
       "  2790: 3.4465408805031448,\n",
       "  2794: 3.3819875776397517,\n",
       "  2807: 3.596085409252669,\n",
       "  2820: 4.375,\n",
       "  2831: 3.584,\n",
       "  2844: 3.8260869565217392,\n",
       "  2848: 3.881720430107527,\n",
       "  2862: 4.0,\n",
       "  2869: 2.823529411764706,\n",
       "  2878: 3.9401840490797544,\n",
       "  2882: 3.0555555555555554,\n",
       "  2892: 3.477112676056338,\n",
       "  2894: 3.0,\n",
       "  2900: 3.6923076923076925,\n",
       "  2905: 3.4136960600375232,\n",
       "  2909: 4.242424242424242,\n",
       "  2913: 3.75,\n",
       "  2922: 2.4285714285714284,\n",
       "  2945: 4.5,\n",
       "  2947: 3.3820224719101124,\n",
       "  2960: 3.9119318181818183,\n",
       "  2975: 4.0588235294117645,\n",
       "  2976: 3.5388679245283017,\n",
       "  2977: 2.4,\n",
       "  2980: 3.753846153846154,\n",
       "  2994: 5.0,\n",
       "  2996: 4.147186147186147,\n",
       "  3010: 3.6,\n",
       "  3012: 3.937984496124031,\n",
       "  3018: 3.662921348314607,\n",
       "  3031: 3.9545454545454546,\n",
       "  3035: 2.9583333333333335,\n",
       "  3040: 3.7016129032258065,\n",
       "  3046: 4.40625,\n",
       "  3049: 3.6403508771929824,\n",
       "  3053: 3.3333333333333335,\n",
       "  3060: 3.0,\n",
       "  3069: 3.667870036101083,\n",
       "  3094: 3.6808510638297873,\n",
       "  3097: 3.581081081081081,\n",
       "  3098: 4.571428571428571,\n",
       "  3104: 3.3411764705882354,\n",
       "  3132: 3.864864864864865,\n",
       "  3157: 3.272727272727273,\n",
       "  3168: 3.2625,\n",
       "  3172: 3.506849315068493,\n",
       "  3174: 1.0,\n",
       "  3184: 3.0829694323144103,\n",
       "  3186: 3.9647302904564317,\n",
       "  3188: 4.5,\n",
       "  3195: 3.9130434782608696,\n",
       "  3200: 3.7837837837837838,\n",
       "  3204: 4.285714285714286,\n",
       "  3210: 4.0504587155963305,\n",
       "  3221: 3.589041095890411,\n",
       "  3224: 3.4242424242424243,\n",
       "  3232: 3.1666666666666665,\n",
       "  3240: 3.764705882352941,\n",
       "  3247: 3.413793103448276,\n",
       "  3260: 3.5801526717557253,\n",
       "  3263: 3.5,\n",
       "  3284: 3.7049180327868854,\n",
       "  3285: 4.071428571428571,\n",
       "  3290: 3.3333333333333335,\n",
       "  3292: 4.011705685618729,\n",
       "  3295: 3.33,\n",
       "  3300: 3.467741935483871,\n",
       "  3303: 4.666666666666667,\n",
       "  3308: 3.9130434782608696,\n",
       "  3321: 2.6910714285714286,\n",
       "  3323: 3.5062111801242235,\n",
       "  3328: 4.503759398496241,\n",
       "  3330: 4.108527131782946,\n",
       "  3335: 3.5454545454545454,\n",
       "  3344: 3.5,\n",
       "  3350: 4.25,\n",
       "  3354: 3.4680851063829787,\n",
       "  3356: 3.7083333333333335,\n",
       "  3358: 3.8518518518518516,\n",
       "  3363: 3.432520325203252,\n",
       "  3373: 3.7217391304347824,\n",
       "  3377: 3.987704918032787,\n",
       "  3378: 3.127659574468085,\n",
       "  3386: 4.508771929824562,\n",
       "  3392: 3.9557522123893807,\n",
       "  3402: 3.8518518518518516,\n",
       "  3404: 3.2470588235294118,\n",
       "  3405: 3.6315789473684212,\n",
       "  3406: 3.2786069651741294,\n",
       "  3419: 3.75,\n",
       "  3423: 2.5594202898550726,\n",
       "  3424: 3.509259259259259,\n",
       "  3432: 4.4088397790055245,\n",
       "  3433: 3.4,\n",
       "  3439: 4.6923076923076925,\n",
       "  3449: 3.526315789473684,\n",
       "  3456: 3.7285714285714286,\n",
       "  3458: 3.20598469032707,\n",
       "  3461: 3.1666666666666665,\n",
       "  3462: 3.611111111111111,\n",
       "  3466: 3.8583333333333334,\n",
       "  3468: 3.6470588235294117,\n",
       "  3469: 3.2083333333333335,\n",
       "  3470: 3.532994923857868,\n",
       "  3487: 3.342857142857143,\n",
       "  3492: 3.3529411764705883,\n",
       "  3493: 3.361111111111111,\n",
       "  3495: 3.9881889763779528,\n",
       "  3498: 4.128712871287129,\n",
       "  3501: 2.8181818181818183,\n",
       "  3502: 3.673611111111111,\n",
       "  3504: 4.2,\n",
       "  3513: 4.0,\n",
       "  3518: 4.363636363636363,\n",
       "  3520: 3.888888888888889,\n",
       "  3521: 3.909090909090909,\n",
       "  3522: 3.6733870967741935,\n",
       "  3530: 3.988826815642458,\n",
       "  3532: 3.5517241379310347,\n",
       "  3549: 3.472,\n",
       "  3561: 2.540983606557377,\n",
       "  3582: 4.4,\n",
       "  3589: 3.875,\n",
       "  3593: 3.581081081081081,\n",
       "  3595: 3.1765151515151517,\n",
       "  3596: 4.689655172413793,\n",
       "  3597: 4.352380952380952,\n",
       "  3599: 3.111111111111111,\n",
       "  3602: 3.5892857142857144,\n",
       "  3604: 3.423432682425488,\n",
       "  3611: 3.0869565217391304,\n",
       "  3612: 3.712230215827338,\n",
       "  3613: 3.6818181818181817,\n",
       "  3621: 3.8312020460358056,\n",
       "  3636: 3.8157894736842106,\n",
       "  3638: 4.589743589743589,\n",
       "  3643: 3.439252336448598,\n",
       "  3660: 3.4705882352941178,\n",
       "  3679: 3.3797468354430378,\n",
       "  3687: 3.395348837209302,\n",
       "  3694: 3.316526610644258,\n",
       "  3695: 3.258687258687259,\n",
       "  3715: 3.1555555555555554,\n",
       "  3718: 3.074858757062147,\n",
       "  3720: 3.5353535353535355,\n",
       "  3723: 3.6065573770491803,\n",
       "  3725: 3.9523809523809526,\n",
       "  3728: 3.187878787878788,\n",
       "  3741: 2.96,\n",
       "  3742: 3.345991561181435,\n",
       "  3743: 3.0761523046092183,\n",
       "  3764: 4.237410071942446,\n",
       "  3767: 3.500805152979066,\n",
       "  3777: 3.65,\n",
       "  3786: 3.5745526838966204,\n",
       "  3788: 3.536082474226804,\n",
       "  3798: 3.306410256410256,\n",
       "  3800: 2.6666666666666665,\n",
       "  3802: 3.515418502202643,\n",
       "  3817: 4.25,\n",
       "  3825: 3.7142857142857144,\n",
       "  3826: 3.7909967845659165,\n",
       "  3830: 3.258426966292135,\n",
       "  3841: 3.8863636363636362,\n",
       "  3870: 3.6196213425129087,\n",
       "  3871: 3.6315789473684212,\n",
       "  3872: 4.467532467532467,\n",
       "  3894: 3.8076923076923075,\n",
       "  3902: 3.542372881355932,\n",
       "  3906: 3.6989247311827955,\n",
       "  3916: 4.1692307692307695,\n",
       "  3920: 4.466666666666667,\n",
       "  3921: 3.686868686868687,\n",
       "  3931: 3.5238095238095237,\n",
       "  3934: 4.558739255014327,\n",
       "  3935: 3.7903225806451615,\n",
       "  3937: 2.740740740740741,\n",
       "  3941: 3.409090909090909,\n",
       "  3949: 3.7049180327868854,\n",
       "  3952: 2.9302325581395348,\n",
       "  3983: 3.04,\n",
       "  3984: 3.662303664921466,\n",
       "  3992: 3.8157894736842106,\n",
       "  3998: 4.699427480916031,\n",
       "  4011: 3.5,\n",
       "  4015: 3.3333333333333335,\n",
       "  4016: 3.9420289855072466,\n",
       "  4034: 4.6,\n",
       "  4044: 3.613821138211382,\n",
       "  4050: 3.477777777777778,\n",
       "  4057: 3.925243770314193,\n",
       "  4059: 3.517123287671233,\n",
       "  4062: 3.183673469387755,\n",
       "  4066: 3.9692307692307693,\n",
       "  4084: 3.728395061728395,\n",
       "  4087: 3.28125,\n",
       "  4089: 3.52,\n",
       "  4101: 3.357142857142857,\n",
       "  4103: 3.8260869565217392,\n",
       "  4106: 2.9473684210526314,\n",
       "  4125: 3.819277108433735,\n",
       "  4127: 3.6863905325443787,\n",
       "  4142: 3.3,\n",
       "  4166: 3.618181818181818,\n",
       "  4167: 3.738095238095238,\n",
       "  4171: 4.178217821782178,\n",
       "  4177: 3.775,\n",
       "  4184: 3.8771929824561404,\n",
       "  4193: 3.635514018691589,\n",
       "  4196: 3.5238095238095237,\n",
       "  4229: 3.4630541871921183,\n",
       "  4230: 4.177570093457944,\n",
       "  4244: 2.8372093023255816,\n",
       "  4247: 3.4922206506364923,\n",
       "  4265: 3.6551724137931036,\n",
       "  4269: 3.85,\n",
       "  4277: 3.784090909090909,\n",
       "  4292: 3.253012048192771,\n",
       "  4294: 3.8727272727272726,\n",
       "  4300: 3.8205128205128207,\n",
       "  4306: 3.0605714285714285,\n",
       "  4314: 3.419642857142857,\n",
       "  4315: 4.187817258883249,\n",
       "  4318: 3.0827586206896553,\n",
       "  4326: 3.8106382978723405,\n",
       "  4330: 3.890625,\n",
       "  4334: 3.1,\n",
       "  4343: 4.0,\n",
       "  4347: 3.8520499108734403,\n",
       "  4350: 3.759259259259259,\n",
       "  4356: 3.7,\n",
       "  4365: 3.6621621621621623,\n",
       "  4368: 3.7017543859649122,\n",
       "  4374: 4.2444444444444445,\n",
       "  4389: 3.926829268292683,\n",
       "  4395: 4.176470588235294,\n",
       "  4398: 3.8843537414965987,\n",
       "  4407: 2.473684210526316,\n",
       "  4409: 4.514915693904021,\n",
       "  4414: 4.280487804878049,\n",
       "  4419: 4.133333333333334,\n",
       "  4421: 3.3930024410089503,\n",
       "  4422: 3.923758865248227,\n",
       "  4424: 3.946236559139785,\n",
       "  4433: 3.7777777777777777,\n",
       "  4436: 4.3076923076923075,\n",
       "  4437: 3.4611111111111112,\n",
       "  4439: 3.3341346153846154,\n",
       "  4451: 3.5853658536585367,\n",
       "  4456: 3.6527777777777777,\n",
       "  4460: 3.22962962962963,\n",
       "  4461: 3.7265917602996255,\n",
       "  4465: 3.327731092436975,\n",
       "  4473: 3.5,\n",
       "  4477: 3.7240875912408757,\n",
       "  4488: 2.8393162393162394,\n",
       "  4490: 2.9390243902439024,\n",
       "  4491: 4.317073170731708,\n",
       "  4504: 4.123076923076923,\n",
       "  4505: 3.5163934426229506,\n",
       "  4518: 3.9767441860465116,\n",
       "  4522: 2.111111111111111,\n",
       "  4525: 4.1875,\n",
       "  4537: 4.217741935483871,\n",
       "  4540: 3.6875,\n",
       "  4545: 4.18595041322314,\n",
       "  4556: 3.439252336448598,\n",
       "  4559: 4.176470588235294,\n",
       "  4574: 3.1176470588235294,\n",
       "  4576: 3.4461152882205512,\n",
       "  4580: 3.6904761904761907,\n",
       "  4581: 4.065420560747664,\n",
       "  4588: 4.531645569620253,\n",
       "  4597: 3.0960874568469503,\n",
       "  4605: 4.5,\n",
       "  4606: 3.3848039215686274,\n",
       "  4607: 2.6296296296296298,\n",
       "  4623: 3.8294573643410854,\n",
       "  4624: 3.5185185185185186,\n",
       "  4628: 2.6881188118811883,\n",
       "  4630: 3.5733333333333333,\n",
       "  4638: 3.7657142857142856,\n",
       "  4639: 2.9047619047619047,\n",
       "  4658: 2.9375,\n",
       "  4666: 3.930622009569378,\n",
       "  4679: 4.760744985673353,\n",
       "  4702: 4.0,\n",
       "  4705: 5.0,\n",
       "  4706: 3.760824742268041,\n",
       "  4728: 4.0,\n",
       "  4730: 3.3863636363636362,\n",
       "  4733: 3.68,\n",
       "  4737: 3.2222222222222223,\n",
       "  4738: 3.9069767441860463,\n",
       "  4739: 3.7541371158392436,\n",
       "  4751: 3.857142857142857,\n",
       "  4753: 4.323917137476459,\n",
       "  4764: 3.769230769230769,\n",
       "  4773: 3.5714285714285716,\n",
       "  4783: 3.7022613065326633,\n",
       "  4796: 3.0,\n",
       "  4797: 3.413793103448276,\n",
       "  4804: 2.6391752577319587,\n",
       "  4807: 4.5162790697674415,\n",
       "  4815: 3.4285714285714284,\n",
       "  4832: 3.1161616161616164,\n",
       "  4837: 3.8260869565217392,\n",
       "  4850: 3.6538461538461537,\n",
       "  4853: 3.552380952380952,\n",
       "  4862: 4.0,\n",
       "  4873: 3.860294117647059,\n",
       "  4875: 3.4782608695652173,\n",
       "  4878: 3.588235294117647,\n",
       "  4882: 3.1946902654867255,\n",
       "  4893: 3.7663934426229506,\n",
       "  4895: 3.985074626865672,\n",
       "  4905: 3.2235915492957745,\n",
       "  4906: 3.856294536817102,\n",
       "  4919: 3.3703703703703702,\n",
       "  4932: 2.411764705882353,\n",
       "  4953: 4.285714285714286,\n",
       "  4954: 3.48,\n",
       "  4960: 3.3496240601503757,\n",
       "  4967: 3.8781725888324874,\n",
       "  4973: 3.212121212121212,\n",
       "  4977: 3.5866666666666664,\n",
       "  4983: 3.7804878048780486,\n",
       "  4991: 3.6097560975609757,\n",
       "  4996: 3.3076923076923075,\n",
       "  5011: 4.914285714285715,\n",
       "  5017: 3.6344827586206896,\n",
       "  5022: 3.933333333333333,\n",
       "  5026: 3.0,\n",
       "  5027: 3.5771670190274842,\n",
       "  5029: 1.0,\n",
       "  5031: 3.391304347826087,\n",
       "  5034: 3.304,\n",
       "  5082: 4.3070539419087135,\n",
       "  5087: 3.485981308411215,\n",
       "  5088: 4.217391304347826,\n",
       "  5092: 3.3391304347826085,\n",
       "  5094: 3.9473684210526314,\n",
       "  5099: 4.111111111111111,\n",
       "  5105: 3.8923076923076922,\n",
       "  5107: 3.62803738317757,\n",
       "  5109: 3.2666666666666666,\n",
       "  5112: 3.217391304347826,\n",
       "  5117: 3.9692307692307693,\n",
       "  5126: 3.519083969465649,\n",
       "  5127: 2.0,\n",
       "  5145: 3.4642857142857144,\n",
       "  5159: 3.8666666666666667,\n",
       "  5163: 3.1724137931034484,\n",
       "  5167: 3.7777777777777777,\n",
       "  5168: 3.378504672897196,\n",
       "  5169: 3.4814814814814814,\n",
       "  5170: 4.7,\n",
       "  5172: 3.8461538461538463,\n",
       "  5176: 4.265486725663717,\n",
       "  5178: 3.076923076923077,\n",
       "  5202: 3.380281690140845,\n",
       "  5203: 3.310344827586207,\n",
       "  5210: 3.3846153846153846,\n",
       "  5225: 3.9615384615384617,\n",
       "  5228: 4.194805194805195,\n",
       "  5245: 3.6,\n",
       "  5251: 3.5,\n",
       "  5255: 3.736,\n",
       "  5256: 3.207920792079208,\n",
       "  5269: 2.857142857142857,\n",
       "  5275: 3.0,\n",
       "  5277: 3.218543046357616,\n",
       "  5280: 3.5106382978723403,\n",
       "  5281: 4.142857142857143,\n",
       "  5298: 3.875,\n",
       "  5308: 3.537313432835821,\n",
       "  5323: 2.8333333333333335,\n",
       "  5336: 3.1846153846153844,\n",
       "  5339: 3.3863636363636362,\n",
       "  5349: 3.4324324324324325,\n",
       "  5353: 5.0,\n",
       "  5356: 2.6323529411764706,\n",
       "  5362: 4.0344827586206895,\n",
       "  5369: 3.55,\n",
       "  5380: 3.2222222222222223,\n",
       "  5390: 3.5,\n",
       "  5399: 3.8098663926002057,\n",
       "  5404: 3.6011904761904763,\n",
       "  5412: 3.3425925925925926,\n",
       "  5426: 2.0,\n",
       "  5428: 3.769230769230769,\n",
       "  5430: 3.4202020202020202,\n",
       "  5442: 3.25,\n",
       "  5446: 3.276995305164319,\n",
       "  5454: 3.3402061855670104,\n",
       "  5469: 3.5942028985507246,\n",
       "  5470: 4.0,\n",
       "  5474: 4.096774193548387,\n",
       "  5480: 2.909090909090909,\n",
       "  5496: 3.616279069767442,\n",
       "  5498: 3.5714285714285716,\n",
       "  5507: 2.9444444444444446,\n",
       "  5516: 3.15625,\n",
       "  5519: 3.277227722772277,\n",
       "  5525: 3.8846153846153846,\n",
       "  5530: 3.9352773826458036,\n",
       "  5534: 3.426470588235294,\n",
       "  5549: 4.083333333333333,\n",
       "  5552: 3.0727272727272728,\n",
       "  5568: 2.946132596685083,\n",
       "  5569: 3.9445178335535007,\n",
       "  5570: 3.0357142857142856,\n",
       "  5573: 4.115384615384615,\n",
       "  5575: 3.672,\n",
       "  5583: 3.7783018867924527,\n",
       "  5600: 3.644628099173554,\n",
       "  5602: 4.384615384615385,\n",
       "  5605: 4.1875,\n",
       "  5609: 3.6793893129770994,\n",
       "  5612: 3.5511811023622046,\n",
       "  5618: 3.7502392344497606,\n",
       "  5631: 3.0,\n",
       "  5646: 3.1666666666666665,\n",
       "  5650: 3.509433962264151,\n",
       "  5652: 3.571041948579161,\n",
       "  5655: 3.711764705882353,\n",
       "  5658: 3.046153846153846,\n",
       "  5663: 4.15,\n",
       "  5665: 3.505649717514124,\n",
       "  5668: 4.662921348314606,\n",
       "  5671: 3.5789473684210527,\n",
       "  5682: 3.4976076555023923,\n",
       "  5685: 3.2222222222222223,\n",
       "  5686: 4.426778242677824,\n",
       "  5689: 2.888888888888889,\n",
       "  5696: 4.232843137254902,\n",
       "  5710: 4.03125,\n",
       "  5720: 3.4444444444444446,\n",
       "  5722: 3.5636363636363635,\n",
       "  5727: 4.347474747474747,\n",
       "  5734: 2.4358974358974357,\n",
       "  5739: 4.008620689655173,\n",
       "  5742: 3.5,\n",
       "  5749: 3.986111111111111,\n",
       "  5756: 4.096774193548387,\n",
       "  5758: 3.336206896551724,\n",
       "  5762: 3.8524173027989823,\n",
       "  5768: 3.6097560975609757,\n",
       "  5771: 3.799363057324841,\n",
       "  5773: 3.6944444444444446,\n",
       "  5775: 3.507575757575758,\n",
       "  5823: 4.041095890410959,\n",
       "  5827: 4.266666666666667,\n",
       "  5834: 1.0,\n",
       "  5836: 3.3676470588235294,\n",
       "  5841: 3.466403162055336,\n",
       "  5842: 4.277777777777778,\n",
       "  5851: 4.621621621621622,\n",
       "  5856: 2.7044334975369457,\n",
       "  5858: 3.3016528925619837,\n",
       "  5862: 3.6511627906976742,\n",
       "  5871: 3.6608695652173915,\n",
       "  5872: 3.5555555555555554,\n",
       "  5875: 2.9,\n",
       "  5878: 3.1354838709677417,\n",
       "  5880: 4.176470588235294,\n",
       "  5889: 3.628032345013477,\n",
       "  5899: 3.5,\n",
       "  5900: 3.4716981132075473,\n",
       "  5916: 3.978723404255319,\n",
       "  5917: 3.097560975609756,\n",
       "  5918: 3.8727272727272726,\n",
       "  5922: 4.0,\n",
       "  5926: 3.302325581395349,\n",
       "  5927: 4.122641509433962,\n",
       "  5931: 4.130434782608695,\n",
       "  5945: 2.34392523364486,\n",
       "  5948: 3.9646464646464645,\n",
       "  5949: 2.7777777777777777,\n",
       "  5959: 3.25,\n",
       "  5966: 2.5454545454545454,\n",
       "  5977: 3.8684210526315788,\n",
       "  5980: 3.8882521489971347,\n",
       "  5985: 4.111111111111111,\n",
       "  5989: 3.2467532467532467,\n",
       "  5994: 3.5620915032679736,\n",
       "  6013: 4.769736842105263,\n",
       "  6018: 3.6,\n",
       "  6024: 4.285714285714286,\n",
       "  6025: 3.327272727272727,\n",
       "  6037: 3.4556962025316458,\n",
       "  6040: 2.606060606060606,\n",
       "  6042: 4.214285714285714,\n",
       "  6048: 2.8911290322580645,\n",
       "  6056: 3.210221793635487,\n",
       "  6057: 3.597938144329897,\n",
       "  6062: 3.9223880597014924,\n",
       "  6065: 3.4322766570605188,\n",
       "  6071: 4.227513227513228,\n",
       "  6080: 4.393103448275862,\n",
       "  6082: 3.1960132890365447,\n",
       "  6092: 4.209090909090909,\n",
       "  6096: 3.5211267605633805,\n",
       "  6110: 3.130434782608696,\n",
       "  6130: 3.4770992366412212,\n",
       "  6134: 3.7333333333333334,\n",
       "  6141: 3.4,\n",
       "  6154: 3.25,\n",
       "  6161: 3.53072625698324,\n",
       "  6172: 3.4385382059800667,\n",
       "  6177: 4.174603174603175,\n",
       "  6181: 3.6869565217391305,\n",
       "  6184: 4.214285714285714,\n",
       "  6186: 3.6666666666666665,\n",
       "  6190: 3.6923076923076925,\n",
       "  6195: 4.45925925925926,\n",
       "  6206: 3.738430583501006,\n",
       "  6228: 3.141843971631206,\n",
       "  6231: 3.6761363636363638,\n",
       "  6262: 3.9069767441860463,\n",
       "  6265: 4.161137440758294,\n",
       "  6268: 3.929936305732484,\n",
       "  6273: 3.65625,\n",
       "  6303: 4.211267605633803,\n",
       "  6304: 3.0,\n",
       "  6310: 3.5374149659863945,\n",
       "  6311: 4.32,\n",
       "  6312: 3.5,\n",
       "  6319: 3.829525483304042,\n",
       "  6323: 4.5,\n",
       "  6325: 3.585858585858586,\n",
       "  6334: 4.515463917525773,\n",
       "  6336: 3.419047619047619,\n",
       "  6337: 3.0357142857142856,\n",
       "  6339: 3.532258064516129,\n",
       "  6340: 3.7857142857142856,\n",
       "  6360: 3.7755102040816326,\n",
       "  6363: 2.736842105263158,\n",
       "  6369: 3.4388489208633093,\n",
       "  6371: 4.21875,\n",
       "  6373: 4.315436241610739,\n",
       "  6374: 2.9384615384615387,\n",
       "  6378: 3.390625,\n",
       "  6381: 2.7211538461538463,\n",
       "  6384: 3.5172413793103448,\n",
       "  6395: 4.0,\n",
       "  6401: 4.195583596214511,\n",
       "  6408: 3.563063063063063,\n",
       "  6409: 3.5,\n",
       "  6416: 3.6839506172839505,\n",
       "  6418: 4.2439024390243905,\n",
       "  6427: 4.204545454545454,\n",
       "  6435: 4.0,\n",
       "  6438: 4.0,\n",
       "  6440: 3.6363636363636362,\n",
       "  6457: 3.5348837209302326,\n",
       "  6460: 3.820212765957447,\n",
       "  6463: 4.235294117647059,\n",
       "  6464: 5.0,\n",
       "  6483: 3.9632183908045975,\n",
       "  6485: 3.9644128113879002,\n",
       "  6487: 4.204545454545454,\n",
       "  6488: 3.87603305785124,\n",
       "  6496: 3.3442622950819674,\n",
       "  6499: 3.8,\n",
       "  6500: 3.254612546125461,\n",
       "  6504: 3.9868073878627968,\n",
       "  6510: 3.488,\n",
       "  6514: 4.201680672268908,\n",
       "  6517: 4.611111111111111,\n",
       "  6518: 4.105263157894737,\n",
       "  6522: 3.121212121212121,\n",
       "  6527: 3.4,\n",
       "  6529: 3.856230031948882,\n",
       "  6534: 3.7866666666666666,\n",
       "  6544: 4.011556240369799,\n",
       "  6567: 3.9125,\n",
       "  6586: 2.880952380952381,\n",
       "  6603: 4.123893805309734,\n",
       "  6608: 3.632727272727273,\n",
       "  6628: 3.3821656050955413,\n",
       "  6629: 3.158559696778269,\n",
       "  6635: 4.92,\n",
       "  6655: 3.7903225806451615,\n",
       "  6660: 2.5,\n",
       "  6663: 4.120930232558139,\n",
       "  6666: 3.7265917602996255,\n",
       "  6669: 3.109181141439206,\n",
       "  ...}}"
      ]
     },
     "execution_count": 42,
     "metadata": {},
     "output_type": "execute_result"
    }
   ],
   "source": [
    "# View the dictionary\n",
    "train_avg"
   ]
  },
  {
   "cell_type": "code",
   "execution_count": 43,
   "metadata": {},
   "outputs": [
    {
     "name": "stdout",
     "output_type": "stream",
     "text": [
      "Average User Rating 149 : 4.25\n"
     ]
    }
   ],
   "source": [
    "# Print\n",
    "print('Average User Rating 149 :', train_avg['user'][149])"
   ]
  },
  {
   "cell_type": "markdown",
   "metadata": {},
   "source": [
    "__Now we calculate the average of ratings per film.__"
   ]
  },
  {
   "cell_type": "code",
   "execution_count": 44,
   "metadata": {},
   "outputs": [],
   "source": [
    "# Average Movie Ratings\n",
    "train_avg['movie'] =  calculate_average_ratings(train_sparse_matrix, of_users = False)"
   ]
  },
  {
   "cell_type": "code",
   "execution_count": 45,
   "metadata": {},
   "outputs": [
    {
     "name": "stdout",
     "output_type": "stream",
     "text": [
      "Average Movie Rating 32 : 3.9922680412371134\n"
     ]
    }
   ],
   "source": [
    "# Print\n",
    "print('Average Movie Rating 32 :', train_avg['movie'][32])"
   ]
  },
  {
   "cell_type": "markdown",
   "metadata": {},
   "source": [
    "__Average PDFs and CDFs. User ratings and movies (training data).__"
   ]
  },
  {
   "cell_type": "code",
   "execution_count": 46,
   "metadata": {},
   "outputs": [
    {
     "data": {
      "image/png": "[encoded data removed]",
      "text/plain": [
       "<Figure size 640x288 with 2 Axes>"
      ]
     },
     "metadata": {
      "needs_background": "light"
     },
     "output_type": "display_data"
    }
   ],
   "source": [
    "# Plot\n",
    "fig, (ax1, ax2) = plt.subplots(nrows = 1, ncols = 2, figsize = plt.figaspect(.45))\n",
    "fig.suptitle('Rating Averages Per User and Per Movie', fontsize = 15)\n",
    "\n",
    "ax1.set_title('User Rating Averages')\n",
    "\n",
    "# We get the list of average user ratings from the average dictionary.\n",
    "users_avg = [rat for rat in train_avg['user'].values()]\n",
    "sns.distplot(users_avg, ax = ax1, hist = False, kde_kws = dict(cumulative = True), label = 'CDF')\n",
    "sns.distplot(users_avg, ax = ax1, hist = False, label = 'PDF')\n",
    "\n",
    "ax2.set_title('Movie Rating Averages')\n",
    "\n",
    "# We get the list of average movie ratings from the dictionary.\n",
    "movies_avg = [rat for rat in train_avg['movie'].values()]\n",
    "sns.distplot(movies_avg, ax = ax2, hist = False, kde_kws = dict(cumulative = True), label = 'CDF')\n",
    "sns.distplot(movies_avg, ax = ax2, hist = False, label = 'PDF')\n",
    "\n",
    "plt.show()"
   ]
  },
  {
   "cell_type": "markdown",
   "metadata": {},
   "source": [
    "## Cold Start Problem"
   ]
  },
  {
   "cell_type": "code",
   "execution_count": 47,
   "metadata": {},
   "outputs": [],
   "source": [
    "# Users Cold start\n",
    "train_users = len(train_avg['user'])\n",
    "new_users = total_users - train_users"
   ]
  },
  {
   "cell_type": "code",
   "execution_count": 48,
   "metadata": {},
   "outputs": [
    {
     "name": "stdout",
     "output_type": "stream",
     "text": [
      "Grand Total of Users: 480189\n",
      "Total Users in Training : 405041\n",
      "Total Users Not in Training: 75148 (15.65%)\n"
     ]
    }
   ],
   "source": [
    "# Print\n",
    "print('Grand Total of Users:', total_users)\n",
    "print('Total Users in Training :', train_users)\n",
    "print(\"Total Users Not in Training: {} ({}%)\".format(new_users,\n",
    "                                                                   np.round((new_users / total_users) * 100, 2)))"
   ]
  },
  {
   "cell_type": "markdown",
   "metadata": {},
   "source": [
    "75148 users are not part of the training data, that is, we have no way of learning the evaluation pattern of these users! This is the cold start problem."
   ]
  },
  {
   "cell_type": "code",
   "execution_count": 49,
   "metadata": {},
   "outputs": [],
   "source": [
    "# Movies Cold start\n",
    "train_movies = len(train_avg['movie'])\n",
    "new_movies = total_movies - train_movies"
   ]
  },
  {
   "cell_type": "code",
   "execution_count": 50,
   "metadata": {},
   "outputs": [
    {
     "name": "stdout",
     "output_type": "stream",
     "text": [
      "Grand Total of Movies: 17770\n",
      "Total Films in Training: 17424\n",
      "Total Films Not in Training: 346 (1.95%)\n"
     ]
    }
   ],
   "source": [
    "# Print\n",
    "print('Grand Total of Movies:', total_movies)\n",
    "print('Total Films in Training:', train_movies)\n",
    "print(\"Total Films Not in Training: {} ({}%)\".format(new_movies,\n",
    "                                                                 np.round((new_movies/total_movies)*100, 2)))"
   ]
  },
  {
   "cell_type": "markdown",
   "metadata": {},
   "source": [
    "346 movies do not appear in the training data. We will have to deal with this when we work especially on the Machine Learning model."
   ]
  },
  {
   "cell_type": "markdown",
   "metadata": {},
   "source": [
    "## Calculating the User Similarity Matrix"
   ]
  },
  {
   "cell_type": "code",
   "execution_count": 51,
   "metadata": {},
   "outputs": [],
   "source": [
    "# Similarity calculation function\n",
    "def calculate_user_similarity(sparse_matrix, \n",
    "                                 compute_for_few = False, \n",
    "                                 top = 100, \n",
    "                                 verbose = False, \n",
    "                                 verb_for_n_rows = 20,\n",
    "                                 draw_time_taken = True):\n",
    "    \n",
    "    # Control variables\n",
    "    no_of_users, _ = sparse_matrix.shape\n",
    "    row_ind, col_ind = sparse_matrix.nonzero()\n",
    "    row_ind = sorted(set(row_ind)) \n",
    "    time_taken = list()\n",
    "    rows, cols, data = list(), list(), list()\n",
    "    if verbose: print(\"Calculating top\", top, \"similarities for each user...\")\n",
    "    start = datetime.now()\n",
    "    temp = 0\n",
    "    \n",
    "    # Matrix Loop\n",
    "    for row in row_ind[:top] if compute_for_few else row_ind:\n",
    "        temp = temp + 1\n",
    "        prev = datetime.now()\n",
    "        \n",
    "        # Calculating the cosine similarity\n",
    "        sim = cosine_similarity(sparse_matrix.getrow(row), sparse_matrix).ravel()\n",
    "        top_sim_ind = sim.argsort()[-top:]\n",
    "        top_sim_val = sim[top_sim_ind]\n",
    "        rows.extend([row]*top)\n",
    "        cols.extend(top_sim_ind)\n",
    "        data.extend(top_sim_val)\n",
    "        time_taken.append(datetime.now().timestamp() - prev.timestamp())\n",
    "        \n",
    "        if verbose:\n",
    "            if temp%verb_for_n_rows == 0:\n",
    "                print(\"Completed calculation for {} users [  total time : {}  ]\".format(temp, datetime.now()-start))\n",
    "            \n",
    "    if verbose: print('Creation of sparse matrix from computed similarities...')    \n",
    "        \n",
    "    if draw_time_taken:\n",
    "        plt.plot(time_taken, label = 'Calculation time for each user')\n",
    "        plt.plot(np.cumsum(time_taken), label = 'Total time')\n",
    "        plt.legend(loc = 'best')\n",
    "        plt.xlabel('Users')\n",
    "        plt.ylabel('Time (seconds)')\n",
    "        plt.show()\n",
    "        \n",
    "    return sparse.csr_matrix((data, (rows, cols)), shape = (no_of_users, no_of_users)), time_taken      "
   ]
  },
  {
   "cell_type": "code",
   "execution_count": 52,
   "metadata": {},
   "outputs": [
    {
     "name": "stdout",
     "output_type": "stream",
     "text": [
      "Calculating top 100 similarities for each user...\n",
      "Completed calculation for 20 users [  total time : 0:01:21.823198  ]\n",
      "Completed calculation for 40 users [  total time : 0:02:42.962442  ]\n",
      "Completed calculation for 60 users [  total time : 0:04:01.593251  ]\n",
      "Completed calculation for 80 users [  total time : 0:05:20.324747  ]\n",
      "Completed calculation for 100 users [  total time : 0:06:39.804223  ]\n",
      "Creation of sparse matrix from computed similarities...\n"
     ]
    },
    {
     "data": {
      "image/png": "[encoded data removed]",
      "text/plain": [
       "<Figure size 432x288 with 1 Axes>"
      ]
     },
     "metadata": {
      "needs_background": "light"
     },
     "output_type": "display_data"
    },
    {
     "name": "stdout",
     "output_type": "stream",
     "text": [
      "Total Processing Time: 0:06:51.595724\n"
     ]
    }
   ],
   "source": [
    "# Calculate the similarity\n",
    "\n",
    "# Mark the start\n",
    "start = datetime.now()\n",
    "\n",
    "# Calculates the similarity\n",
    "sparse_matrix_user, _ = calculate_user_similarity(train_sparse_matrix, \n",
    "                                                      compute_for_few = True, \n",
    "                                                      top = 100, \n",
    "                                                      verbose = True)\n",
    "\n",
    "print(\"Total Processing Time:\", datetime.now() - start)"
   ]
  },
  {
   "cell_type": "markdown",
   "metadata": {},
   "source": [
    "We have **405,041 users** in our training set and computing similarities between them (**17K dimensional array**) is time consuming.\n",
    "\n",
    "\n",
    "We will try to reduce the dimensions using SVD, in order to speed up the process."
   ]
  },
  {
   "cell_type": "markdown",
   "metadata": {},
   "source": [
    "## Dimensionality Reduction with TruncatedSVD"
   ]
  },
  {
   "cell_type": "code",
   "execution_count": 53,
   "metadata": {},
   "outputs": [
    {
     "name": "stdout",
     "output_type": "stream",
     "text": [
      "Total Processing Time: 0:02:29.773465\n"
     ]
    }
   ],
   "source": [
    "# Dimensionality reduction\n",
    "\n",
    "# Mark the start\n",
    "start = datetime.now()\n",
    "\n",
    "# Creates TruncatedSVD object by reducing dimensionality to 80 dimensions\n",
    "netflix_svd = TruncatedSVD(n_components = 80, algorithm = 'randomized', random_state = 15)\n",
    "\n",
    "# Apply TruncatedSVD\n",
    "trunc_svd = netflix_svd.fit_transform(train_sparse_matrix)\n",
    "\n",
    "print(\"Total Processing Time:\", datetime.now() - start)"
   ]
  },
  {
   "cell_type": "markdown",
   "metadata": {},
   "source": [
    "__Let's calculate the variance explained by the components.__"
   ]
  },
  {
   "cell_type": "code",
   "execution_count": 54,
   "metadata": {},
   "outputs": [],
   "source": [
    "# Calculates the explained variance\n",
    "expl_var = np.cumsum(netflix_svd.explained_variance_ratio_)"
   ]
  },
  {
   "cell_type": "code",
   "execution_count": 55,
   "metadata": {},
   "outputs": [
    {
     "data": {
      "image/png": "[encoded data removed]",
      "text/plain": [
       "<Figure size 640x288 with 1 Axes>"
      ]
     },
     "metadata": {
      "needs_background": "light"
     },
     "output_type": "display_data"
    }
   ],
   "source": [
    "# Plot\n",
    "fig, (ax1) = plt.subplots(nrows = 1, ncols = 1, figsize = plt.figaspect(.45))\n",
    "\n",
    "ax1.set_ylabel(\"Explained Variance\", fontsize = 15)\n",
    "ax1.set_xlabel(\"Latent Factors\", fontsize = 15)\n",
    "ax1.plot(expl_var)\n",
    "\n",
    "# Let's mark some combinations of (latent factors, explained variance) to make the graph clearer\n",
    "ind = [1, 2, 4, 8, 20, 40, 60, 80]\n",
    "ax1.scatter(x = [i-1 for i in ind], y = expl_var[[i-1 for i in ind]], c = '#ee4422')\n",
    "\n",
    "for i in ind:\n",
    "    ax1.annotate(s =\"({}, {})\".format(i,  np.round(expl_var[i-1], 2)), xy = (i-1, expl_var[i-1]),\n",
    "                xytext = ( i+20, expl_var[i-1] - 0.01), fontweight = 'bold')\n",
    "\n",
    "plt.show()"
   ]
  },
  {
   "cell_type": "markdown",
   "metadata": {},
   "source": [
    "With 80 components we explain approximately 45% of the data variance. This is enough for our example."
   ]
  },
  {
   "cell_type": "code",
   "execution_count": 56,
   "metadata": {},
   "outputs": [
    {
     "name": "stdout",
     "output_type": "stream",
     "text": [
      "Total Processing Time: 0:00:05.359700\n"
     ]
    }
   ],
   "source": [
    "# Let's project our array into 80-dimensional space\n",
    "start = datetime.now()\n",
    "trunc_matrix = train_sparse_matrix.dot(netflix_svd.components_.T)\n",
    "print(\"Total Processing Time:\", datetime.now() - start)"
   ]
  },
  {
   "cell_type": "code",
   "execution_count": 57,
   "metadata": {},
   "outputs": [
    {
     "data": {
      "text/plain": [
       "(2649430, 80)"
      ]
     },
     "execution_count": 57,
     "metadata": {},
     "output_type": "execute_result"
    }
   ],
   "source": [
    "# Shape\n",
    "trunc_matrix.shape"
   ]
  },
  {
   "cell_type": "code",
   "execution_count": 58,
   "metadata": {},
   "outputs": [
    {
     "data": {
      "text/plain": [
       "numpy.ndarray"
      ]
     },
     "execution_count": 58,
     "metadata": {},
     "output_type": "execute_result"
    }
   ],
   "source": [
    "# Type\n",
    "type(trunc_matrix)"
   ]
  },
  {
   "cell_type": "code",
   "execution_count": 59,
   "metadata": {},
   "outputs": [],
   "source": [
    "# Let's create and save to disk the matrix with the dimensionality reduced to 80 dimensions\n",
    "if not os.path.isfile('data/truncated_sparse_matrix_user.npz'):\n",
    "    truncated_sparse_matrix_user = sparse.csr_matrix(trunc_matrix)\n",
    "    sparse.save_npz('data/truncated_sparse_matrix_user', truncated_sparse_matrix_user)\n",
    "else:\n",
    "    truncated_sparse_matrix_user = sparse.load_npz('data/truncated_sparse_matrix_user.npz')"
   ]
  },
  {
   "cell_type": "code",
   "execution_count": 60,
   "metadata": {},
   "outputs": [
    {
     "data": {
      "text/plain": [
       "(2649430, 80)"
      ]
     },
     "execution_count": 60,
     "metadata": {},
     "output_type": "execute_result"
    }
   ],
   "source": [
    "# Shape\n",
    "truncated_sparse_matrix_user.shape"
   ]
  },
  {
   "cell_type": "markdown",
   "metadata": {},
   "source": [
    "__Now we recalculate the similarity of users using the truncated matrix.__"
   ]
  },
  {
   "cell_type": "code",
   "execution_count": 61,
   "metadata": {},
   "outputs": [
    {
     "name": "stdout",
     "output_type": "stream",
     "text": [
      "Calculating top 50 similarities for each user...\n",
      "Completed calculation for 20 users [  total time : 0:00:19.442012  ]\n",
      "Completed calculation for 40 users [  total time : 0:00:38.986719  ]\n",
      "Creation of sparse matrix from computed similarities...\n"
     ]
    },
    {
     "data": {
      "image/png": "[encoded data removed]",
      "text/plain": [
       "<Figure size 432x288 with 1 Axes>"
      ]
     },
     "metadata": {
      "needs_background": "light"
     },
     "output_type": "display_data"
    },
    {
     "name": "stdout",
     "output_type": "stream",
     "text": [
      "Total Processing Time: 0:00:52.963406\n"
     ]
    }
   ],
   "source": [
    "# Calculate similarity of users\n",
    "\n",
    "# Mark the start\n",
    "start = datetime.now()\n",
    "\n",
    "# Calculates the similarity\n",
    "trunc_sim_matrix, _ = calculate_user_similarity(truncated_sparse_matrix_user, \n",
    "                                                   compute_for_few = True, \n",
    "                                                   top = 50, \n",
    "                                                   verbose = True) \n",
    "\n",
    "print(\"Total Processing Time:\", datetime.now() - start)"
   ]
  },
  {
   "cell_type": "markdown",
   "metadata": {},
   "source": [
    "## Calculating Movie Similarity Matrix"
   ]
  },
  {
   "cell_type": "code",
   "execution_count": 62,
   "metadata": {},
   "outputs": [
    {
     "name": "stdout",
     "output_type": "stream",
     "text": [
      "Matrix Created.\n",
      "Matrix Saves in disk\n",
      "Total Processing Time: 0:08:01.174500\n"
     ]
    }
   ],
   "source": [
    "# Calculation of movie similarity\n",
    "\n",
    "# Mark the start\n",
    "start = datetime.now()\n",
    "\n",
    "# Create if it doesn't exist\n",
    "if not os.path.isfile('data/sparse_matrix_movie.npz'):\n",
    "    sparse_matrix_movie = cosine_similarity(X = train_sparse_matrix.T, dense_output = False)\n",
    "    print(\"Matrix Created.\")\n",
    "    sparse.save_npz(\"data/sparse_matrix_movie.npz\", sparse_matrix_movie)\n",
    "    print(\"Matrix Saves in disk\")\n",
    "else:\n",
    "    sparse_matrix_movie = sparse.load_npz(\"data/sparse_matrix_movie.npz\")\n",
    "    print(\"Matrix Loaded.\")\n",
    "\n",
    "print(\"Total Processing Time:\", datetime.now() - start)"
   ]
  },
  {
   "cell_type": "code",
   "execution_count": 63,
   "metadata": {},
   "outputs": [
    {
     "data": {
      "text/plain": [
       "(17771, 17771)"
      ]
     },
     "execution_count": 63,
     "metadata": {},
     "output_type": "execute_result"
    }
   ],
   "source": [
    "# Shape\n",
    "sparse_matrix_movie.shape"
   ]
  },
  {
   "cell_type": "code",
   "execution_count": 64,
   "metadata": {},
   "outputs": [],
   "source": [
    "# Extract movie ids\n",
    "movie_ids = np.unique(sparse_matrix_movie.nonzero()[1])"
   ]
  },
  {
   "cell_type": "code",
   "execution_count": 65,
   "metadata": {},
   "outputs": [
    {
     "name": "stdout",
     "output_type": "stream",
     "text": [
      "Total Processing Time: 0:00:29.393400\n"
     ]
    }
   ],
   "source": [
    "# Calculate the similarity of movies according to the rating pattern of users\n",
    "\n",
    "# Mark the start\n",
    "start = datetime.now()\n",
    "\n",
    "# Dictionary to store similarities\n",
    "similar_movies = dict()\n",
    "\n",
    "# Loop through movie ids\n",
    "for movie in movie_ids:\n",
    "    # Get the top similar movies and store them in the dictionary\n",
    "    sim_movies = sparse_matrix_movie[movie].toarray().ravel().argsort()[::-1][1:]\n",
    "    similar_movies[movie] = sim_movies[:100]\n",
    "    \n",
    "print(\"Total Processing Time:\", datetime.now() - start)"
   ]
  },
  {
   "cell_type": "code",
   "execution_count": 66,
   "metadata": {},
   "outputs": [
    {
     "data": {
      "text/plain": [
       "array([ 6938,  3353, 15088, 14888,  7550,  3257,  8115,  1054, 11436,\n",
       "        8309, 11181, 15275,  2041,  7211, 12321,  2619,  9667,   568,\n",
       "       14988,  7044, 10062,  9895, 15061,  5916,  1113, 11557, 16935,\n",
       "        7498,  6926,   512, 14415, 13525,  2466,  9468,  8974, 15157,\n",
       "        1808, 12396,  1944,  3645,  4222,  9893,  3362, 10777,  7543,\n",
       "        9883,  4062,  7185,  7107,  9143, 17086, 13000, 16184,  5723,\n",
       "        8452,  3068,  2943, 16515, 13429, 13885,  9664, 12229,   101,\n",
       "       17602, 17564, 14189, 15292, 13802,  1737, 12650, 17444, 12712,\n",
       "       15639, 14024,   603,  6081, 10534, 17717, 14824,  9804, 15438,\n",
       "       15191,  9794,  7137,  7408, 10584,  6629,  1639, 14614,  1927,\n",
       "        2202, 17755,  5122, 16804,   887,  1768, 16101, 14037,  5666,\n",
       "         991], dtype=int64)"
      ]
     },
     "execution_count": 66,
     "metadata": {},
     "output_type": "execute_result"
    }
   ],
   "source": [
    "# Movies similar to id 43's movie\n",
    "similar_movies[43]"
   ]
  },
  {
   "cell_type": "markdown",
   "metadata": {},
   "source": [
    "__Now let's find the most similar movies using the similarity matrix.__"
   ]
  },
  {
   "cell_type": "code",
   "execution_count": 68,
   "metadata": {},
   "outputs": [
    {
     "name": "stdout",
     "output_type": "stream",
     "text": [
      "Tokenization took: 4.00 ms\n",
      "Type conversion took: 9.99 ms\n",
      "Parser memory cleanup took: 0.00 ms\n"
     ]
    }
   ],
   "source": [
    "# Let's load the movie titles from the csv file provided by Netflix\n",
    "movie_titles = pd.read_csv(\"data/movie_titles.csv\", \n",
    "                             sep = ',', \n",
    "                             header = None,\n",
    "                             names = ['ID_Movie', 'Year_Launch', 'Title'], \n",
    "                             verbose = True,\n",
    "                             index_col = 'ID_Movie', \n",
    "                             encoding = \"ISO-8859-1\")"
   ]
  },
  {
   "cell_type": "code",
   "execution_count": 69,
   "metadata": {},
   "outputs": [
    {
     "data": {
      "text/html": [
       "<div>\n",
       "<style scoped>\n",
       "    .dataframe tbody tr th:only-of-type {\n",
       "        vertical-align: middle;\n",
       "    }\n",
       "\n",
       "    .dataframe tbody tr th {\n",
       "        vertical-align: top;\n",
       "    }\n",
       "\n",
       "    .dataframe thead th {\n",
       "        text-align: right;\n",
       "    }\n",
       "</style>\n",
       "<table border=\"1\" class=\"dataframe\">\n",
       "  <thead>\n",
       "    <tr style=\"text-align: right;\">\n",
       "      <th></th>\n",
       "      <th>Year_Launch</th>\n",
       "      <th>Title</th>\n",
       "    </tr>\n",
       "    <tr>\n",
       "      <th>ID_Movie</th>\n",
       "      <th></th>\n",
       "      <th></th>\n",
       "    </tr>\n",
       "  </thead>\n",
       "  <tbody>\n",
       "    <tr>\n",
       "      <td>1</td>\n",
       "      <td>2003.0</td>\n",
       "      <td>Dinosaur Planet</td>\n",
       "    </tr>\n",
       "    <tr>\n",
       "      <td>2</td>\n",
       "      <td>2004.0</td>\n",
       "      <td>Isle of Man TT 2004 Review</td>\n",
       "    </tr>\n",
       "    <tr>\n",
       "      <td>3</td>\n",
       "      <td>1997.0</td>\n",
       "      <td>Character</td>\n",
       "    </tr>\n",
       "    <tr>\n",
       "      <td>4</td>\n",
       "      <td>1994.0</td>\n",
       "      <td>Paula Abdul's Get Up &amp; Dance</td>\n",
       "    </tr>\n",
       "    <tr>\n",
       "      <td>5</td>\n",
       "      <td>2004.0</td>\n",
       "      <td>The Rise and Fall of ECW</td>\n",
       "    </tr>\n",
       "  </tbody>\n",
       "</table>\n",
       "</div>"
      ],
      "text/plain": [
       "          Year_Launch                         Title\n",
       "ID_Movie                                           \n",
       "1              2003.0               Dinosaur Planet\n",
       "2              2004.0    Isle of Man TT 2004 Review\n",
       "3              1997.0                     Character\n",
       "4              1994.0  Paula Abdul's Get Up & Dance\n",
       "5              2004.0      The Rise and Fall of ECW"
      ]
     },
     "execution_count": 69,
     "metadata": {},
     "output_type": "execute_result"
    }
   ],
   "source": [
    "# Visualize the data\n",
    "movie_titles.head()"
   ]
  },
  {
   "cell_type": "markdown",
   "metadata": {},
   "source": [
    "__Let's see which films are similar to the ID 43 film.__"
   ]
  },
  {
   "cell_type": "code",
   "execution_count": 70,
   "metadata": {},
   "outputs": [],
   "source": [
    "# Movie ID \n",
    "id_movie = 43"
   ]
  },
  {
   "cell_type": "code",
   "execution_count": 71,
   "metadata": {},
   "outputs": [
    {
     "name": "stdout",
     "output_type": "stream",
     "text": [
      "Movie: Silent Service\n",
      "Total User Ratings = 102.\n",
      "We found 17300 movies that are similar to this one and let's print the most similar ones.\n"
     ]
    }
   ],
   "source": [
    "# Print\n",
    "print(\"Movie:\", movie_titles.loc[id_movie].values[1])\n",
    "print(\"Total User Ratings = {}.\".format(train_sparse_matrix[:,id_movie].getnnz()))\n",
    "print(\"We found {} movies that are similar to this one and let's print the most similar ones.\".format(sparse_matrix_movie[:,id_movie].getnnz()))"
   ]
  },
  {
   "cell_type": "code",
   "execution_count": 72,
   "metadata": {},
   "outputs": [],
   "source": [
    "# Finding all similarities\n",
    "similarities = sparse_matrix_movie[id_movie].toarray().ravel()\n",
    "similar_indexes = similarities.argsort()[::-1][1:]\n",
    "similarities[similar_indexes]\n",
    "sim_indexes = similarities.argsort()[::-1][1:] "
   ]
  },
  {
   "cell_type": "code",
   "execution_count": 73,
   "metadata": {},
   "outputs": [
    {
     "data": {
      "image/png": "[encoded data removed]",
      "text/plain": [
       "<Figure size 640x288 with 1 Axes>"
      ]
     },
     "metadata": {
      "needs_background": "light"
     },
     "output_type": "display_data"
    }
   ],
   "source": [
    "# Plot\n",
    "fig = plt.figure(figsize = plt.figaspect(.45))\n",
    "plt.plot(similarities[sim_indexes], label = 'All Reviews')\n",
    "plt.plot(similarities[sim_indexes[:100]], label = 'Top 100 Similar Movies')\n",
    "plt.title(\"Movies Similar to the Movie {}\".format(id_movie), fontsize = 25)\n",
    "plt.xlabel(\"Movies\", fontsize = 15)\n",
    "plt.ylabel(\"Cosine Similarity\", fontsize = 15)\n",
    "plt.legend()\n",
    "plt.show()"
   ]
  },
  {
   "cell_type": "code",
   "execution_count": 74,
   "metadata": {},
   "outputs": [
    {
     "data": {
      "text/html": [
       "<div>\n",
       "<style scoped>\n",
       "    .dataframe tbody tr th:only-of-type {\n",
       "        vertical-align: middle;\n",
       "    }\n",
       "\n",
       "    .dataframe tbody tr th {\n",
       "        vertical-align: top;\n",
       "    }\n",
       "\n",
       "    .dataframe thead th {\n",
       "        text-align: right;\n",
       "    }\n",
       "</style>\n",
       "<table border=\"1\" class=\"dataframe\">\n",
       "  <thead>\n",
       "    <tr style=\"text-align: right;\">\n",
       "      <th></th>\n",
       "      <th>Year_Launch</th>\n",
       "      <th>Title</th>\n",
       "    </tr>\n",
       "    <tr>\n",
       "      <th>ID_Movie</th>\n",
       "      <th></th>\n",
       "      <th></th>\n",
       "    </tr>\n",
       "  </thead>\n",
       "  <tbody>\n",
       "    <tr>\n",
       "      <td>6938</td>\n",
       "      <td>1995.0</td>\n",
       "      <td>Battle Skipper</td>\n",
       "    </tr>\n",
       "    <tr>\n",
       "      <td>3353</td>\n",
       "      <td>1999.0</td>\n",
       "      <td>Midnight Panther</td>\n",
       "    </tr>\n",
       "    <tr>\n",
       "      <td>15088</td>\n",
       "      <td>1996.0</td>\n",
       "      <td>Yamamoto Yohko: Starship Girl</td>\n",
       "    </tr>\n",
       "    <tr>\n",
       "      <td>14888</td>\n",
       "      <td>1996.0</td>\n",
       "      <td>Ayane's High Kick</td>\n",
       "    </tr>\n",
       "    <tr>\n",
       "      <td>7550</td>\n",
       "      <td>1996.0</td>\n",
       "      <td>Big Wars</td>\n",
       "    </tr>\n",
       "    <tr>\n",
       "      <td>3257</td>\n",
       "      <td>1990.0</td>\n",
       "      <td>Takegami: Guardian of Darkness: War God</td>\n",
       "    </tr>\n",
       "    <tr>\n",
       "      <td>8115</td>\n",
       "      <td>2000.0</td>\n",
       "      <td>Virgin Fleet</td>\n",
       "    </tr>\n",
       "    <tr>\n",
       "      <td>1054</td>\n",
       "      <td>1986.0</td>\n",
       "      <td>Odin: Photon Space Sailer Starlight</td>\n",
       "    </tr>\n",
       "    <tr>\n",
       "      <td>11436</td>\n",
       "      <td>1995.0</td>\n",
       "      <td>Super Atragon</td>\n",
       "    </tr>\n",
       "    <tr>\n",
       "      <td>8309</td>\n",
       "      <td>2000.0</td>\n",
       "      <td>Go Shogun: The Time Etranger</td>\n",
       "    </tr>\n",
       "  </tbody>\n",
       "</table>\n",
       "</div>"
      ],
      "text/plain": [
       "          Year_Launch                                    Title\n",
       "ID_Movie                                                      \n",
       "6938           1995.0                           Battle Skipper\n",
       "3353           1999.0                         Midnight Panther\n",
       "15088          1996.0            Yamamoto Yohko: Starship Girl\n",
       "14888          1996.0                        Ayane's High Kick\n",
       "7550           1996.0                                 Big Wars\n",
       "3257           1990.0  Takegami: Guardian of Darkness: War God\n",
       "8115           2000.0                             Virgin Fleet\n",
       "1054           1986.0      Odin: Photon Space Sailer Starlight\n",
       "11436          1995.0                            Super Atragon\n",
       "8309           2000.0             Go Shogun: The Time Etranger"
      ]
     },
     "execution_count": 74,
     "metadata": {},
     "output_type": "execute_result"
    }
   ],
   "source": [
    "# Here are the top 10 movies most similar to movie 43\n",
    "movie_titles.loc[sim_indexes[:10]]"
   ]
  },
  {
   "cell_type": "markdown",
   "metadata": {},
   "source": [
    "# End"
   ]
  }
 ],
 "metadata": {
  "kernelspec": {
   "display_name": "Python 3",
   "language": "python",
   "name": "python3"
  },
  "language_info": {
   "codemirror_mode": {
    "name": "ipython",
    "version": 3
   },
   "file_extension": ".py",
   "mimetype": "text/x-python",
   "name": "python",
   "nbconvert_exporter": "python",
   "pygments_lexer": "ipython3",
   "version": "3.7.4"
  }
 },
 "nbformat": 4,
 "nbformat_minor": 4
}
