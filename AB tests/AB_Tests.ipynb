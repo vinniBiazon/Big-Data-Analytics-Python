{
 "cells": [
  {
   "cell_type": "markdown",
   "metadata": {},
   "source": [
    "# <font color='blue'>A/B Tests</font>\n",
    "## <font color='blue'>Pages with User Reviews Increase Online Product Sales?</font>"
   ]
  },
  {
   "cell_type": "code",
   "execution_count": 1,
   "metadata": {},
   "outputs": [
    {
     "name": "stdout",
     "output_type": "stream",
     "text": [
      "Python Language Version Used in This Jupyter Notebook: 3.7.16\n"
     ]
    }
   ],
   "source": [
    "# Python Language Version\n",
    "from platform import python_version\n",
    "print('Python Language Version Used in This Jupyter Notebook:', python_version())"
   ]
  },
  {
   "cell_type": "markdown",
   "metadata": {},
   "source": [
    "## What Are A/B Tests?\n",
    "\n",
    "For this project we are going to understand the results of an A/B Test run by an e-commerce website. Our goal is to help the company understand whether user evaluations (reviews) make a difference or not for the user to make a purchase on the portal.\n",
    "\n",
    "The data are fictitious, but represent valid values for this type of work."
   ]
  },
  {
   "cell_type": "markdown",
   "metadata": {},
   "source": [
    "## How to Analyze A/B Tests?\n",
    "\n",
    "In general, we perform these 5 steps to analyze an A/B Test:\n",
    "\n",
    "1. We set up the experiment.\n",
    "\n",
    "2. We performed the hypothesis test and recorded the success rate for each group.\n",
    "\n",
    "3. We create the Plot of the distribution of the difference between the two samples.\n",
    "\n",
    "4. We calculate the statistical power.\n",
    "\n",
    "5. We assess how sample sizes affect A/B Testing."
   ]
  },
  {
   "cell_type": "markdown",
   "metadata": {},
   "source": [
    "## Loading the Data Set"
   ]
  },
  {
   "cell_type": "code",
   "execution_count": 2,
   "metadata": {},
   "outputs": [],
   "source": [
    "# Imports\n",
    "import datetime\n",
    "import matplotlib\n",
    "import numpy as np\n",
    "import pandas as pd\n",
    "import matplotlib.pyplot as plt\n",
    "import scipy.stats as scs\n",
    "\n",
    "# Graphics formatting\n",
    "plt.style.use('fivethirtyeight')\n",
    "plt.figure(1 , figsize = (15 , 6))\n",
    "%matplotlib inline"
   ]
  },
  {
   "cell_type": "markdown",
   "metadata": {},
   "source": [
    "## Loading and Understanding Data"
   ]
  },
  {
   "cell_type": "markdown",
   "metadata": {},
   "source": [
    "Variant A: Shows the current number of user comments and ratings.\n",
    "\n",
    "Variant B: Does not show user comments on the site."
   ]
  },
  {
   "cell_type": "code",
   "execution_count": 3,
   "metadata": {},
   "outputs": [],
   "source": [
    "# Load the dataset\n",
    "# We will use dummy data, which represent values that would be possible in a real test\n",
    "df_sales = pd.read_csv(\"data/dataset.csv\")"
   ]
  },
  {
   "cell_type": "code",
   "execution_count": 4,
   "metadata": {},
   "outputs": [
    {
     "data": {
      "text/html": [
       "<div>\n",
       "<style scoped>\n",
       "    .dataframe tbody tr th:only-of-type {\n",
       "        vertical-align: middle;\n",
       "    }\n",
       "\n",
       "    .dataframe tbody tr th {\n",
       "        vertical-align: top;\n",
       "    }\n",
       "\n",
       "    .dataframe thead th {\n",
       "        text-align: right;\n",
       "    }\n",
       "</style>\n",
       "<table border=\"1\" class=\"dataframe\">\n",
       "  <thead>\n",
       "    <tr style=\"text-align: right;\">\n",
       "      <th></th>\n",
       "      <th>id</th>\n",
       "      <th>variant</th>\n",
       "      <th>purchase</th>\n",
       "      <th>date</th>\n",
       "    </tr>\n",
       "  </thead>\n",
       "  <tbody>\n",
       "    <tr>\n",
       "      <td>0</td>\n",
       "      <td>0x6f9421</td>\n",
       "      <td>A</td>\n",
       "      <td>False</td>\n",
       "      <td>2019-12-26</td>\n",
       "    </tr>\n",
       "    <tr>\n",
       "      <td>1</td>\n",
       "      <td>0x59d442</td>\n",
       "      <td>A</td>\n",
       "      <td>False</td>\n",
       "      <td>2019-08-16</td>\n",
       "    </tr>\n",
       "    <tr>\n",
       "      <td>2</td>\n",
       "      <td>0x6db8f8</td>\n",
       "      <td>A</td>\n",
       "      <td>True</td>\n",
       "      <td>2019-03-18</td>\n",
       "    </tr>\n",
       "    <tr>\n",
       "      <td>3</td>\n",
       "      <td>0x68245d</td>\n",
       "      <td>A</td>\n",
       "      <td>False</td>\n",
       "      <td>2019-02-13</td>\n",
       "    </tr>\n",
       "    <tr>\n",
       "      <td>4</td>\n",
       "      <td>0x28566e</td>\n",
       "      <td>A</td>\n",
       "      <td>False</td>\n",
       "      <td>2019-09-28</td>\n",
       "    </tr>\n",
       "  </tbody>\n",
       "</table>\n",
       "</div>"
      ],
      "text/plain": [
       "         id variant  purchase        date\n",
       "0  0x6f9421       A     False  2019-12-26\n",
       "1  0x59d442       A     False  2019-08-16\n",
       "2  0x6db8f8       A      True  2019-03-18\n",
       "3  0x68245d       A     False  2019-02-13\n",
       "4  0x28566e       A     False  2019-09-28"
      ]
     },
     "execution_count": 4,
     "metadata": {},
     "output_type": "execute_result"
    }
   ],
   "source": [
    "# Visualiza \n",
    "df_sales.head()"
   ]
  },
  {
   "cell_type": "code",
   "execution_count": 5,
   "metadata": {},
   "outputs": [
    {
     "data": {
      "text/html": [
       "<div>\n",
       "<style scoped>\n",
       "    .dataframe tbody tr th:only-of-type {\n",
       "        vertical-align: middle;\n",
       "    }\n",
       "\n",
       "    .dataframe tbody tr th {\n",
       "        vertical-align: top;\n",
       "    }\n",
       "\n",
       "    .dataframe thead th {\n",
       "        text-align: right;\n",
       "    }\n",
       "</style>\n",
       "<table border=\"1\" class=\"dataframe\">\n",
       "  <thead>\n",
       "    <tr style=\"text-align: right;\">\n",
       "      <th></th>\n",
       "      <th>id</th>\n",
       "      <th>variant</th>\n",
       "      <th>purchase</th>\n",
       "      <th>date</th>\n",
       "    </tr>\n",
       "  </thead>\n",
       "  <tbody>\n",
       "    <tr>\n",
       "      <td>54995</td>\n",
       "      <td>0x451451</td>\n",
       "      <td>A</td>\n",
       "      <td>False</td>\n",
       "      <td>2019-06-19</td>\n",
       "    </tr>\n",
       "    <tr>\n",
       "      <td>54996</td>\n",
       "      <td>0x871d51</td>\n",
       "      <td>A</td>\n",
       "      <td>False</td>\n",
       "      <td>2019-03-22</td>\n",
       "    </tr>\n",
       "    <tr>\n",
       "      <td>54997</td>\n",
       "      <td>0x50d163</td>\n",
       "      <td>A</td>\n",
       "      <td>False</td>\n",
       "      <td>2019-02-10</td>\n",
       "    </tr>\n",
       "    <tr>\n",
       "      <td>54998</td>\n",
       "      <td>0x3544c4</td>\n",
       "      <td>B</td>\n",
       "      <td>False</td>\n",
       "      <td>2020-01-09</td>\n",
       "    </tr>\n",
       "    <tr>\n",
       "      <td>54999</td>\n",
       "      <td>0x983331</td>\n",
       "      <td>A</td>\n",
       "      <td>False</td>\n",
       "      <td>2019-09-05</td>\n",
       "    </tr>\n",
       "  </tbody>\n",
       "</table>\n",
       "</div>"
      ],
      "text/plain": [
       "             id variant  purchase        date\n",
       "54995  0x451451       A     False  2019-06-19\n",
       "54996  0x871d51       A     False  2019-03-22\n",
       "54997  0x50d163       A     False  2019-02-10\n",
       "54998  0x3544c4       B     False  2020-01-09\n",
       "54999  0x983331       A     False  2019-09-05"
      ]
     },
     "execution_count": 5,
     "metadata": {},
     "output_type": "execute_result"
    }
   ],
   "source": [
    "# Visualize\n",
    "df_sales.tail()"
   ]
  },
  {
   "cell_type": "markdown",
   "metadata": {},
   "source": [
    "## Exploratory Analysis and Probability Calculation"
   ]
  },
  {
   "cell_type": "code",
   "execution_count": 6,
   "metadata": {},
   "outputs": [
    {
     "data": {
      "text/plain": [
       "(55000, 4)"
      ]
     },
     "execution_count": 6,
     "metadata": {},
     "output_type": "execute_result"
    }
   ],
   "source": [
    "# Shape\n",
    "df_sales.shape"
   ]
  },
  {
   "cell_type": "code",
   "execution_count": 7,
   "metadata": {},
   "outputs": [
    {
     "data": {
      "text/plain": [
       "id          object\n",
       "variant     object\n",
       "purchase      bool\n",
       "date        object\n",
       "dtype: object"
      ]
     },
     "execution_count": 7,
     "metadata": {},
     "output_type": "execute_result"
    }
   ],
   "source": [
    "# Data type\n",
    "df_sales.dtypes"
   ]
  },
  {
   "cell_type": "code",
   "execution_count": 8,
   "metadata": {},
   "outputs": [
    {
     "data": {
      "text/plain": [
       "'2020-01-30'"
      ]
     },
     "execution_count": 8,
     "metadata": {},
     "output_type": "execute_result"
    }
   ],
   "source": [
    "# Max date\n",
    "df_sales['date'].max()"
   ]
  },
  {
   "cell_type": "code",
   "execution_count": 9,
   "metadata": {},
   "outputs": [
    {
     "data": {
      "text/plain": [
       "'2019-01-01'"
      ]
     },
     "execution_count": 9,
     "metadata": {},
     "output_type": "execute_result"
    }
   ],
   "source": [
    "# Min date\n",
    "df_sales['date'].min()"
   ]
  },
  {
   "cell_type": "code",
   "execution_count": 10,
   "metadata": {},
   "outputs": [
    {
     "data": {
      "text/plain": [
       "id          0\n",
       "variant     0\n",
       "purchase    0\n",
       "date        0\n",
       "dtype: int64"
      ]
     },
     "execution_count": 10,
     "metadata": {},
     "output_type": "execute_result"
    }
   ],
   "source": [
    "# Checking null values\n",
    "df_sales.isnull().sum()"
   ]
  },
  {
   "cell_type": "code",
   "execution_count": 11,
   "metadata": {},
   "outputs": [
    {
     "data": {
      "text/plain": [
       "55000"
      ]
     },
     "execution_count": 11,
     "metadata": {},
     "output_type": "execute_result"
    }
   ],
   "source": [
    "# Checking duplicate ID\n",
    "df_sales.id.value_counts().count()"
   ]
  },
  {
   "cell_type": "code",
   "execution_count": 12,
   "metadata": {},
   "outputs": [
    {
     "data": {
      "text/plain": [
       "False    46416\n",
       "True      8584\n",
       "Name: purchase, dtype: int64"
      ]
     },
     "execution_count": 12,
     "metadata": {},
     "output_type": "execute_result"
    }
   ],
   "source": [
    "# Ratio of the conversion result\n",
    "df_sales.purchase.value_counts()"
   ]
  },
  {
   "cell_type": "code",
   "execution_count": 13,
   "metadata": {},
   "outputs": [
    {
     "data": {
      "text/plain": [
       "A    50000\n",
       "B     5000\n",
       "Name: variant, dtype: int64"
      ]
     },
     "execution_count": 13,
     "metadata": {},
     "output_type": "execute_result"
    }
   ],
   "source": [
    "# Ratio of variants shown to users\n",
    "df_sales.variant.value_counts()"
   ]
  },
  {
   "cell_type": "markdown",
   "metadata": {},
   "source": [
    "Calculating basic probabilities."
   ]
  },
  {
   "cell_type": "markdown",
   "metadata": {},
   "source": [
    "**Variant A is the control group. Variant B is the test or treatment group.**"
   ]
  },
  {
   "cell_type": "code",
   "execution_count": 14,
   "metadata": {},
   "outputs": [
    {
     "data": {
      "text/plain": [
       "90.9090909090909"
      ]
     },
     "execution_count": 14,
     "metadata": {},
     "output_type": "execute_result"
    }
   ],
   "source": [
    "# Probability that a user will view variant A\n",
    "df_sales[df_sales.variant == 'A'].shape[0] / df_sales.shape[0] * 100"
   ]
  },
  {
   "cell_type": "code",
   "execution_count": 15,
   "metadata": {},
   "outputs": [
    {
     "data": {
      "text/plain": [
       "100.0"
      ]
     },
     "execution_count": 15,
     "metadata": {},
     "output_type": "execute_result"
    }
   ],
   "source": [
    "# Probability that a user will view any variant\n",
    "df_sales.shape[0] / df_sales.shape[0] * 100"
   ]
  },
  {
   "cell_type": "code",
   "execution_count": 16,
   "metadata": {},
   "outputs": [
    {
     "data": {
      "text/plain": [
       "9.090909090909092"
      ]
     },
     "execution_count": 16,
     "metadata": {},
     "output_type": "execute_result"
    }
   ],
   "source": [
    "# Probability that a user will view variant B\n",
    "df_sales[df_sales.variant == 'B'].shape[0] / df_sales.shape[0] * 100"
   ]
  },
  {
   "cell_type": "code",
   "execution_count": 17,
   "metadata": {},
   "outputs": [
    {
     "data": {
      "text/plain": [
       "8584"
      ]
     },
     "execution_count": 17,
     "metadata": {},
     "output_type": "execute_result"
    }
   ],
   "source": [
    "# Total purchases made (conversions)\n",
    "df_sales.purchase.sum()"
   ]
  },
  {
   "cell_type": "code",
   "execution_count": 18,
   "metadata": {},
   "outputs": [
    {
     "data": {
      "text/plain": [
       "7603"
      ]
     },
     "execution_count": 18,
     "metadata": {},
     "output_type": "execute_result"
    }
   ],
   "source": [
    "# Total purchases made when the variant was A\n",
    "df_sales[df_sales.variant == 'A'].purchase.sum()"
   ]
  },
  {
   "cell_type": "code",
   "execution_count": 19,
   "metadata": {},
   "outputs": [
    {
     "data": {
      "text/plain": [
       "981"
      ]
     },
     "execution_count": 19,
     "metadata": {},
     "output_type": "execute_result"
    }
   ],
   "source": [
    "# Total purchases made when the variant was B\n",
    "df_sales[df_sales.variant == 'B'].purchase.sum()"
   ]
  },
  {
   "cell_type": "code",
   "execution_count": 20,
   "metadata": {},
   "outputs": [
    {
     "data": {
      "text/plain": [
       "0.15607272727272728"
      ]
     },
     "execution_count": 20,
     "metadata": {},
     "output_type": "execute_result"
    }
   ],
   "source": [
    "# Probability of conversion regardless of the received variant\n",
    "df_sales.purchase.mean()"
   ]
  },
  {
   "cell_type": "code",
   "execution_count": 21,
   "metadata": {},
   "outputs": [
    {
     "data": {
      "text/plain": [
       "0.15206"
      ]
     },
     "execution_count": 21,
     "metadata": {},
     "output_type": "execute_result"
    }
   ],
   "source": [
    "# Given that an individual was in the control group, what is the probability of conversion?\n",
    "df_sales[df_sales.variant == 'A'].purchase.mean()"
   ]
  },
  {
   "cell_type": "code",
   "execution_count": 22,
   "metadata": {},
   "outputs": [
    {
     "data": {
      "text/plain": [
       "0.1962"
      ]
     },
     "execution_count": 22,
     "metadata": {},
     "output_type": "execute_result"
    }
   ],
   "source": [
    "# Given that an individual was in the treatment group, what is the probability of conversion?\n",
    "df_sales[df_sales.variant == 'B'].purchase.mean()"
   ]
  },
  {
   "cell_type": "markdown",
   "metadata": {},
   "source": [
    "As we can see, the probability of receiving the new page is approximately 10% and the total probability of conversion is 19%. We need to check that we have enough evidence to say that the treatment group leads to an increase in conversions."
   ]
  },
  {
   "cell_type": "markdown",
   "metadata": {},
   "source": [
    "## Task 1 - Setting Up the Experiment\n",
    "\n",
    "Pages with User Reviews Increase Online Product Sales?\n",
    "\n",
    "Variant A: Shows the current number of user comments and ratings\n",
    "\n",
    "Variant B: Does not show user comments on the site\n",
    "\n",
    "Note that because of the timestamp associated with each event, you can technically run a hypothesis test continuously as each event is observed.\n",
    "\n",
    "However, the difficult question is when to stop once one variant is found to be significantly better than another or does this need to happen consistently over a certain amount of time? How long before you decide that neither variant is better than the other? Talk to the business area to define the best approach for the test and we will present some tips during this work.\n",
    "\n",
    "These questions are the hardest parts associated with A/B Testing and analytics in general.\n",
    "\n",
    "For now, consider that we need to make a decision based solely on the given data. If we want to assume that variant A is better, unless the new variant proves to be definitely better at a 5% Type I error rate, what should your null and alternative hypotheses be?\n",
    "\n",
    "You can define your assumptions in terms of words or in notation like $p_{A}$ and $p_{B}$, which are the conversion probabilities for the new and old variants.\n",
    "\n",
    "- H0: PB - PA = 0\n",
    "- H1: PB - PA > 0\n",
    "\n",
    "H0 tells us that the probability difference of the two groups is equal to zero.\n",
    "\n",
    "H1 tells us that the probability difference of the two groups is greater than zero."
   ]
  },
  {
   "cell_type": "markdown",
   "metadata": {},
   "source": [
    "### Data Pre-Processing\n",
    "\n",
    "We will do some heavy calculations and to simplify the process, we will filter the data and use only one of the months. Feel free to use data from longer periods."
   ]
  },
  {
   "cell_type": "code",
   "execution_count": 23,
   "metadata": {},
   "outputs": [],
   "source": [
    "# Function to extract year and month from date\n",
    "def extract_date(x):\n",
    "    return x[:7]"
   ]
  },
  {
   "cell_type": "code",
   "execution_count": 24,
   "metadata": {},
   "outputs": [],
   "source": [
    "# Extract year and month from date column\n",
    "df_sales['year_month'] = df_sales['date'].apply(extract_date)"
   ]
  },
  {
   "cell_type": "code",
   "execution_count": 25,
   "metadata": {},
   "outputs": [
    {
     "data": {
      "text/html": [
       "<div>\n",
       "<style scoped>\n",
       "    .dataframe tbody tr th:only-of-type {\n",
       "        vertical-align: middle;\n",
       "    }\n",
       "\n",
       "    .dataframe tbody tr th {\n",
       "        vertical-align: top;\n",
       "    }\n",
       "\n",
       "    .dataframe thead th {\n",
       "        text-align: right;\n",
       "    }\n",
       "</style>\n",
       "<table border=\"1\" class=\"dataframe\">\n",
       "  <thead>\n",
       "    <tr style=\"text-align: right;\">\n",
       "      <th></th>\n",
       "      <th>id</th>\n",
       "      <th>variant</th>\n",
       "      <th>purchase</th>\n",
       "      <th>date</th>\n",
       "      <th>year_month</th>\n",
       "    </tr>\n",
       "  </thead>\n",
       "  <tbody>\n",
       "    <tr>\n",
       "      <td>0</td>\n",
       "      <td>0x6f9421</td>\n",
       "      <td>A</td>\n",
       "      <td>False</td>\n",
       "      <td>2019-12-26</td>\n",
       "      <td>2019-12</td>\n",
       "    </tr>\n",
       "    <tr>\n",
       "      <td>1</td>\n",
       "      <td>0x59d442</td>\n",
       "      <td>A</td>\n",
       "      <td>False</td>\n",
       "      <td>2019-08-16</td>\n",
       "      <td>2019-08</td>\n",
       "    </tr>\n",
       "    <tr>\n",
       "      <td>2</td>\n",
       "      <td>0x6db8f8</td>\n",
       "      <td>A</td>\n",
       "      <td>True</td>\n",
       "      <td>2019-03-18</td>\n",
       "      <td>2019-03</td>\n",
       "    </tr>\n",
       "    <tr>\n",
       "      <td>3</td>\n",
       "      <td>0x68245d</td>\n",
       "      <td>A</td>\n",
       "      <td>False</td>\n",
       "      <td>2019-02-13</td>\n",
       "      <td>2019-02</td>\n",
       "    </tr>\n",
       "    <tr>\n",
       "      <td>4</td>\n",
       "      <td>0x28566e</td>\n",
       "      <td>A</td>\n",
       "      <td>False</td>\n",
       "      <td>2019-09-28</td>\n",
       "      <td>2019-09</td>\n",
       "    </tr>\n",
       "  </tbody>\n",
       "</table>\n",
       "</div>"
      ],
      "text/plain": [
       "         id variant  purchase        date year_month\n",
       "0  0x6f9421       A     False  2019-12-26    2019-12\n",
       "1  0x59d442       A     False  2019-08-16    2019-08\n",
       "2  0x6db8f8       A      True  2019-03-18    2019-03\n",
       "3  0x68245d       A     False  2019-02-13    2019-02\n",
       "4  0x28566e       A     False  2019-09-28    2019-09"
      ]
     },
     "execution_count": 25,
     "metadata": {},
     "output_type": "execute_result"
    }
   ],
   "source": [
    "# Visualize\n",
    "df_sales.head()"
   ]
  },
  {
   "cell_type": "code",
   "execution_count": 26,
   "metadata": {},
   "outputs": [],
   "source": [
    "# We will only work with January/2020 data to simplify the process didactically\n",
    "df_sales_2020 = df_sales[df_sales['year_month'] == '2020-01']"
   ]
  },
  {
   "cell_type": "code",
   "execution_count": 27,
   "metadata": {},
   "outputs": [
    {
     "data": {
      "text/html": [
       "<div>\n",
       "<style scoped>\n",
       "    .dataframe tbody tr th:only-of-type {\n",
       "        vertical-align: middle;\n",
       "    }\n",
       "\n",
       "    .dataframe tbody tr th {\n",
       "        vertical-align: top;\n",
       "    }\n",
       "\n",
       "    .dataframe thead th {\n",
       "        text-align: right;\n",
       "    }\n",
       "</style>\n",
       "<table border=\"1\" class=\"dataframe\">\n",
       "  <thead>\n",
       "    <tr style=\"text-align: right;\">\n",
       "      <th></th>\n",
       "      <th>id</th>\n",
       "      <th>variant</th>\n",
       "      <th>purchase</th>\n",
       "      <th>date</th>\n",
       "      <th>year_month</th>\n",
       "    </tr>\n",
       "  </thead>\n",
       "  <tbody>\n",
       "    <tr>\n",
       "      <td>5</td>\n",
       "      <td>0x792f1d</td>\n",
       "      <td>A</td>\n",
       "      <td>False</td>\n",
       "      <td>2020-01-14</td>\n",
       "      <td>2020-01</td>\n",
       "    </tr>\n",
       "    <tr>\n",
       "      <td>7</td>\n",
       "      <td>0x724b78</td>\n",
       "      <td>B</td>\n",
       "      <td>False</td>\n",
       "      <td>2020-01-23</td>\n",
       "      <td>2020-01</td>\n",
       "    </tr>\n",
       "    <tr>\n",
       "      <td>9</td>\n",
       "      <td>0x684bf9</td>\n",
       "      <td>A</td>\n",
       "      <td>False</td>\n",
       "      <td>2020-01-17</td>\n",
       "      <td>2020-01</td>\n",
       "    </tr>\n",
       "    <tr>\n",
       "      <td>10</td>\n",
       "      <td>0x6394dc</td>\n",
       "      <td>A</td>\n",
       "      <td>False</td>\n",
       "      <td>2020-01-06</td>\n",
       "      <td>2020-01</td>\n",
       "    </tr>\n",
       "    <tr>\n",
       "      <td>11</td>\n",
       "      <td>0x625f5d</td>\n",
       "      <td>A</td>\n",
       "      <td>False</td>\n",
       "      <td>2020-01-05</td>\n",
       "      <td>2020-01</td>\n",
       "    </tr>\n",
       "  </tbody>\n",
       "</table>\n",
       "</div>"
      ],
      "text/plain": [
       "          id variant  purchase        date year_month\n",
       "5   0x792f1d       A     False  2020-01-14    2020-01\n",
       "7   0x724b78       B     False  2020-01-23    2020-01\n",
       "9   0x684bf9       A     False  2020-01-17    2020-01\n",
       "10  0x6394dc       A     False  2020-01-06    2020-01\n",
       "11  0x625f5d       A     False  2020-01-05    2020-01"
      ]
     },
     "execution_count": 27,
     "metadata": {},
     "output_type": "execute_result"
    }
   ],
   "source": [
    "# Visualize\n",
    "df_sales_2020.head()"
   ]
  },
  {
   "cell_type": "code",
   "execution_count": 28,
   "metadata": {},
   "outputs": [
    {
     "data": {
      "text/plain": [
       "(8821, 5)"
      ]
     },
     "execution_count": 28,
     "metadata": {},
     "output_type": "execute_result"
    }
   ],
   "source": [
    "# Shape\n",
    "df_sales_2020.shape"
   ]
  },
  {
   "cell_type": "markdown",
   "metadata": {},
   "source": [
    "### Baseline creation\n",
    "\n",
    "Let's baseline the conversion rate before running the hypothesis test. This way, we'll know the base conversion rate and the desired increase in purchases that we'd like to test.\n",
    "\n",
    "* A will be the control group\n",
    "* B will be the test group"
   ]
  },
  {
   "cell_type": "code",
   "execution_count": 29,
   "metadata": {},
   "outputs": [
    {
     "data": {
      "text/html": [
       "<div>\n",
       "<style scoped>\n",
       "    .dataframe tbody tr th:only-of-type {\n",
       "        vertical-align: middle;\n",
       "    }\n",
       "\n",
       "    .dataframe tbody tr th {\n",
       "        vertical-align: top;\n",
       "    }\n",
       "\n",
       "    .dataframe thead th {\n",
       "        text-align: right;\n",
       "    }\n",
       "</style>\n",
       "<table border=\"1\" class=\"dataframe\">\n",
       "  <thead>\n",
       "    <tr style=\"text-align: right;\">\n",
       "      <th></th>\n",
       "      <th>variant</th>\n",
       "      <th>purchase</th>\n",
       "    </tr>\n",
       "  </thead>\n",
       "  <tbody>\n",
       "    <tr>\n",
       "      <td>5</td>\n",
       "      <td>A</td>\n",
       "      <td>False</td>\n",
       "    </tr>\n",
       "    <tr>\n",
       "      <td>7</td>\n",
       "      <td>B</td>\n",
       "      <td>False</td>\n",
       "    </tr>\n",
       "    <tr>\n",
       "      <td>9</td>\n",
       "      <td>A</td>\n",
       "      <td>False</td>\n",
       "    </tr>\n",
       "    <tr>\n",
       "      <td>10</td>\n",
       "      <td>A</td>\n",
       "      <td>False</td>\n",
       "    </tr>\n",
       "    <tr>\n",
       "      <td>11</td>\n",
       "      <td>A</td>\n",
       "      <td>False</td>\n",
       "    </tr>\n",
       "  </tbody>\n",
       "</table>\n",
       "</div>"
      ],
      "text/plain": [
       "   variant  purchase\n",
       "5        A     False\n",
       "7        B     False\n",
       "9        A     False\n",
       "10       A     False\n",
       "11       A     False"
      ]
     },
     "execution_count": 29,
     "metadata": {},
     "output_type": "execute_result"
    }
   ],
   "source": [
    "# Generate a dataframe\n",
    "df_ab_data = df_sales_2020[['variant', 'purchase']]\n",
    "df_ab_data.head()"
   ]
  },
  {
   "cell_type": "code",
   "execution_count": 30,
   "metadata": {},
   "outputs": [
    {
     "data": {
      "text/plain": [
       "(8821, 2)"
      ]
     },
     "execution_count": 30,
     "metadata": {},
     "output_type": "execute_result"
    }
   ],
   "source": [
    "# Shape\n",
    "df_ab_data.shape"
   ]
  },
  {
   "cell_type": "code",
   "execution_count": 31,
   "metadata": {},
   "outputs": [],
   "source": [
    "# Change column names\n",
    "df_ab_data.columns = ['group', 'conversion']"
   ]
  },
  {
   "cell_type": "code",
   "execution_count": 32,
   "metadata": {},
   "outputs": [
    {
     "data": {
      "text/html": [
       "<div>\n",
       "<style scoped>\n",
       "    .dataframe tbody tr th:only-of-type {\n",
       "        vertical-align: middle;\n",
       "    }\n",
       "\n",
       "    .dataframe tbody tr th {\n",
       "        vertical-align: top;\n",
       "    }\n",
       "\n",
       "    .dataframe thead th {\n",
       "        text-align: right;\n",
       "    }\n",
       "</style>\n",
       "<table border=\"1\" class=\"dataframe\">\n",
       "  <thead>\n",
       "    <tr style=\"text-align: right;\">\n",
       "      <th></th>\n",
       "      <th>group</th>\n",
       "      <th>conversion</th>\n",
       "    </tr>\n",
       "  </thead>\n",
       "  <tbody>\n",
       "    <tr>\n",
       "      <td>5</td>\n",
       "      <td>A</td>\n",
       "      <td>False</td>\n",
       "    </tr>\n",
       "    <tr>\n",
       "      <td>7</td>\n",
       "      <td>B</td>\n",
       "      <td>False</td>\n",
       "    </tr>\n",
       "    <tr>\n",
       "      <td>9</td>\n",
       "      <td>A</td>\n",
       "      <td>False</td>\n",
       "    </tr>\n",
       "    <tr>\n",
       "      <td>10</td>\n",
       "      <td>A</td>\n",
       "      <td>False</td>\n",
       "    </tr>\n",
       "    <tr>\n",
       "      <td>11</td>\n",
       "      <td>A</td>\n",
       "      <td>False</td>\n",
       "    </tr>\n",
       "  </tbody>\n",
       "</table>\n",
       "</div>"
      ],
      "text/plain": [
       "   group  conversion\n",
       "5      A       False\n",
       "7      B       False\n",
       "9      A       False\n",
       "10     A       False\n",
       "11     A       False"
      ]
     },
     "execution_count": 32,
     "metadata": {},
     "output_type": "execute_result"
    }
   ],
   "source": [
    "# Visualize\n",
    "df_ab_data.head()"
   ]
  },
  {
   "cell_type": "code",
   "execution_count": 33,
   "metadata": {},
   "outputs": [],
   "source": [
    "# Pivot table for summary data\n",
    "df_ab_summary = df_ab_data.pivot_table(values = 'conversion', index = 'group', aggfunc = np.sum)"
   ]
  },
  {
   "cell_type": "code",
   "execution_count": 34,
   "metadata": {},
   "outputs": [
    {
     "data": {
      "text/html": [
       "<div>\n",
       "<style scoped>\n",
       "    .dataframe tbody tr th:only-of-type {\n",
       "        vertical-align: middle;\n",
       "    }\n",
       "\n",
       "    .dataframe tbody tr th {\n",
       "        vertical-align: top;\n",
       "    }\n",
       "\n",
       "    .dataframe thead th {\n",
       "        text-align: right;\n",
       "    }\n",
       "</style>\n",
       "<table border=\"1\" class=\"dataframe\">\n",
       "  <thead>\n",
       "    <tr style=\"text-align: right;\">\n",
       "      <th></th>\n",
       "      <th>conversion</th>\n",
       "    </tr>\n",
       "    <tr>\n",
       "      <th>group</th>\n",
       "      <th></th>\n",
       "    </tr>\n",
       "  </thead>\n",
       "  <tbody>\n",
       "    <tr>\n",
       "      <td>A</td>\n",
       "      <td>587.0</td>\n",
       "    </tr>\n",
       "    <tr>\n",
       "      <td>B</td>\n",
       "      <td>981.0</td>\n",
       "    </tr>\n",
       "  </tbody>\n",
       "</table>\n",
       "</div>"
      ],
      "text/plain": [
       "       conversion\n",
       "group            \n",
       "A           587.0\n",
       "B           981.0"
      ]
     },
     "execution_count": 34,
     "metadata": {},
     "output_type": "execute_result"
    }
   ],
   "source": [
    "# Visualize the data\n",
    "df_ab_summary.head()"
   ]
  },
  {
   "cell_type": "code",
   "execution_count": 35,
   "metadata": {},
   "outputs": [],
   "source": [
    "# Summary with total\n",
    "df_ab_summary['total'] = df_ab_data.pivot_table(values = 'conversion', index = 'group', aggfunc = lambda x: len(x))"
   ]
  },
  {
   "cell_type": "code",
   "execution_count": 36,
   "metadata": {},
   "outputs": [],
   "source": [
    "# Summary with rate\n",
    "df_ab_summary['rate'] = df_ab_data.pivot_table(values = 'conversion', index = 'group')"
   ]
  },
  {
   "cell_type": "code",
   "execution_count": 37,
   "metadata": {},
   "outputs": [
    {
     "data": {
      "text/html": [
       "<div>\n",
       "<style scoped>\n",
       "    .dataframe tbody tr th:only-of-type {\n",
       "        vertical-align: middle;\n",
       "    }\n",
       "\n",
       "    .dataframe tbody tr th {\n",
       "        vertical-align: top;\n",
       "    }\n",
       "\n",
       "    .dataframe thead th {\n",
       "        text-align: right;\n",
       "    }\n",
       "</style>\n",
       "<table border=\"1\" class=\"dataframe\">\n",
       "  <thead>\n",
       "    <tr style=\"text-align: right;\">\n",
       "      <th></th>\n",
       "      <th>conversion</th>\n",
       "      <th>total</th>\n",
       "      <th>rate</th>\n",
       "    </tr>\n",
       "    <tr>\n",
       "      <th>group</th>\n",
       "      <th></th>\n",
       "      <th></th>\n",
       "      <th></th>\n",
       "    </tr>\n",
       "  </thead>\n",
       "  <tbody>\n",
       "    <tr>\n",
       "      <td>A</td>\n",
       "      <td>587.0</td>\n",
       "      <td>3821</td>\n",
       "      <td>0.153625</td>\n",
       "    </tr>\n",
       "    <tr>\n",
       "      <td>B</td>\n",
       "      <td>981.0</td>\n",
       "      <td>5000</td>\n",
       "      <td>0.196200</td>\n",
       "    </tr>\n",
       "  </tbody>\n",
       "</table>\n",
       "</div>"
      ],
      "text/plain": [
       "       conversion  total      rate\n",
       "group                             \n",
       "A           587.0   3821  0.153625\n",
       "B           981.0   5000  0.196200"
      ]
     },
     "execution_count": 37,
     "metadata": {},
     "output_type": "execute_result"
    }
   ],
   "source": [
    "# Visualize the data\n",
    "df_ab_summary.head()"
   ]
  },
  {
   "cell_type": "code",
   "execution_count": 38,
   "metadata": {},
   "outputs": [],
   "source": [
    "# Get the values of variant A\n",
    "conversion_A = df_ab_summary['conversion'][0]\n",
    "total_A = df_ab_summary['total'][0]\n",
    "rate_A = df_ab_summary['rate'][0]"
   ]
  },
  {
   "cell_type": "code",
   "execution_count": 39,
   "metadata": {},
   "outputs": [
    {
     "name": "stdout",
     "output_type": "stream",
     "text": [
      "587.0\n",
      "3821\n",
      "0.15362470557445695\n"
     ]
    }
   ],
   "source": [
    "# Print the values of A\n",
    "print(conversion_A)\n",
    "print(total_A)\n",
    "print(rate_A)"
   ]
  },
  {
   "cell_type": "code",
   "execution_count": 40,
   "metadata": {},
   "outputs": [],
   "source": [
    "# Get the values of variant B\n",
    "conversion_B = df_ab_summary['conversion'][1]\n",
    "total_B = df_ab_summary['total'][1]\n",
    "rate_B = df_ab_summary['rate'][1]"
   ]
  },
  {
   "cell_type": "code",
   "execution_count": 41,
   "metadata": {},
   "outputs": [
    {
     "name": "stdout",
     "output_type": "stream",
     "text": [
      "981.0\n",
      "5000\n",
      "0.1962\n"
     ]
    }
   ],
   "source": [
    "# Print the values of B\n",
    "print(conversion_B)\n",
    "print(total_B)\n",
    "print(rate_B)"
   ]
  },
  {
   "cell_type": "markdown",
   "metadata": {},
   "source": [
    "Baseline conversion rate.\n",
    "\n",
    "Equal to $p$ in the context of a binomial distribution and $p$ is the probability of success."
   ]
  },
  {
   "cell_type": "code",
   "execution_count": 42,
   "metadata": {},
   "outputs": [
    {
     "data": {
      "text/plain": [
       "0.15362470557445695"
      ]
     },
     "execution_count": 42,
     "metadata": {},
     "output_type": "execute_result"
    }
   ],
   "source": [
    "# Baseline conversion rate.\n",
    "base_conversion = rate_A\n",
    "base_conversion"
   ]
  },
  {
   "cell_type": "markdown",
   "metadata": {},
   "source": [
    "Minimum Detectable Effect.\n",
    "\n",
    "Sometimes referred to as the practical significance level."
   ]
  },
  {
   "cell_type": "code",
   "execution_count": 43,
   "metadata": {},
   "outputs": [
    {
     "data": {
      "text/plain": [
       "0.04257529442554306"
      ]
     },
     "execution_count": 43,
     "metadata": {},
     "output_type": "execute_result"
    }
   ],
   "source": [
    "# Minimal detectable effect\n",
    "min_effect = rate_B - rate_A\n",
    "min_effect"
   ]
  },
  {
   "cell_type": "markdown",
   "metadata": {},
   "source": [
    "## Task 2 - Executing the Hypothesis Test\n",
    "\n",
    "We performed the hypothesis test and recorded the success rate for each group."
   ]
  },
  {
   "cell_type": "markdown",
   "metadata": {},
   "source": [
    "Statistical power or sensitivity.\n",
    "\n",
    "Equals 1 - $\\beta$.\n",
    "\n",
    "Typically 80% is used for most analyses. It is the probability of rejecting the null hypothesis when the null hypothesis is in fact false.\n",
    "\n",
    "Parameters we will use to run the test:\n",
    "\n",
    "1- Alpha (Significance level) $\\alpha$: normally 5%; probability of rejecting the null hypothesis when the null hypothesis is true\n",
    "\n",
    "2- Beta $\\beta$: probability of accepting the null hypothesis when the null hypothesis is really false."
   ]
  },
  {
   "cell_type": "code",
   "execution_count": 44,
   "metadata": {},
   "outputs": [],
   "source": [
    "# Parameters we will use to run the test\n",
    "alfa = 0.05\n",
    "beta = 0.2"
   ]
  },
  {
   "cell_type": "code",
   "execution_count": 45,
   "metadata": {},
   "outputs": [],
   "source": [
    "# Sample size\n",
    "n = 50000"
   ]
  },
  {
   "cell_type": "markdown",
   "metadata": {},
   "source": [
    "We can assume that the distribution of our control group is binomial because the data are a series of Bernoulli trials, where each trial has only two possible outcomes (similar to a coin toss).\n",
    " \n",
    "For the test we will use SciPy's binom() function"
   ]
  },
  {
   "cell_type": "code",
   "execution_count": 46,
   "metadata": {},
   "outputs": [],
   "source": [
    "# Binomial Test (using 5% default for significance level)\n",
    "binom_test = scs.binom(n, p = base_conversion)"
   ]
  },
  {
   "cell_type": "code",
   "execution_count": 47,
   "metadata": {},
   "outputs": [
    {
     "name": "stdout",
     "output_type": "stream",
     "text": [
      "Help on rv_frozen in module scipy.stats._distn_infrastructure object:\n",
      "\n",
      "class rv_frozen(builtins.object)\n",
      " |  rv_frozen(dist, *args, **kwds)\n",
      " |  \n",
      " |  # Frozen RV class\n",
      " |  \n",
      " |  Methods defined here:\n",
      " |  \n",
      " |  __init__(self, dist, *args, **kwds)\n",
      " |      Initialize self.  See help(type(self)) for accurate signature.\n",
      " |  \n",
      " |  cdf(self, x)\n",
      " |  \n",
      " |  entropy(self)\n",
      " |  \n",
      " |  expect(self, func=None, lb=None, ub=None, conditional=False, **kwds)\n",
      " |  \n",
      " |  interval(self, alpha)\n",
      " |  \n",
      " |  isf(self, q)\n",
      " |  \n",
      " |  logcdf(self, x)\n",
      " |  \n",
      " |  logpdf(self, x)\n",
      " |  \n",
      " |  logpmf(self, k)\n",
      " |  \n",
      " |  logsf(self, x)\n",
      " |  \n",
      " |  mean(self)\n",
      " |  \n",
      " |  median(self)\n",
      " |  \n",
      " |  moment(self, n)\n",
      " |  \n",
      " |  pdf(self, x)\n",
      " |  \n",
      " |  pmf(self, k)\n",
      " |  \n",
      " |  ppf(self, q)\n",
      " |  \n",
      " |  rvs(self, size=None, random_state=None)\n",
      " |  \n",
      " |  sf(self, x)\n",
      " |  \n",
      " |  stats(self, moments='mv')\n",
      " |  \n",
      " |  std(self)\n",
      " |  \n",
      " |  support(self)\n",
      " |  \n",
      " |  var(self)\n",
      " |  \n",
      " |  ----------------------------------------------------------------------\n",
      " |  Data descriptors defined here:\n",
      " |  \n",
      " |  __dict__\n",
      " |      dictionary for instance variables (if defined)\n",
      " |  \n",
      " |  __weakref__\n",
      " |      list of weak references to the object (if defined)\n",
      " |  \n",
      " |  random_state\n",
      "\n"
     ]
    }
   ],
   "source": [
    "help(binom_test)"
   ]
  },
  {
   "cell_type": "code",
   "execution_count": 48,
   "metadata": {},
   "outputs": [],
   "source": [
    "# Binomial test with the minimum effect (in our example 0.04 for the significance level)\n",
    "binom_test_mde = scs.binom(n, p = base_conversion + min_effect)"
   ]
  },
  {
   "cell_type": "markdown",
   "metadata": {},
   "source": [
    "Now we visualize the probability mass function (pmf)."
   ]
  },
  {
   "cell_type": "code",
   "execution_count": 49,
   "metadata": {},
   "outputs": [
    {
     "data": {
      "text/plain": [
       "<BarContainer object of 50001 artists>"
      ]
     },
     "execution_count": 49,
     "metadata": {},
     "output_type": "execute_result"
    },
    {
     "data": {
      "image/png": "[encoded data removed]",
      "text/plain": [
       "<Figure size 720x720 with 1 Axes>"
      ]
     },
     "metadata": {
      "needs_background": "light"
     },
     "output_type": "display_data"
    }
   ],
   "source": [
    "# Plot\n",
    "\n",
    "# Plot area\n",
    "fig, ax = plt.subplots(figsize = (10, 10))\n",
    "\n",
    "# Define multiple values for x\n",
    "x = np.linspace(0,int(n), int(n) + 1)\n",
    "\n",
    "# We plot the results with a pmf and an alpha of 0.5\n",
    "ax.bar(x, binom_test.pmf(x), alpha = 0.5)\n",
    "ax.bar(x, binom_test_mde.pmf(x), alpha = 0.5)"
   ]
  },
  {
   "cell_type": "markdown",
   "metadata": {},
   "source": [
    "## Task 3 - Distribution Plot\n",
    "\n",
    "We plot the distribution of the difference between the two samples and compare the results."
   ]
  },
  {
   "cell_type": "markdown",
   "metadata": {},
   "source": [
    "We can compare the two groups by plotting the control group's distribution and calculating the probability of getting our test group's result."
   ]
  },
  {
   "cell_type": "code",
   "execution_count": 50,
   "metadata": {},
   "outputs": [
    {
     "data": {
      "text/plain": [
       "Text(0, 0.5, 'Probability')"
      ]
     },
     "execution_count": 50,
     "metadata": {},
     "output_type": "execute_result"
    },
    {
     "data": {
      "image/png": "[encoded data removed]",
      "text/plain": [
       "<Figure size 1008x432 with 1 Axes>"
      ]
     },
     "metadata": {
      "needs_background": "light"
     },
     "output_type": "display_data"
    }
   ],
   "source": [
    "# Plot of the distribution of group A (control)\n",
    "\n",
    "# Plot area\n",
    "fig, ax = plt.subplots(figsize = (14,6))\n",
    "\n",
    "# A test\n",
    "x = np.linspace(conversion_A - 49, conversion_A + 50, 100)\n",
    "y = scs.binom(total_A, rate_A).pmf(x)\n",
    "\n",
    "# Create the vertical bar\n",
    "ax.bar(x, y, alpha = 0.5)\n",
    "ax.axvline(x = rate_B * rate_A, c = 'magenta', alpha = 0.75, linestyle = '--')\n",
    "\n",
    "# Labels\n",
    "plt.xlabel('Conversion')\n",
    "plt.ylabel('Probability')"
   ]
  },
  {
   "cell_type": "code",
   "execution_count": 51,
   "metadata": {},
   "outputs": [
    {
     "data": {
      "text/plain": [
       "Text(0, 0.5, 'Probability')"
      ]
     },
     "execution_count": 51,
     "metadata": {},
     "output_type": "execute_result"
    },
    {
     "data": {
      "image/png": "[encoded data removed]",
      "text/plain": [
       "<Figure size 1008x432 with 1 Axes>"
      ]
     },
     "metadata": {
      "needs_background": "light"
     },
     "output_type": "display_data"
    }
   ],
   "source": [
    "# Plot of the distribution of the 2 groups\n",
    "\n",
    "# Plot area\n",
    "fig, ax = plt.subplots(figsize = (14,6))\n",
    "\n",
    "# A Chart\n",
    "xA = np.linspace(conversion_A - 49, conversion_A + 50, 100)\n",
    "yA = scs.binom(total_A, rate_A).pmf(xA)\n",
    "ax.bar(xA, yA, alpha = 0.5)\n",
    "\n",
    "# B Chart\n",
    "xB = np.linspace(conversion_B - 49, conversion_B + 50, 100)\n",
    "yB = scs.binom(total_B, rate_B).pmf(xB)\n",
    "ax.bar(xB, yB, alpha = 0.5)\n",
    "\n",
    "# Labels\n",
    "plt.xlabel('Conversion')\n",
    "plt.ylabel('Probability')"
   ]
  },
  {
   "cell_type": "markdown",
   "metadata": {},
   "source": [
    "We can see that the test group converted more users than the control group. We can also see that the peak results of the test group are lower than those of the control group.\n",
    "\n",
    "But how do we interpret the difference in peak probability?\n",
    "\n",
    "We should focus instead on the conversion rate so that we have a like-for-like comparison. To calculate this, we need to standardize the data and compare the probability of success, p, for each group."
   ]
  },
  {
   "cell_type": "code",
   "execution_count": 52,
   "metadata": {},
   "outputs": [],
   "source": [
    "# Set variable names\n",
    "\n",
    "# Odds (conversion rates)\n",
    "p_A = rate_A\n",
    "p_B = rate_B\n",
    "\n",
    "# Number of conversions\n",
    "N_A = 3821\n",
    "N_B = 5000"
   ]
  },
  {
   "cell_type": "code",
   "execution_count": 53,
   "metadata": {},
   "outputs": [],
   "source": [
    "# Standard error for the mean of both groups\n",
    "SE_A = np.sqrt(p_A * (1 - p_A)) / np.sqrt(total_A)\n",
    "SE_B = np.sqrt(p_B * (1 - p_B)) / np.sqrt(total_B)"
   ]
  },
  {
   "cell_type": "code",
   "execution_count": 54,
   "metadata": {},
   "outputs": [
    {
     "name": "stdout",
     "output_type": "stream",
     "text": [
      "0.005833423432971666\n",
      "0.0056161474339621814\n"
     ]
    }
   ],
   "source": [
    "# Print\n",
    "print(SE_A)\n",
    "print(SE_B)"
   ]
  },
  {
   "cell_type": "code",
   "execution_count": 55,
   "metadata": {},
   "outputs": [
    {
     "data": {
      "text/plain": [
       "Text(0, 0.5, 'PDF - Probability Density Function')"
      ]
     },
     "execution_count": 55,
     "metadata": {},
     "output_type": "execute_result"
    },
    {
     "data": {
      "image/png": "[encoded data removed]",
      "text/plain": [
       "<Figure size 1008x432 with 1 Axes>"
      ]
     },
     "metadata": {
      "needs_background": "light"
     },
     "output_type": "display_data"
    }
   ],
   "source": [
    "# Plot of the distributions of the null and alternative hypotheses\n",
    "\n",
    "# Plot area\n",
    "fig, ax = plt.subplots(figsize = (14,6))\n",
    "\n",
    "# Data for the random variable\n",
    "x = np.linspace(0, p_B - p_A, 100)\n",
    "\n",
    "# Distribution of A\n",
    "yA = scs.norm(p_A, SE_A).pdf(x)\n",
    "ax.plot(xA, yA)\n",
    "ax.axvline(x = p_A, c = 'blue', alpha = 0.5, linestyle = '--')\n",
    "\n",
    "# Distribution of B\n",
    "yB = scs.norm(p_B, SE_B).pdf(x)\n",
    "ax.plot(xB, yB)\n",
    "ax.axvline(x = p_B, c = 'red', alpha = 0.5, linestyle = '--')\n",
    "\n",
    "# Labels\n",
    "plt.xlabel('Conversion Ratio')\n",
    "plt.ylabel('PDF - Probability Density Function')"
   ]
  },
  {
   "cell_type": "markdown",
   "metadata": {},
   "source": [
    "The solid lines represent the average conversion rate for each group. The distance between the blue line and the red line is equal to the mean difference between the control and test group."
   ]
  },
  {
   "cell_type": "markdown",
   "metadata": {},
   "source": [
    "**Sum variance**\n",
    "\n",
    "Remember that the null hypothesis states that the probability difference between the two groups is zero. Therefore, the mean for this normal distribution will be zero. The other property we will need for the normal distribution is the standard deviation or the variance.\n",
    "\n",
    "Note: The variance is the standard deviation squared. The variance of the difference will depend on the probability variances for both groups."
   ]
  },
  {
   "cell_type": "markdown",
   "metadata": {},
   "source": [
    "### Checking the Null Hypothesis and the Alternative Hypothesis\n",
    "\n",
    "**The null hypothesis is the position that the design change made to the test group would result in no change in conversion rate.**\n",
    "\n",
    "**The alternative hypothesis is the opposing position that changing the design of the test group would result in an improvement (or decrease) in the conversion rate.**\n",
    "\n",
    "The null hypothesis will be a normal distribution with a mean of zero and a standard deviation equal to the pooled standard error."
   ]
  },
  {
   "cell_type": "markdown",
   "metadata": {},
   "source": [
    "The alternative hypothesis has the same standard deviation as the null hypothesis, but the mean will be located at the difference in conversion rate, d_hat. This makes sense because we can calculate the difference in conversion rates directly from the data, but the normal distribution represents possible values our experiment could have given us."
   ]
  },
  {
   "cell_type": "code",
   "execution_count": 56,
   "metadata": {},
   "outputs": [],
   "source": [
    "# Calculating the pooled probability\n",
    "group_prob = (p_A * N_A + p_B * N_B) / (N_A + N_B)"
   ]
  },
  {
   "cell_type": "code",
   "execution_count": 57,
   "metadata": {},
   "outputs": [
    {
     "data": {
      "text/plain": [
       "5.1827257006909795"
      ]
     },
     "execution_count": 57,
     "metadata": {},
     "output_type": "execute_result"
    }
   ],
   "source": [
    "# Calculating z\n",
    "z = (p_B - p_A) / (group_prob * (1 - group_prob) * (1 / N_A + 1 / N_B))**0.5\n",
    "z"
   ]
  },
  {
   "cell_type": "code",
   "execution_count": 58,
   "metadata": {},
   "outputs": [
    {
     "data": {
      "text/plain": [
       "True"
      ]
     },
     "execution_count": 58,
     "metadata": {},
     "output_type": "execute_result"
    }
   ],
   "source": [
    "# Check if z is greater than 1.64 (0.05 significance level)\n",
    "z > 1.64"
   ]
  },
  {
   "cell_type": "markdown",
   "metadata": {},
   "source": [
    "### Probability Distribution Plot\n",
    "\n",
    "We will create a series of auxiliary functions for plotting probability distributions"
   ]
  },
  {
   "cell_type": "code",
   "execution_count": 59,
   "metadata": {},
   "outputs": [],
   "source": [
    "# Function that returns the pooled probability for 2 samples\n",
    "def group_prob_func(N_A, N_B, X_A, X_B):\n",
    "    return (X_A + X_B) / (N_A + N_B)"
   ]
  },
  {
   "cell_type": "code",
   "execution_count": 60,
   "metadata": {},
   "outputs": [],
   "source": [
    "# Function that returns grouped standard error for 2 samples\n",
    "def standard_error_group_func(N_A, N_B, X_A, X_B):\n",
    "    p_hat = group_prob_func(N_A, N_B, X_A, X_B)\n",
    "    SE = np.sqrt(p_hat * (1 - p_hat) * (1 / N_A + 1 / N_B))\n",
    "    return SE"
   ]
  },
  {
   "cell_type": "code",
   "execution_count": 61,
   "metadata": {},
   "outputs": [],
   "source": [
    "# Returns the z value for a given significance level\n",
    "def z_val(sig_level = 0.05, two_tailed = True):\n",
    "    \n",
    "    # Generate distribution for the z value\n",
    "    z_dist = scs.norm()\n",
    "    \n",
    "    # Check if we should check both tails\n",
    "    if two_tailed:\n",
    "        sig_level = sig_level/2\n",
    "        area = 1 - sig_level\n",
    "    else:\n",
    "        area = 1 - sig_level\n",
    "\n",
    "    # Z value\n",
    "    z = z_dist.ppf(area)\n",
    "\n",
    "    return z"
   ]
  },
  {
   "cell_type": "code",
   "execution_count": 62,
   "metadata": {},
   "outputs": [],
   "source": [
    "# Calculate the confidence interval\n",
    "def confidence_interval(sample_mean = 0, sample_std = 1, sample_size = 1, sig_level = 0.05):\n",
    "    \n",
    "    # Calculate the value of z\n",
    "    z = z_val(sig_level)\n",
    "\n",
    "    # Limits left and right\n",
    "    left = sample_mean - z * sample_std / np.sqrt(sample_size)\n",
    "    right = sample_mean + z * sample_std / np.sqrt(sample_size)\n",
    "\n",
    "    return (left, right)"
   ]
  },
  {
   "cell_type": "code",
   "execution_count": 63,
   "metadata": {},
   "outputs": [],
   "source": [
    "# Function that calculates the confidence interval of two tails\n",
    "def plot_CI(ax, \n",
    "            mu, \n",
    "            s, \n",
    "            sig_level = 0.05, \n",
    "            color = 'grey'):\n",
    "\n",
    "    # Calculate the confidence interval\n",
    "    left, right = confidence_interval(sample_mean = mu, sample_std = s, sig_level = sig_level)\n",
    "    \n",
    "    # Include the range in the graph\n",
    "    ax.axvline(left, c = color, linestyle = '--', alpha = 0.5)\n",
    "    ax.axvline(right, c = color, linestyle = '--', alpha = 0.5)"
   ]
  },
  {
   "cell_type": "code",
   "execution_count": 64,
   "metadata": {},
   "outputs": [],
   "source": [
    "# Function to plot a normal distribution\n",
    "def plot_norm_dist(ax, \n",
    "                   mu, \n",
    "                   std, \n",
    "                   with_CI = False, \n",
    "                   sig_level = 0.05, \n",
    "                   label = None):\n",
    "\n",
    "    # Generate values for the random variable x\n",
    "    x = np.linspace(mu - 12 * std, mu + 12 * std, 1000)\n",
    "    \n",
    "    # Create the normal distribution\n",
    "    y = scs.norm(mu, std).pdf(x)\n",
    "    \n",
    "    # Plot\n",
    "    ax.plot(x, y, label = label)\n",
    "\n",
    "    # If we have a confidence interval, we include it in the plot\n",
    "    if with_CI:\n",
    "        plot_CI(ax, mu, std, sig_level = sig_level)"
   ]
  },
  {
   "cell_type": "markdown",
   "metadata": {},
   "source": [
    "Function to plot the null hypothesis distribution where, if there is no real change, the distribution of differences between test and control groups will be normally distributed."
   ]
  },
  {
   "cell_type": "code",
   "execution_count": 65,
   "metadata": {},
   "outputs": [],
   "source": [
    "# Function to plot the distribution of H0\n",
    "def plot_H0(ax, stderr):\n",
    "    plot_norm_dist(ax, 0, stderr, label = \"H0 - Null Hypothesis\")\n",
    "    plot_CI(ax, mu = 0, s = stderr, sig_level = 0.05)"
   ]
  },
  {
   "cell_type": "markdown",
   "metadata": {},
   "source": [
    "Function to plot the alternative hypothesis distribution where, if there is an actual change, the distribution of differences between the test and control groups will be normally distributed and centered around d_hat"
   ]
  },
  {
   "cell_type": "code",
   "execution_count": 66,
   "metadata": {},
   "outputs": [],
   "source": [
    "# Function to plot the distribution of H1\n",
    "def plot_H1(ax, stderr, d_hat):\n",
    "    plot_norm_dist(ax, d_hat, stderr, label = \"H1 - Alternative Hypothesis\")"
   ]
  },
  {
   "cell_type": "code",
   "execution_count": 67,
   "metadata": {},
   "outputs": [],
   "source": [
    "# Function that fills between upper significance limit and distribution for alternative hypothesis\n",
    "def show_area(ax, d_hat, stderr, sig_level):\n",
    "\n",
    "    # Confidence interval\n",
    "    left, right = confidence_interval(sample_mean = 0, sample_std = stderr, sig_level = sig_level)\n",
    "    \n",
    "    # Values for x\n",
    "    x = np.linspace(-12 * stderr, 12 * stderr, 1000)\n",
    "    \n",
    "    # H0\n",
    "    null = ab_dist(stderr, 'control')\n",
    "    \n",
    "    # H1\n",
    "    alternative = ab_dist(stderr, d_hat, 'test')\n",
    "\n",
    "    # If the type of the area equals power\n",
    "    # We fill between the upper significance limit and the distribution for alternative hypothesis\n",
    "    ax.fill_between(x, 0, alternative.pdf(x), color = 'green', alpha = 0.25, where = (x > right))\n",
    "    ax.text(-3 * stderr, null.pdf(0), 'power = {0:.3f}'.format(1 - alternative.cdf(right)), \n",
    "                fontsize = 12, ha = 'right', color = 'k')"
   ]
  },
  {
   "cell_type": "code",
   "execution_count": 68,
   "metadata": {},
   "outputs": [],
   "source": [
    "# Function that returns a distribution object depending on the group type\n",
    "def ab_dist(stderr, d_hat = 0, group_type = 'control'):\n",
    "\n",
    "    # Check the group type\n",
    "    if group_type == 'control':\n",
    "        sample_mean = 0\n",
    "    elif group_type == 'test':\n",
    "        sample_mean = d_hat\n",
    "\n",
    "    # Create a normal distribution that depends on the mean and standard deviation\n",
    "    dist = scs.norm(sample_mean, stderr)\n",
    "    return dist"
   ]
  },
  {
   "cell_type": "code",
   "execution_count": 69,
   "metadata": {},
   "outputs": [],
   "source": [
    "# Function that returns the value p\n",
    "def p_val(N_A, N_B, p_A, p_B):\n",
    "    return scs.binom(N_A, p_A).pmf(p_B * N_B)"
   ]
  },
  {
   "cell_type": "code",
   "execution_count": 70,
   "metadata": {},
   "outputs": [],
   "source": [
    "# Function to plot the A/B Test analysis\n",
    "def abplot_func(N_A, \n",
    "                N_B, \n",
    "                bcr, \n",
    "                d_hat, \n",
    "                sig_level = 0.05, \n",
    "                show_p_value = False,\n",
    "                show_legend = True):\n",
    "   \n",
    "    # Set the plot area\n",
    "    fig, ax = plt.subplots(figsize = (14, 8))\n",
    "\n",
    "    # Define parameters to find the grouped standard error\n",
    "    X_A = bcr * N_A\n",
    "    X_B = (bcr + d_hat) * N_B\n",
    "    stderr = standard_error_group_func(N_A, N_B, X_A, X_B)\n",
    "\n",
    "    # Null and alternative hypothesis distribution plot\n",
    "    plot_H0(ax, stderr)\n",
    "    plot_H1(ax, stderr, d_hat)\n",
    "\n",
    "    # Definir a extensão da área do plot\n",
    "    ax.set_xlim(-8 * stderr, 8 * stderr)\n",
    "\n",
    "    # Adjust the graph and fill the inner area\n",
    "    show_area(ax, d_hat, stderr, sig_level)\n",
    "\n",
    "    # We show p-values based on the distributions for the two groups\n",
    "    if show_p_value:\n",
    "        null = ab_dist(stderr, 'control')\n",
    "        p_value = p_val(N_A, N_B, bcr, bcr + d_hat)\n",
    "        ax.text(3 * stderr, null.pdf(0), 'P-Value = {0:.4f}'.format(p_value), fontsize = 14, ha = 'left')\n",
    "\n",
    "    # Show legend\n",
    "    if show_legend:\n",
    "        plt.legend()\n",
    "\n",
    "    plt.xlabel('d')\n",
    "    plt.ylabel('PDF')\n",
    "    plt.show()"
   ]
  },
  {
   "cell_type": "markdown",
   "metadata": {},
   "source": [
    "Now that we understand the derivation of the combined standard error, we can just directly plot the null and alternative hypotheses for future experiments."
   ]
  },
  {
   "cell_type": "code",
   "execution_count": 71,
   "metadata": {},
   "outputs": [
    {
     "data": {
      "image/png": "[encoded data removed]",
      "text/plain": [
       "<Figure size 1008x576 with 1 Axes>"
      ]
     },
     "metadata": {
      "needs_background": "light"
     },
     "output_type": "display_data"
    }
   ],
   "source": [
    "# We define the parameters and execute the function\n",
    "n = N_A + N_B\n",
    "base_conversion = p_A  \n",
    "d_hat = p_B - p_A\n",
    "abplot_func(N_A, N_B, base_conversion, d_hat, show_p_value = True)"
   ]
  },
  {
   "cell_type": "markdown",
   "metadata": {},
   "source": [
    "Visually, the plot for the null and alternative hypotheses looks very similar to the other plots above. Fortunately, the two curves are identical in shape, so we can only compare the distance between the means of the two distributions. We can see that the alternative hypothesis curve suggests that the test group has a higher conversion rate than the control group. This graph can also be used to directly determine statistical power."
   ]
  },
  {
   "cell_type": "markdown",
   "metadata": {},
   "source": [
    "## Task 4 - Calculating Statistical Power\n",
    "\n",
    "Statistical Power and Significance Level"
   ]
  },
  {
   "cell_type": "markdown",
   "metadata": {},
   "source": [
    "It is easier to define the statistical power and significance level by first showing how they are plotted on the null and alternative hypothesis graph. We can return a visualization of the stat power by adding the parameter show_power = True"
   ]
  },
  {
   "cell_type": "code",
   "execution_count": 72,
   "metadata": {
    "scrolled": false
   },
   "outputs": [
    {
     "data": {
      "image/png": "[encoded data removed]",
      "text/plain": [
       "<Figure size 1008x576 with 1 Axes>"
      ]
     },
     "metadata": {
      "needs_background": "light"
     },
     "output_type": "display_data"
    }
   ],
   "source": [
    "# Run the function\n",
    "abplot_func(N_A, N_B, base_conversion, d_hat, show_p_value = True)"
   ]
  },
  {
   "cell_type": "markdown",
   "metadata": {},
   "source": [
    "The green shaded area represents the statistical power and the calculated value for the power is also displayed on the graph. The gray dashed lines in the graph above represent the confidence interval (95% for the graph above) for the null hypothesis. Statistical power is calculated by finding the area under the alternative hypothesis distribution and outside the null hypothesis confidence interval.\n",
    "\n",
    "After running our experiment, we get a resulting conversion rate for both groups. If we calculate the difference between the conversion rates, we end up with a result, the difference or the effect of changing the design of the webpage, not showing user ratings. Our task is to determine which population this result came from, the null hypothesis or the alternative hypothesis.\n",
    "\n",
    "The area under the curve of the alternative hypothesis is equal to 1. If the alternative design (no evaluations) is actually better, the power is the probability that we accept the alternative hypothesis and reject the null hypothesis and is equal to the area shaded in green (true positive). The opposite area under the alternative curve is the probability of not rejecting the null hypothesis and rejecting the alternative hypothesis (false negative). This is known as beta in A/B testing or hypothesis testing and is shown below."
   ]
  },
  {
   "cell_type": "markdown",
   "metadata": {},
   "source": [
    "If the null hypothesis is true and there really is no difference between the control and test groups, the significance level is the probability that we reject the null hypothesis and accept the alternative hypothesis (false positive). A false positive is when we mistakenly conclude that the new design is better. This value is low because we want to limit this probability.\n",
    "\n",
    "Often, a problem will be provided with a desired confidence level rather than a significance level. A typical 95% confidence level for an A/B test corresponds to a significance level of 0.05."
   ]
  },
  {
   "cell_type": "markdown",
   "metadata": {},
   "source": [
    "Experiments are typically set to a minimum desired power of 80%. If our new design is really better, we want our experiment to show that there is at least an 80% probability that this is the case. We know that if we increase the sample size for each group, we decrease the combined variance for our null and alternative hypotheses. This will make our distributions much narrower and can increase statistical power. Let's take a look at how sample size will directly affect our results."
   ]
  },
  {
   "cell_type": "markdown",
   "metadata": {},
   "source": [
    "## Task 5 - Influence of Sample Size on A/B Testing"
   ]
  },
  {
   "cell_type": "markdown",
   "metadata": {},
   "source": [
    "Our curves for the null and alternative hypothesis have become narrower, and more of the area under the alternative curve is located to the right of the gray dashed line. The result for power is greater than 0.80 and meets our statistical power reference. Now we can say that our results are statistically significant.\n",
    "\n",
    "The next problem we must encounter is determining the minimum sample size we will need for the experiment. And that's useful to know because it's directly related to how quickly we can complete experiments and deliver statistically meaningful results to the business."
   ]
  },
  {
   "cell_type": "code",
   "execution_count": 73,
   "metadata": {},
   "outputs": [
    {
     "data": {
      "image/png": "[encoded data removed]",
      "text/plain": [
       "<Figure size 1008x576 with 1 Axes>"
      ]
     },
     "metadata": {
      "needs_background": "light"
     },
     "output_type": "display_data"
    }
   ],
   "source": [
    "# Run the function\n",
    "abplot_func(2000, 2000, base_conversion, d_hat)"
   ]
  },
  {
   "cell_type": "markdown",
   "metadata": {},
   "source": [
    "We have the baseline conversion rate and the minimum detectable effect, which is the minimum difference between the control and test group that the business team will determine to be worth the investment of making the design change in the first place."
   ]
  },
  {
   "cell_type": "code",
   "execution_count": 74,
   "metadata": {},
   "outputs": [],
   "source": [
    "# Function to include the z value in the plot\n",
    "def zplot(area = 0.95, two_tailed = True, align_right = False):\n",
    "\n",
    "    # Create the plot area\n",
    "    fig = plt.figure(figsize = (12, 6))\n",
    "    ax = fig.subplots()\n",
    "    \n",
    "    # Create the normal distribution\n",
    "    norm = scs.norm()\n",
    "    \n",
    "    # Create the data points for the plot\n",
    "    x = np.linspace(-5, 5, 1000)\n",
    "    y = norm.pdf(x)\n",
    "\n",
    "    ax.plot(x, y)\n",
    "\n",
    "    # Code to populate areas for bidirectional tests\n",
    "    if two_tailed:\n",
    "        left = norm.ppf(0.5 - area / 2)\n",
    "        right = norm.ppf(0.5 + area / 2)\n",
    "        ax.vlines(right, 0, norm.pdf(right), color = 'grey', linestyle = '--')\n",
    "        ax.vlines(left, 0, norm.pdf(left), color = 'grey', linestyle = '--')\n",
    "\n",
    "        ax.fill_between(x, 0, y, color = 'grey', alpha = 0.25, where = (x > left) & (x < right))\n",
    "        \n",
    "        plt.xlabel('z')\n",
    "        plt.ylabel('PDF')\n",
    "        plt.text(left, norm.pdf(left), \"z = {0:.3f}\".format(left), \n",
    "                 fontsize = 12, \n",
    "                 rotation = 90, \n",
    "                 va = \"bottom\", \n",
    "                 ha = \"right\")\n",
    "        plt.text(right, norm.pdf(right), \"z = {0:.3f}\".format(right), \n",
    "                 fontsize = 12, \n",
    "                 rotation = 90, \n",
    "                 va = \"bottom\", \n",
    "                 ha = \"left\")\n",
    "    \n",
    "    # For one-tail tests\n",
    "    else:\n",
    "        # Align right\n",
    "        if align_right:\n",
    "            left = norm.ppf(1-area)\n",
    "            ax.vlines(left, 0, norm.pdf(left), color = 'grey', linestyle = '--')\n",
    "            ax.fill_between(x, 0, y, color = 'grey', alpha = 0.25, where = x > left)\n",
    "            plt.text(left, norm.pdf(left), \"z = {0:.3f}\".format(left), \n",
    "                     fontsize = 12, \n",
    "                     rotation = 90, \n",
    "                     va = \"bottom\", \n",
    "                     ha = \"right\")\n",
    "        \n",
    "        # Align left\n",
    "        else:\n",
    "            right = norm.ppf(area)\n",
    "            ax.vlines(right, 0, norm.pdf(right), color = 'grey', linestyle = '--')\n",
    "            ax.fill_between(x, 0, y, color = 'grey', alpha = 0.25, where = x < right)\n",
    "            plt.text(right, norm.pdf(right), \"z = {0:.3f}\".format(right), \n",
    "                     fontsize = 12, \n",
    "                     rotation = 90, \n",
    "                     va = \"bottom\", \n",
    "                     ha = \"left\")\n",
    "\n",
    "    # Include text in the plot\n",
    "    plt.text(0, 0.1, \"Shaded Area = {0:.3f}\".format(area), fontsize = 12, ha = 'center')\n",
    "    \n",
    "    # Labels\n",
    "    plt.xlabel('z')\n",
    "    plt.ylabel('PDF')\n",
    "\n",
    "    plt.show()"
   ]
  },
  {
   "cell_type": "code",
   "execution_count": 75,
   "metadata": {},
   "outputs": [
    {
     "name": "stdout",
     "output_type": "stream",
     "text": [
      "5.1827257006909795\n",
      "1.6448536269514722\n",
      "True\n"
     ]
    }
   ],
   "source": [
    "# Print the z value\n",
    "print(z)\n",
    "print(z_val(sig_level = 0.05, two_tailed = False))\n",
    "print(z > z_val(sig_level = 0.05, two_tailed = False))"
   ]
  },
  {
   "cell_type": "code",
   "execution_count": 76,
   "metadata": {},
   "outputs": [
    {
     "data": {
      "image/png": "[encoded data removed]",
      "text/plain": [
       "<Figure size 864x432 with 1 Axes>"
      ]
     },
     "metadata": {
      "needs_background": "light"
     },
     "output_type": "display_data"
    }
   ],
   "source": [
    "# Z plot\n",
    "zplot(area = 0.95, two_tailed = False, align_right = False)"
   ]
  },
  {
   "cell_type": "code",
   "execution_count": 77,
   "metadata": {},
   "outputs": [
    {
     "name": "stdout",
     "output_type": "stream",
     "text": [
      "0.8416212335729143\n",
      "1.6448536269514722\n"
     ]
    }
   ],
   "source": [
    "# Calculate z alpha and beta values\n",
    "sig_level = 0.05\n",
    "beta = 0.2\n",
    "k = N_A/N_B\n",
    "standard_norm = scs.norm(0, 1)\n",
    "Z_beta = standard_norm.ppf(1-beta)\n",
    "Z_alpha = standard_norm.ppf(1-sig_level)\n",
    "print(Z_beta)\n",
    "print(Z_alpha)"
   ]
  },
  {
   "cell_type": "markdown",
   "metadata": {},
   "source": [
    "Let's calculate the minimum sample size needed."
   ]
  },
  {
   "cell_type": "code",
   "execution_count": 78,
   "metadata": {},
   "outputs": [],
   "source": [
    "# Function to find the minimum sample size\n",
    "def calculate_min_samples_size(N_A, \n",
    "                               N_B, \n",
    "                               p_A, \n",
    "                               p_B, \n",
    "                               power = 0.8, \n",
    "                               sig_level = 0.05, \n",
    "                               two_sided = False):\n",
    "   \n",
    "    k = N_A/N_B\n",
    "    \n",
    "    # Normal distribution to determine the z values\n",
    "    standard_norm = scs.norm(0, 1)\n",
    "\n",
    "    # We find the z value for the statistical power\n",
    "    Z_beta = standard_norm.ppf(power)\n",
    "    \n",
    "    # We find z alpha\n",
    "    if two_sided == True:\n",
    "        Z_alpha = standard_norm.ppf(1-sig_level/2)\n",
    "    else:\n",
    "        Z_alpha = standard_norm.ppf(1-sig_level)\n",
    "\n",
    "    # clustered probability\n",
    "    pooled_prob = (p_A + p_B) / 2\n",
    "\n",
    "    # Minimum sample size\n",
    "    min_N = (2 * pooled_prob * (1 - pooled_prob) * (Z_beta + Z_alpha)**2 / min_effect**2)    \n",
    "\n",
    "    return min_N"
   ]
  },
  {
   "cell_type": "code",
   "execution_count": 79,
   "metadata": {},
   "outputs": [
    {
     "data": {
      "text/plain": [
       "1249.8068972849476"
      ]
     },
     "execution_count": 79,
     "metadata": {},
     "output_type": "execute_result"
    }
   ],
   "source": [
    "# Calculate the minimum sample size with two_sided = True\n",
    "calculate_min_samples_size(N_A, N_B, p_A, p_B, power = 0.8, sig_level = 0.05, two_sided = True)"
   ]
  },
  {
   "cell_type": "code",
   "execution_count": 80,
   "metadata": {},
   "outputs": [
    {
     "data": {
      "text/plain": [
       "984.4720435225323"
      ]
     },
     "execution_count": 80,
     "metadata": {},
     "output_type": "execute_result"
    }
   ],
   "source": [
    "# Calculate the minimum sample size with two_sided = False\n",
    "calculate_min_samples_size(N_A, N_B, p_A, p_B, power = 0.8, sig_level = 0.05, two_sided = False)"
   ]
  },
  {
   "cell_type": "markdown",
   "metadata": {},
   "source": [
    "Now let's calculate the minimum sample size considering our baseline."
   ]
  },
  {
   "cell_type": "code",
   "execution_count": 81,
   "metadata": {},
   "outputs": [
    {
     "data": {
      "text/plain": [
       "0.1962"
      ]
     },
     "execution_count": 81,
     "metadata": {},
     "output_type": "execute_result"
    }
   ],
   "source": [
    "base_conversion + min_effect"
   ]
  },
  {
   "cell_type": "code",
   "execution_count": 82,
   "metadata": {},
   "outputs": [
    {
     "data": {
      "text/plain": [
       "0.1749123527872285"
      ]
     },
     "execution_count": 82,
     "metadata": {},
     "output_type": "execute_result"
    }
   ],
   "source": [
    "# Calculate the pooled probability\n",
    "group_prob = (base_conversion + base_conversion + min_effect) / 2\n",
    "group_prob"
   ]
  },
  {
   "cell_type": "code",
   "execution_count": 83,
   "metadata": {},
   "outputs": [
    {
     "data": {
      "text/plain": [
       "2.4864748605243863"
      ]
     },
     "execution_count": 83,
     "metadata": {},
     "output_type": "execute_result"
    }
   ],
   "source": [
    "# Sum of z alpha and beta\n",
    "Z_beta + Z_alpha"
   ]
  },
  {
   "cell_type": "code",
   "execution_count": 84,
   "metadata": {},
   "outputs": [
    {
     "data": {
      "text/plain": [
       "984.4720435225323"
      ]
     },
     "execution_count": 84,
     "metadata": {},
     "output_type": "execute_result"
    }
   ],
   "source": [
    "# Minimum sample size for the baseline\n",
    "min_N = (2 * group_prob * (1 - group_prob) * (Z_beta + Z_alpha)**2 / min_effect**2)\n",
    "min_N"
   ]
  },
  {
   "cell_type": "markdown",
   "metadata": {},
   "source": [
    "Statistical power for the baseline."
   ]
  },
  {
   "cell_type": "code",
   "execution_count": 85,
   "metadata": {
    "scrolled": false
   },
   "outputs": [
    {
     "data": {
      "image/png": "[encoded data removed]",
      "text/plain": [
       "<Figure size 1008x576 with 1 Axes>"
      ]
     },
     "metadata": {
      "needs_background": "light"
     },
     "output_type": "display_data"
    }
   ],
   "source": [
    "# Run the function for 984 samples\n",
    "abplot_func(N_A = 984, \n",
    "            N_B = 984, \n",
    "            bcr = p_A, \n",
    "            d_hat = p_B - p_A, \n",
    "            sig_level = 0.05, \n",
    "            show_p_value = False, \n",
    "            show_legend = True)"
   ]
  },
  {
   "cell_type": "markdown",
   "metadata": {},
   "source": [
    "Statistical power for the calculated sample size."
   ]
  },
  {
   "cell_type": "code",
   "execution_count": 86,
   "metadata": {},
   "outputs": [
    {
     "data": {
      "image/png": "[encoded data removed]",
      "text/plain": [
       "<Figure size 1008x576 with 1 Axes>"
      ]
     },
     "metadata": {
      "needs_background": "light"
     },
     "output_type": "display_data"
    }
   ],
   "source": [
    "# Run the function for 1249 samples\n",
    "abplot_func(N_A = 1249, \n",
    "            N_B = 1249, \n",
    "            bcr = p_A, \n",
    "            d_hat = p_B - p_A, \n",
    "            sig_level = 0.05, \n",
    "            show_p_value = False, \n",
    "            show_legend = True)"
   ]
  },
  {
   "cell_type": "markdown",
   "metadata": {},
   "source": [
    "## Conclusion and Final Considerations"
   ]
  },
  {
   "cell_type": "markdown",
   "metadata": {},
   "source": [
    "The calculated power for this sample size was approximately 0.80. So to claim that the page change removing user reviews actually increased the conversion rate we need at least 1249 samples."
   ]
  },
  {
   "cell_type": "markdown",
   "metadata": {},
   "source": [
    "# End"
   ]
  }
 ],
 "metadata": {
  "kernelspec": {
   "display_name": "Python 3",
   "language": "python",
   "name": "python3"
  },
  "language_info": {
   "codemirror_mode": {
    "name": "ipython",
    "version": 3
   },
   "file_extension": ".py",
   "mimetype": "text/x-python",
   "name": "python",
   "nbconvert_exporter": "python",
   "pygments_lexer": "ipython3",
   "version": "3.7.16"
  }
 },
 "nbformat": 4,
 "nbformat_minor": 2
}
